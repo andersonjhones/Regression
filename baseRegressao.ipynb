{
  "nbformat": 4,
  "nbformat_minor": 0,
  "metadata": {
    "colab": {
      "name": "baseRegressao.ipynb",
      "provenance": [],
      "collapsed_sections": [],
      "include_colab_link": true
    },
    "kernelspec": {
      "name": "python3",
      "display_name": "Python 3"
    },
    "language_info": {
      "name": "python"
    },
    "gpuClass": "standard",
    "widgets": {
      "application/vnd.jupyter.widget-state+json": {
        "2ac5ae27659745d69418af99ffbf6689": {
          "model_module": "@jupyter-widgets/controls",
          "model_name": "IntProgressModel",
          "model_module_version": "1.5.0",
          "state": {
            "_dom_classes": [],
            "_model_module": "@jupyter-widgets/controls",
            "_model_module_version": "1.5.0",
            "_model_name": "IntProgressModel",
            "_view_count": null,
            "_view_module": "@jupyter-widgets/controls",
            "_view_module_version": "1.5.0",
            "_view_name": "ProgressView",
            "bar_style": "",
            "description": "Processing: ",
            "description_tooltip": null,
            "layout": "IPY_MODEL_67dc6731b42b4361abde13a50081d0f4",
            "max": 3,
            "min": 0,
            "orientation": "horizontal",
            "style": "IPY_MODEL_a65e43fae9184006a3513bd76088f928",
            "value": 3
          }
        },
        "67dc6731b42b4361abde13a50081d0f4": {
          "model_module": "@jupyter-widgets/base",
          "model_name": "LayoutModel",
          "model_module_version": "1.2.0",
          "state": {
            "_model_module": "@jupyter-widgets/base",
            "_model_module_version": "1.2.0",
            "_model_name": "LayoutModel",
            "_view_count": null,
            "_view_module": "@jupyter-widgets/base",
            "_view_module_version": "1.2.0",
            "_view_name": "LayoutView",
            "align_content": null,
            "align_items": null,
            "align_self": null,
            "border": null,
            "bottom": null,
            "display": null,
            "flex": null,
            "flex_flow": null,
            "grid_area": null,
            "grid_auto_columns": null,
            "grid_auto_flow": null,
            "grid_auto_rows": null,
            "grid_column": null,
            "grid_gap": null,
            "grid_row": null,
            "grid_template_areas": null,
            "grid_template_columns": null,
            "grid_template_rows": null,
            "height": null,
            "justify_content": null,
            "justify_items": null,
            "left": null,
            "margin": null,
            "max_height": null,
            "max_width": null,
            "min_height": null,
            "min_width": null,
            "object_fit": null,
            "object_position": null,
            "order": null,
            "overflow": null,
            "overflow_x": null,
            "overflow_y": null,
            "padding": null,
            "right": null,
            "top": null,
            "visibility": null,
            "width": null
          }
        },
        "a65e43fae9184006a3513bd76088f928": {
          "model_module": "@jupyter-widgets/controls",
          "model_name": "ProgressStyleModel",
          "model_module_version": "1.5.0",
          "state": {
            "_model_module": "@jupyter-widgets/controls",
            "_model_module_version": "1.5.0",
            "_model_name": "ProgressStyleModel",
            "_view_count": null,
            "_view_module": "@jupyter-widgets/base",
            "_view_module_version": "1.2.0",
            "_view_name": "StyleView",
            "bar_color": null,
            "description_width": ""
          }
        },
        "60c1f505a8b6493a8eb463328ac7e784": {
          "model_module": "@jupyter-widgets/controls",
          "model_name": "TextModel",
          "model_module_version": "1.5.0",
          "state": {
            "_dom_classes": [],
            "_model_module": "@jupyter-widgets/controls",
            "_model_module_version": "1.5.0",
            "_model_name": "TextModel",
            "_view_count": null,
            "_view_module": "@jupyter-widgets/controls",
            "_view_module_version": "1.5.0",
            "_view_name": "TextView",
            "continuous_update": true,
            "description": "",
            "description_tooltip": null,
            "disabled": false,
            "layout": "IPY_MODEL_dd59cf61d9cb40f19c1639c2f0519a28",
            "placeholder": "​",
            "style": "IPY_MODEL_26ecb1db09004f69809cfd5bcd8f5f52",
            "value": "Following data types have been inferred automatically, if they are correct press enter to continue or type 'quit' otherwise."
          }
        },
        "dd59cf61d9cb40f19c1639c2f0519a28": {
          "model_module": "@jupyter-widgets/base",
          "model_name": "LayoutModel",
          "model_module_version": "1.2.0",
          "state": {
            "_model_module": "@jupyter-widgets/base",
            "_model_module_version": "1.2.0",
            "_model_name": "LayoutModel",
            "_view_count": null,
            "_view_module": "@jupyter-widgets/base",
            "_view_module_version": "1.2.0",
            "_view_name": "LayoutView",
            "align_content": null,
            "align_items": null,
            "align_self": null,
            "border": null,
            "bottom": null,
            "display": null,
            "flex": null,
            "flex_flow": null,
            "grid_area": null,
            "grid_auto_columns": null,
            "grid_auto_flow": null,
            "grid_auto_rows": null,
            "grid_column": null,
            "grid_gap": null,
            "grid_row": null,
            "grid_template_areas": null,
            "grid_template_columns": null,
            "grid_template_rows": null,
            "height": null,
            "justify_content": null,
            "justify_items": null,
            "left": null,
            "margin": null,
            "max_height": null,
            "max_width": null,
            "min_height": null,
            "min_width": null,
            "object_fit": null,
            "object_position": null,
            "order": null,
            "overflow": null,
            "overflow_x": null,
            "overflow_y": null,
            "padding": null,
            "right": null,
            "top": null,
            "visibility": null,
            "width": "100%"
          }
        },
        "26ecb1db09004f69809cfd5bcd8f5f52": {
          "model_module": "@jupyter-widgets/controls",
          "model_name": "DescriptionStyleModel",
          "model_module_version": "1.5.0",
          "state": {
            "_model_module": "@jupyter-widgets/controls",
            "_model_module_version": "1.5.0",
            "_model_name": "DescriptionStyleModel",
            "_view_count": null,
            "_view_module": "@jupyter-widgets/base",
            "_view_module_version": "1.2.0",
            "_view_name": "StyleView",
            "description_width": ""
          }
        },
        "fa77ad7556fc416098ad6ff2f509298e": {
          "model_module": "@jupyter-widgets/controls",
          "model_name": "IntProgressModel",
          "model_module_version": "1.5.0",
          "state": {
            "_dom_classes": [],
            "_model_module": "@jupyter-widgets/controls",
            "_model_module_version": "1.5.0",
            "_model_name": "IntProgressModel",
            "_view_count": null,
            "_view_module": "@jupyter-widgets/controls",
            "_view_module_version": "1.5.0",
            "_view_name": "ProgressView",
            "bar_style": "",
            "description": "Processing: ",
            "description_tooltip": null,
            "layout": "IPY_MODEL_eecae9066e0346f5809a1d3297883c1f",
            "max": 94,
            "min": 0,
            "orientation": "horizontal",
            "style": "IPY_MODEL_d862266c920e4d5b818d785f4394a829",
            "value": 94
          }
        },
        "eecae9066e0346f5809a1d3297883c1f": {
          "model_module": "@jupyter-widgets/base",
          "model_name": "LayoutModel",
          "model_module_version": "1.2.0",
          "state": {
            "_model_module": "@jupyter-widgets/base",
            "_model_module_version": "1.2.0",
            "_model_name": "LayoutModel",
            "_view_count": null,
            "_view_module": "@jupyter-widgets/base",
            "_view_module_version": "1.2.0",
            "_view_name": "LayoutView",
            "align_content": null,
            "align_items": null,
            "align_self": null,
            "border": null,
            "bottom": null,
            "display": null,
            "flex": null,
            "flex_flow": null,
            "grid_area": null,
            "grid_auto_columns": null,
            "grid_auto_flow": null,
            "grid_auto_rows": null,
            "grid_column": null,
            "grid_gap": null,
            "grid_row": null,
            "grid_template_areas": null,
            "grid_template_columns": null,
            "grid_template_rows": null,
            "height": null,
            "justify_content": null,
            "justify_items": null,
            "left": null,
            "margin": null,
            "max_height": null,
            "max_width": null,
            "min_height": null,
            "min_width": null,
            "object_fit": null,
            "object_position": null,
            "order": null,
            "overflow": null,
            "overflow_x": null,
            "overflow_y": null,
            "padding": null,
            "right": null,
            "top": null,
            "visibility": null,
            "width": null
          }
        },
        "d862266c920e4d5b818d785f4394a829": {
          "model_module": "@jupyter-widgets/controls",
          "model_name": "ProgressStyleModel",
          "model_module_version": "1.5.0",
          "state": {
            "_model_module": "@jupyter-widgets/controls",
            "_model_module_version": "1.5.0",
            "_model_name": "ProgressStyleModel",
            "_view_count": null,
            "_view_module": "@jupyter-widgets/base",
            "_view_module_version": "1.2.0",
            "_view_name": "StyleView",
            "bar_color": null,
            "description_width": ""
          }
        },
        "ee764e7909384a03bbabbc94ce132362": {
          "model_module": "@jupyter-widgets/controls",
          "model_name": "IntProgressModel",
          "model_module_version": "1.5.0",
          "state": {
            "_dom_classes": [],
            "_model_module": "@jupyter-widgets/controls",
            "_model_module_version": "1.5.0",
            "_model_name": "IntProgressModel",
            "_view_count": null,
            "_view_module": "@jupyter-widgets/controls",
            "_view_module_version": "1.5.0",
            "_view_name": "ProgressView",
            "bar_style": "",
            "description": "Processing: ",
            "description_tooltip": null,
            "layout": "IPY_MODEL_af18169d99454955b390e54476f319fe",
            "max": 4,
            "min": 0,
            "orientation": "horizontal",
            "style": "IPY_MODEL_ab58723f26c943faa7e0e801785999df",
            "value": 4
          }
        },
        "af18169d99454955b390e54476f319fe": {
          "model_module": "@jupyter-widgets/base",
          "model_name": "LayoutModel",
          "model_module_version": "1.2.0",
          "state": {
            "_model_module": "@jupyter-widgets/base",
            "_model_module_version": "1.2.0",
            "_model_name": "LayoutModel",
            "_view_count": null,
            "_view_module": "@jupyter-widgets/base",
            "_view_module_version": "1.2.0",
            "_view_name": "LayoutView",
            "align_content": null,
            "align_items": null,
            "align_self": null,
            "border": null,
            "bottom": null,
            "display": null,
            "flex": null,
            "flex_flow": null,
            "grid_area": null,
            "grid_auto_columns": null,
            "grid_auto_flow": null,
            "grid_auto_rows": null,
            "grid_column": null,
            "grid_gap": null,
            "grid_row": null,
            "grid_template_areas": null,
            "grid_template_columns": null,
            "grid_template_rows": null,
            "height": null,
            "justify_content": null,
            "justify_items": null,
            "left": null,
            "margin": null,
            "max_height": null,
            "max_width": null,
            "min_height": null,
            "min_width": null,
            "object_fit": null,
            "object_position": null,
            "order": null,
            "overflow": null,
            "overflow_x": null,
            "overflow_y": null,
            "padding": null,
            "right": null,
            "top": null,
            "visibility": null,
            "width": null
          }
        },
        "ab58723f26c943faa7e0e801785999df": {
          "model_module": "@jupyter-widgets/controls",
          "model_name": "ProgressStyleModel",
          "model_module_version": "1.5.0",
          "state": {
            "_model_module": "@jupyter-widgets/controls",
            "_model_module_version": "1.5.0",
            "_model_name": "ProgressStyleModel",
            "_view_count": null,
            "_view_module": "@jupyter-widgets/base",
            "_view_module_version": "1.2.0",
            "_view_name": "StyleView",
            "bar_color": null,
            "description_width": ""
          }
        },
        "b32aede1af10448390389fa762a2345b": {
          "model_module": "@jupyter-widgets/controls",
          "model_name": "IntProgressModel",
          "model_module_version": "1.5.0",
          "state": {
            "_dom_classes": [],
            "_model_module": "@jupyter-widgets/controls",
            "_model_module_version": "1.5.0",
            "_model_name": "IntProgressModel",
            "_view_count": null,
            "_view_module": "@jupyter-widgets/controls",
            "_view_module_version": "1.5.0",
            "_view_name": "ProgressView",
            "bar_style": "",
            "description": "Processing: ",
            "description_tooltip": null,
            "layout": "IPY_MODEL_74fd17936022495a8ed0a7af21e7dd67",
            "max": 5,
            "min": 0,
            "orientation": "horizontal",
            "style": "IPY_MODEL_14a7f10e9f0a49d7b51cac2b60a39aa4",
            "value": 5
          }
        },
        "74fd17936022495a8ed0a7af21e7dd67": {
          "model_module": "@jupyter-widgets/base",
          "model_name": "LayoutModel",
          "model_module_version": "1.2.0",
          "state": {
            "_model_module": "@jupyter-widgets/base",
            "_model_module_version": "1.2.0",
            "_model_name": "LayoutModel",
            "_view_count": null,
            "_view_module": "@jupyter-widgets/base",
            "_view_module_version": "1.2.0",
            "_view_name": "LayoutView",
            "align_content": null,
            "align_items": null,
            "align_self": null,
            "border": null,
            "bottom": null,
            "display": null,
            "flex": null,
            "flex_flow": null,
            "grid_area": null,
            "grid_auto_columns": null,
            "grid_auto_flow": null,
            "grid_auto_rows": null,
            "grid_column": null,
            "grid_gap": null,
            "grid_row": null,
            "grid_template_areas": null,
            "grid_template_columns": null,
            "grid_template_rows": null,
            "height": null,
            "justify_content": null,
            "justify_items": null,
            "left": null,
            "margin": null,
            "max_height": null,
            "max_width": null,
            "min_height": null,
            "min_width": null,
            "object_fit": null,
            "object_position": null,
            "order": null,
            "overflow": null,
            "overflow_x": null,
            "overflow_y": null,
            "padding": null,
            "right": null,
            "top": null,
            "visibility": null,
            "width": null
          }
        },
        "14a7f10e9f0a49d7b51cac2b60a39aa4": {
          "model_module": "@jupyter-widgets/controls",
          "model_name": "ProgressStyleModel",
          "model_module_version": "1.5.0",
          "state": {
            "_model_module": "@jupyter-widgets/controls",
            "_model_module_version": "1.5.0",
            "_model_name": "ProgressStyleModel",
            "_view_count": null,
            "_view_module": "@jupyter-widgets/base",
            "_view_module_version": "1.2.0",
            "_view_name": "StyleView",
            "bar_color": null,
            "description_width": ""
          }
        }
      }
    }
  },
  "cells": [
    {
      "cell_type": "markdown",
      "metadata": {
        "id": "view-in-github",
        "colab_type": "text"
      },
      "source": [
        "<a href=\"https://colab.research.google.com/github/andersonjhones/Regression/blob/main/baseRegressao.ipynb\" target=\"_parent\"><img src=\"https://colab.research.google.com/assets/colab-badge.svg\" alt=\"Open In Colab\"/></a>"
      ]
    },
    {
      "cell_type": "markdown",
      "source": [
        "- Junção dos dados do INEP, IDEB e SAEB por escola\n",
        "- Junção com dados de anos anteriores (2015, 2017, 2019)\n",
        "- Extração de novas features a partir dos dados por alunos do SAEB 2019\n",
        "- Alvo: Desempenho dos alunos de 5° ano em matemática na prova do SAEB 2019, agrupados por escolas.\n",
        "- 11.166 escolas.\n",
        "- Dados por escolas de todo o brasil nos anos 2015, 2017 e 2019\n",
        "\n"
      ],
      "metadata": {
        "id": "vNazdLp2zr3J"
      }
    },
    {
      "cell_type": "markdown",
      "source": [
        "Fontes:\n",
        "\n",
        "https://basedosdados.org/dataset/br-inep-ideb?bdm_table=escola\n",
        "\n",
        "https://basedosdados.org/dataset/br-inep-indicadores-educacionais?bdm_table=escola\n",
        "\n",
        "https://basedosdados.org/dataset/br-inep-saeb?bdm_table=aluno_ef_5ano"
      ],
      "metadata": {
        "id": "PWdPBdU40cLb"
      }
    },
    {
      "cell_type": "markdown",
      "source": [
        "features adicionadas através da base de dados de alunos do 5º ano:\n",
        "\n",
        "- engajamento_responsaveis_2019: métrica de engajamento médio dos responsáveis\n",
        "- tempo_lazer_2019: métrica de tempo de lazer médio\n",
        "- idade_entrada_escola_2019: métrica de atraso no inicio da vida escolar\n",
        "- desempenho_LP_5ano_2019: média das notas dos alunos de 5º ano na prova saeb de português em 2019\n",
        "- desempenho_MT_5ano_2019: média das notas dos alunos de 5º ano na prova saeb de matemática em 2019"
      ],
      "metadata": {
        "id": "O90rO1Vx8U0i"
      }
    },
    {
      "cell_type": "markdown",
      "source": [
        "# Carregamento"
      ],
      "metadata": {
        "id": "K4ZYwNxg9MTn"
      }
    },
    {
      "cell_type": "code",
      "execution_count": null,
      "metadata": {
        "id": "2zCvJ8xgywO0"
      },
      "outputs": [],
      "source": [
        "import pandas as pd\n",
        "\n",
        "import seaborn as sns\n",
        "import matplotlib.pyplot as plt\n",
        "\n",
        "from sklearn.metrics import accuracy_score, precision_score, recall_score, f1_score, confusion_matrix\n",
        "from sklearn.model_selection import train_test_split\n",
        "\n",
        "import pathlib\n",
        "\n",
        "import tensorflow as tf\n",
        "\n",
        "from tensorflow import keras\n",
        "from tensorflow.keras import layers\n",
        "\n",
        "from sklearn.preprocessing import OneHotEncoder\n",
        "from sklearn.compose import make_column_transformer\n",
        "from seaborn import load_dataset\n",
        "import pandas as pd"
      ]
    },
    {
      "cell_type": "code",
      "source": [
        "# carregamento dos dados\n",
        "path = 'regressão'\n",
        "df = pd.read_csv(path)"
      ],
      "metadata": {
        "id": "guzjWNujy2N1"
      },
      "execution_count": null,
      "outputs": []
    },
    {
      "cell_type": "code",
      "source": [
        "df = df.set_index('id_escola')\n"
      ],
      "metadata": {
        "id": "JsyxU7rU2H29"
      },
      "execution_count": null,
      "outputs": []
    },
    {
      "cell_type": "code",
      "source": [
        "df.head()"
      ],
      "metadata": {
        "colab": {
          "base_uri": "https://localhost:8080/",
          "height": 331
        },
        "id": "9oQ8zCeLzQ5s",
        "outputId": "37f59712-75d4-41f5-bb70-5c9dfc063938"
      },
      "execution_count": null,
      "outputs": [
        {
          "output_type": "execute_result",
          "data": {
            "text/plain": [
              "           ideb_2015_ideb  ideb_2015_indicador_rendimento  \\\n",
              "id_escola                                                   \n",
              "12023531              4.2                        0.840334   \n",
              "12048224              5.7                        0.943471   \n",
              "12015873              5.7                        0.955387   \n",
              "12016438              7.6                        0.968657   \n",
              "12016535              5.7                        0.934422   \n",
              "\n",
              "           ideb_2015_nota_saeb_media_padronizada  ideb_2015_taxa_aprovacao  \\\n",
              "id_escola                                                                    \n",
              "12023531                                4.991741                      83.7   \n",
              "12048224                                6.046465                      94.5   \n",
              "12015873                                5.932558                      96.0   \n",
              "12016438                                7.874890                      96.9   \n",
              "12016535                                6.143776                      93.2   \n",
              "\n",
              "           ideb_2017_ideb  ideb_2017_indicador_rendimento  \\\n",
              "id_escola                                                   \n",
              "12023531              5.3                        0.892854   \n",
              "12048224              5.5                        0.944313   \n",
              "12015873              5.8                        0.963198   \n",
              "12016438              7.9                        0.958912   \n",
              "12016535              6.7                        0.977446   \n",
              "\n",
              "           ideb_2017_nota_saeb_media_padronizada  ideb_2017_taxa_aprovacao  \\\n",
              "id_escola                                                                    \n",
              "12023531                                5.976847                      89.8   \n",
              "12048224                                5.817718                      94.7   \n",
              "12015873                                6.037207                      96.2   \n",
              "12016438                                8.289673                      95.8   \n",
              "12016535                                6.828136                      97.7   \n",
              "\n",
              "           ideb_2019_ideb  ideb_2019_indicador_rendimento  ...  \\\n",
              "id_escola                                                  ...   \n",
              "12023531              5.1                        0.933664  ...   \n",
              "12048224              6.0                        0.997373  ...   \n",
              "12015873              6.1                        0.983606  ...   \n",
              "12016438              8.1                        0.980807  ...   \n",
              "12016535              6.4                        0.981414  ...   \n",
              "\n",
              "           inep_2019_tnr_ef_2_ano  inep_2019_tnr_ef_3_ano  \\\n",
              "id_escola                                                   \n",
              "12023531                      4.0                     3.1   \n",
              "12048224                      0.0                     2.0   \n",
              "12015873                      6.4                     8.9   \n",
              "12016438                      3.6                     2.3   \n",
              "12016535                      0.0                     2.3   \n",
              "\n",
              "           inep_2019_tnr_ef_4_ano  inep_2019_tnr_ef_5_ano  \\\n",
              "id_escola                                                   \n",
              "12023531                      7.0                     2.5   \n",
              "12048224                      7.2                     1.0   \n",
              "12015873                      0.0                     0.0   \n",
              "12016438                      2.0                     1.1   \n",
              "12016535                      2.5                     1.1   \n",
              "\n",
              "           inep_2019_tnr_ef_anos_iniciais  engajamento_responsaveis_2019  \\\n",
              "id_escola                                                                  \n",
              "12023531                              4.2                       2.404930   \n",
              "12048224                              2.5                       2.662088   \n",
              "12015873                              4.2                       2.725962   \n",
              "12016438                              2.8                       2.747093   \n",
              "12016535                              1.8                       2.617816   \n",
              "\n",
              "           tempo_lazer_2019  idade_entrada_escola_2019  \\\n",
              "id_escola                                                \n",
              "12023531           1.098592                   1.154930   \n",
              "12048224           1.450549                   1.010989   \n",
              "12015873           1.576923                   0.634615   \n",
              "12016438           1.779070                   0.860465   \n",
              "12016535           1.471264                   1.091954   \n",
              "\n",
              "           desempenho_LP_5ano_2019  desempenho_MT_5ano_2019  \n",
              "id_escola                                                    \n",
              "12023531                188.592880               206.353100  \n",
              "12048224                208.206673               221.439707  \n",
              "12015873                213.254438               226.573946  \n",
              "12016438                263.092632               288.757271  \n",
              "12016535                217.135369               243.453455  \n",
              "\n",
              "[5 rows x 234 columns]"
            ],
            "text/html": [
              "\n",
              "  <div id=\"df-ebde8a40-3dc7-4d3e-9d0d-ebac612246ba\">\n",
              "    <div class=\"colab-df-container\">\n",
              "      <div>\n",
              "<style scoped>\n",
              "    .dataframe tbody tr th:only-of-type {\n",
              "        vertical-align: middle;\n",
              "    }\n",
              "\n",
              "    .dataframe tbody tr th {\n",
              "        vertical-align: top;\n",
              "    }\n",
              "\n",
              "    .dataframe thead th {\n",
              "        text-align: right;\n",
              "    }\n",
              "</style>\n",
              "<table border=\"1\" class=\"dataframe\">\n",
              "  <thead>\n",
              "    <tr style=\"text-align: right;\">\n",
              "      <th></th>\n",
              "      <th>ideb_2015_ideb</th>\n",
              "      <th>ideb_2015_indicador_rendimento</th>\n",
              "      <th>ideb_2015_nota_saeb_media_padronizada</th>\n",
              "      <th>ideb_2015_taxa_aprovacao</th>\n",
              "      <th>ideb_2017_ideb</th>\n",
              "      <th>ideb_2017_indicador_rendimento</th>\n",
              "      <th>ideb_2017_nota_saeb_media_padronizada</th>\n",
              "      <th>ideb_2017_taxa_aprovacao</th>\n",
              "      <th>ideb_2019_ideb</th>\n",
              "      <th>ideb_2019_indicador_rendimento</th>\n",
              "      <th>...</th>\n",
              "      <th>inep_2019_tnr_ef_2_ano</th>\n",
              "      <th>inep_2019_tnr_ef_3_ano</th>\n",
              "      <th>inep_2019_tnr_ef_4_ano</th>\n",
              "      <th>inep_2019_tnr_ef_5_ano</th>\n",
              "      <th>inep_2019_tnr_ef_anos_iniciais</th>\n",
              "      <th>engajamento_responsaveis_2019</th>\n",
              "      <th>tempo_lazer_2019</th>\n",
              "      <th>idade_entrada_escola_2019</th>\n",
              "      <th>desempenho_LP_5ano_2019</th>\n",
              "      <th>desempenho_MT_5ano_2019</th>\n",
              "    </tr>\n",
              "    <tr>\n",
              "      <th>id_escola</th>\n",
              "      <th></th>\n",
              "      <th></th>\n",
              "      <th></th>\n",
              "      <th></th>\n",
              "      <th></th>\n",
              "      <th></th>\n",
              "      <th></th>\n",
              "      <th></th>\n",
              "      <th></th>\n",
              "      <th></th>\n",
              "      <th></th>\n",
              "      <th></th>\n",
              "      <th></th>\n",
              "      <th></th>\n",
              "      <th></th>\n",
              "      <th></th>\n",
              "      <th></th>\n",
              "      <th></th>\n",
              "      <th></th>\n",
              "      <th></th>\n",
              "      <th></th>\n",
              "    </tr>\n",
              "  </thead>\n",
              "  <tbody>\n",
              "    <tr>\n",
              "      <th>12023531</th>\n",
              "      <td>4.2</td>\n",
              "      <td>0.840334</td>\n",
              "      <td>4.991741</td>\n",
              "      <td>83.7</td>\n",
              "      <td>5.3</td>\n",
              "      <td>0.892854</td>\n",
              "      <td>5.976847</td>\n",
              "      <td>89.8</td>\n",
              "      <td>5.1</td>\n",
              "      <td>0.933664</td>\n",
              "      <td>...</td>\n",
              "      <td>4.0</td>\n",
              "      <td>3.1</td>\n",
              "      <td>7.0</td>\n",
              "      <td>2.5</td>\n",
              "      <td>4.2</td>\n",
              "      <td>2.404930</td>\n",
              "      <td>1.098592</td>\n",
              "      <td>1.154930</td>\n",
              "      <td>188.592880</td>\n",
              "      <td>206.353100</td>\n",
              "    </tr>\n",
              "    <tr>\n",
              "      <th>12048224</th>\n",
              "      <td>5.7</td>\n",
              "      <td>0.943471</td>\n",
              "      <td>6.046465</td>\n",
              "      <td>94.5</td>\n",
              "      <td>5.5</td>\n",
              "      <td>0.944313</td>\n",
              "      <td>5.817718</td>\n",
              "      <td>94.7</td>\n",
              "      <td>6.0</td>\n",
              "      <td>0.997373</td>\n",
              "      <td>...</td>\n",
              "      <td>0.0</td>\n",
              "      <td>2.0</td>\n",
              "      <td>7.2</td>\n",
              "      <td>1.0</td>\n",
              "      <td>2.5</td>\n",
              "      <td>2.662088</td>\n",
              "      <td>1.450549</td>\n",
              "      <td>1.010989</td>\n",
              "      <td>208.206673</td>\n",
              "      <td>221.439707</td>\n",
              "    </tr>\n",
              "    <tr>\n",
              "      <th>12015873</th>\n",
              "      <td>5.7</td>\n",
              "      <td>0.955387</td>\n",
              "      <td>5.932558</td>\n",
              "      <td>96.0</td>\n",
              "      <td>5.8</td>\n",
              "      <td>0.963198</td>\n",
              "      <td>6.037207</td>\n",
              "      <td>96.2</td>\n",
              "      <td>6.1</td>\n",
              "      <td>0.983606</td>\n",
              "      <td>...</td>\n",
              "      <td>6.4</td>\n",
              "      <td>8.9</td>\n",
              "      <td>0.0</td>\n",
              "      <td>0.0</td>\n",
              "      <td>4.2</td>\n",
              "      <td>2.725962</td>\n",
              "      <td>1.576923</td>\n",
              "      <td>0.634615</td>\n",
              "      <td>213.254438</td>\n",
              "      <td>226.573946</td>\n",
              "    </tr>\n",
              "    <tr>\n",
              "      <th>12016438</th>\n",
              "      <td>7.6</td>\n",
              "      <td>0.968657</td>\n",
              "      <td>7.874890</td>\n",
              "      <td>96.9</td>\n",
              "      <td>7.9</td>\n",
              "      <td>0.958912</td>\n",
              "      <td>8.289673</td>\n",
              "      <td>95.8</td>\n",
              "      <td>8.1</td>\n",
              "      <td>0.980807</td>\n",
              "      <td>...</td>\n",
              "      <td>3.6</td>\n",
              "      <td>2.3</td>\n",
              "      <td>2.0</td>\n",
              "      <td>1.1</td>\n",
              "      <td>2.8</td>\n",
              "      <td>2.747093</td>\n",
              "      <td>1.779070</td>\n",
              "      <td>0.860465</td>\n",
              "      <td>263.092632</td>\n",
              "      <td>288.757271</td>\n",
              "    </tr>\n",
              "    <tr>\n",
              "      <th>12016535</th>\n",
              "      <td>5.7</td>\n",
              "      <td>0.934422</td>\n",
              "      <td>6.143776</td>\n",
              "      <td>93.2</td>\n",
              "      <td>6.7</td>\n",
              "      <td>0.977446</td>\n",
              "      <td>6.828136</td>\n",
              "      <td>97.7</td>\n",
              "      <td>6.4</td>\n",
              "      <td>0.981414</td>\n",
              "      <td>...</td>\n",
              "      <td>0.0</td>\n",
              "      <td>2.3</td>\n",
              "      <td>2.5</td>\n",
              "      <td>1.1</td>\n",
              "      <td>1.8</td>\n",
              "      <td>2.617816</td>\n",
              "      <td>1.471264</td>\n",
              "      <td>1.091954</td>\n",
              "      <td>217.135369</td>\n",
              "      <td>243.453455</td>\n",
              "    </tr>\n",
              "  </tbody>\n",
              "</table>\n",
              "<p>5 rows × 234 columns</p>\n",
              "</div>\n",
              "      <button class=\"colab-df-convert\" onclick=\"convertToInteractive('df-ebde8a40-3dc7-4d3e-9d0d-ebac612246ba')\"\n",
              "              title=\"Convert this dataframe to an interactive table.\"\n",
              "              style=\"display:none;\">\n",
              "        \n",
              "  <svg xmlns=\"http://www.w3.org/2000/svg\" height=\"24px\"viewBox=\"0 0 24 24\"\n",
              "       width=\"24px\">\n",
              "    <path d=\"M0 0h24v24H0V0z\" fill=\"none\"/>\n",
              "    <path d=\"M18.56 5.44l.94 2.06.94-2.06 2.06-.94-2.06-.94-.94-2.06-.94 2.06-2.06.94zm-11 1L8.5 8.5l.94-2.06 2.06-.94-2.06-.94L8.5 2.5l-.94 2.06-2.06.94zm10 10l.94 2.06.94-2.06 2.06-.94-2.06-.94-.94-2.06-.94 2.06-2.06.94z\"/><path d=\"M17.41 7.96l-1.37-1.37c-.4-.4-.92-.59-1.43-.59-.52 0-1.04.2-1.43.59L10.3 9.45l-7.72 7.72c-.78.78-.78 2.05 0 2.83L4 21.41c.39.39.9.59 1.41.59.51 0 1.02-.2 1.41-.59l7.78-7.78 2.81-2.81c.8-.78.8-2.07 0-2.86zM5.41 20L4 18.59l7.72-7.72 1.47 1.35L5.41 20z\"/>\n",
              "  </svg>\n",
              "      </button>\n",
              "      \n",
              "  <style>\n",
              "    .colab-df-container {\n",
              "      display:flex;\n",
              "      flex-wrap:wrap;\n",
              "      gap: 12px;\n",
              "    }\n",
              "\n",
              "    .colab-df-convert {\n",
              "      background-color: #E8F0FE;\n",
              "      border: none;\n",
              "      border-radius: 50%;\n",
              "      cursor: pointer;\n",
              "      display: none;\n",
              "      fill: #1967D2;\n",
              "      height: 32px;\n",
              "      padding: 0 0 0 0;\n",
              "      width: 32px;\n",
              "    }\n",
              "\n",
              "    .colab-df-convert:hover {\n",
              "      background-color: #E2EBFA;\n",
              "      box-shadow: 0px 1px 2px rgba(60, 64, 67, 0.3), 0px 1px 3px 1px rgba(60, 64, 67, 0.15);\n",
              "      fill: #174EA6;\n",
              "    }\n",
              "\n",
              "    [theme=dark] .colab-df-convert {\n",
              "      background-color: #3B4455;\n",
              "      fill: #D2E3FC;\n",
              "    }\n",
              "\n",
              "    [theme=dark] .colab-df-convert:hover {\n",
              "      background-color: #434B5C;\n",
              "      box-shadow: 0px 1px 3px 1px rgba(0, 0, 0, 0.15);\n",
              "      filter: drop-shadow(0px 1px 2px rgba(0, 0, 0, 0.3));\n",
              "      fill: #FFFFFF;\n",
              "    }\n",
              "  </style>\n",
              "\n",
              "      <script>\n",
              "        const buttonEl =\n",
              "          document.querySelector('#df-ebde8a40-3dc7-4d3e-9d0d-ebac612246ba button.colab-df-convert');\n",
              "        buttonEl.style.display =\n",
              "          google.colab.kernel.accessAllowed ? 'block' : 'none';\n",
              "\n",
              "        async function convertToInteractive(key) {\n",
              "          const element = document.querySelector('#df-ebde8a40-3dc7-4d3e-9d0d-ebac612246ba');\n",
              "          const dataTable =\n",
              "            await google.colab.kernel.invokeFunction('convertToInteractive',\n",
              "                                                     [key], {});\n",
              "          if (!dataTable) return;\n",
              "\n",
              "          const docLinkHtml = 'Like what you see? Visit the ' +\n",
              "            '<a target=\"_blank\" href=https://colab.research.google.com/notebooks/data_table.ipynb>data table notebook</a>'\n",
              "            + ' to learn more about interactive tables.';\n",
              "          element.innerHTML = '';\n",
              "          dataTable['output_type'] = 'display_data';\n",
              "          await google.colab.output.renderOutput(dataTable, element);\n",
              "          const docLink = document.createElement('div');\n",
              "          docLink.innerHTML = docLinkHtml;\n",
              "          element.appendChild(docLink);\n",
              "        }\n",
              "      </script>\n",
              "    </div>\n",
              "  </div>\n",
              "  "
            ]
          },
          "metadata": {},
          "execution_count": 4
        }
      ]
    },
    {
      "cell_type": "code",
      "source": [
        "print(f'Quantidade de colunas: {df.shape[1]}')\n",
        "print(f'Quantidade de escolas: {df.shape[0]}')"
      ],
      "metadata": {
        "colab": {
          "base_uri": "https://localhost:8080/"
        },
        "id": "ftncUJ6LzWhd",
        "outputId": "5d83c5a2-0a03-4c60-c414-7e3a6c17a713"
      },
      "execution_count": null,
      "outputs": [
        {
          "output_type": "stream",
          "name": "stdout",
          "text": [
            "Quantidade de colunas: 234\n",
            "Quantidade de escolas: 11166\n"
          ]
        }
      ]
    },
    {
      "cell_type": "markdown",
      "source": [
        "# Análise Exploratória"
      ],
      "metadata": {
        "id": "eKZgWLqc-0Td"
      }
    },
    {
      "cell_type": "markdown",
      "source": [
        "- posso fornecer um dataset com os dados por alunos (alunos do 5º ano) das escolas que estamos usando\n",
        "- posso fornecer um dataset com outras informações sobre as escolas utilizadas aqui (exemplo: uf, cidade, tipo da localização, etc)\n",
        "- posso fornecer um dataset igual ao deste notebook mas com a coluna \"ano\", desta forma cada escola apareceria em três linhas diferentes, uma para cada ano."
      ],
      "metadata": {
        "id": "gd2my3g5EC3i"
      }
    },
    {
      "cell_type": "markdown",
      "source": [
        "# Modelo"
      ],
      "metadata": {
        "id": "c2r98Aua9T2f"
      }
    },
    {
      "cell_type": "markdown",
      "source": [
        "**Padronizão Z-score** "
      ],
      "metadata": {
        "id": "xFfFsEpFnG4z"
      }
    },
    {
      "cell_type": "code",
      "source": [
        "from sklearn.preprocessing import StandardScaler\n",
        "\n",
        "# normalização dos dados\n",
        "\n",
        "# create a scaler object\n",
        "std_scaler = StandardScaler()\n",
        "\n",
        "# fit and transform the data\n",
        "df = pd.DataFrame(std_scaler.fit_transform(df), columns=df.columns)"
      ],
      "metadata": {
        "id": "HSbUZrjS60OM"
      },
      "execution_count": null,
      "outputs": []
    },
    {
      "cell_type": "code",
      "source": [
        "df"
      ],
      "metadata": {
        "colab": {
          "base_uri": "https://localhost:8080/",
          "height": 488
        },
        "id": "IrM9hUsaZ2Jt",
        "outputId": "851e926f-0b54-4d10-c766-e070f28dae21"
      },
      "execution_count": null,
      "outputs": [
        {
          "output_type": "execute_result",
          "data": {
            "text/plain": [
              "       ideb_2015_ideb  ideb_2015_indicador_rendimento  \\\n",
              "0           -1.474440                       -1.573862   \n",
              "1            0.053523                        0.102906   \n",
              "2            0.053523                        0.296633   \n",
              "3            1.988943                        0.512373   \n",
              "4            0.053523                       -0.044209   \n",
              "...               ...                             ...   \n",
              "11161        0.053523                        1.021937   \n",
              "11162        1.072165                        0.908295   \n",
              "11163        0.562844                        0.909693   \n",
              "11164       -1.270712                       -0.175783   \n",
              "11165       -1.576304                       -0.563414   \n",
              "\n",
              "       ideb_2015_nota_saeb_media_padronizada  ideb_2015_taxa_aprovacao  \\\n",
              "0                                  -1.256124                 -1.659924   \n",
              "1                                   0.060097                  0.118902   \n",
              "2                                  -0.082051                  0.365962   \n",
              "3                                   2.341842                  0.514197   \n",
              "4                                   0.181534                 -0.095216   \n",
              "...                                      ...                       ...   \n",
              "11161                              -0.309990                  1.024786   \n",
              "11162                               0.949663                  0.958904   \n",
              "11163                               0.315175                  0.893021   \n",
              "11164                              -1.499791                  0.201255   \n",
              "11165                              -1.751983                  0.316550   \n",
              "\n",
              "       ideb_2017_ideb  ideb_2017_indicador_rendimento  \\\n",
              "0           -0.602345                       -0.959743   \n",
              "1           -0.398894                       -0.020114   \n",
              "2           -0.093718                        0.324722   \n",
              "3            2.042517                        0.246461   \n",
              "4            0.821812                        0.584887   \n",
              "...               ...                             ...   \n",
              "11161        0.516635                        0.996717   \n",
              "11162        0.313184                        0.996717   \n",
              "11163        1.126988                        0.996717   \n",
              "11164       -1.823050                       -0.433587   \n",
              "11165       -0.805796                        0.057015   \n",
              "\n",
              "       ideb_2017_nota_saeb_media_padronizada  ideb_2017_taxa_aprovacao  \\\n",
              "0                                  -0.279966                 -0.858670   \n",
              "1                                  -0.473018                  0.035098   \n",
              "2                                  -0.206739                  0.308701   \n",
              "3                                   2.525902                  0.235740   \n",
              "4                                   0.752798                  0.582303   \n",
              "...                                      ...                       ...   \n",
              "11161                               0.229182                  1.001827   \n",
              "11162                              -0.063791                  1.001827   \n",
              "11163                               0.956370                  1.001827   \n",
              "11164                              -2.088386                 -0.420906   \n",
              "11165                              -1.032187                 -0.019622   \n",
              "\n",
              "       ideb_2019_ideb  ideb_2019_indicador_rendimento  ...  \\\n",
              "0           -0.950815                       -0.445856  ...   \n",
              "1            0.022033                        0.848786  ...   \n",
              "2            0.130127                        0.569024  ...   \n",
              "3            2.292012                        0.512146  ...   \n",
              "4            0.454410                        0.524481  ...   \n",
              "...               ...                             ...  ...   \n",
              "11161        0.238222                        0.902170  ...   \n",
              "11162       -0.410344                        0.902170  ...   \n",
              "11163        0.562504                        0.873558  ...   \n",
              "11164       -1.058909                       -0.055405  ...   \n",
              "11165       -0.410344                       -0.037807  ...   \n",
              "\n",
              "       inep_2019_tnr_ef_2_ano  inep_2019_tnr_ef_3_ano  inep_2019_tnr_ef_4_ano  \\\n",
              "0                    0.940113                0.582854                2.664158   \n",
              "1                   -0.856262                0.066908                2.764396   \n",
              "2                    2.017938                3.303297               -0.844190   \n",
              "3                    0.760475                0.207620                0.158195   \n",
              "4                   -0.856262                0.207620                0.408791   \n",
              "...                       ...                     ...                     ...   \n",
              "11161               -0.317350                1.145704               -0.292879   \n",
              "11162               -0.856262               -0.871176                0.308553   \n",
              "11163               -0.407169               -0.449039               -0.844190   \n",
              "11164               -0.856262               -0.402134               -0.393117   \n",
              "11165               -0.856262                1.051896                0.007837   \n",
              "\n",
              "       inep_2019_tnr_ef_5_ano  inep_2019_tnr_ef_anos_iniciais  \\\n",
              "0                    0.510901                        1.536865   \n",
              "1                   -0.269926                        0.434830   \n",
              "2                   -0.790478                        1.536865   \n",
              "3                   -0.217871                        0.629306   \n",
              "4                   -0.217871                       -0.018950   \n",
              "...                       ...                             ...   \n",
              "11161                0.615012                        0.110702   \n",
              "11162                0.667067                       -0.407903   \n",
              "11163               -0.426092                       -0.732031   \n",
              "11164               -0.790478                       -0.861682   \n",
              "11165               -0.790478                       -0.278252   \n",
              "\n",
              "       engajamento_responsaveis_2019  tempo_lazer_2019  \\\n",
              "0                          -0.860094         -1.760206   \n",
              "1                           0.335071         -0.209063   \n",
              "2                           0.631929          0.347888   \n",
              "3                           0.730139          1.238786   \n",
              "4                           0.129314         -0.117769   \n",
              "...                              ...               ...   \n",
              "11161                       0.153764         -0.635252   \n",
              "11162                      -0.200391         -0.128850   \n",
              "11163                       0.345043          0.250143   \n",
              "11164                       0.568269         -0.448475   \n",
              "11165                       0.761525         -1.381083   \n",
              "\n",
              "       idade_entrada_escola_2019  desempenho_LP_5ano_2019  \\\n",
              "0                       0.328785                -1.304654   \n",
              "1                      -0.150147                -0.342767   \n",
              "2                      -1.402453                -0.095217   \n",
              "3                      -0.650985                 2.348917   \n",
              "4                       0.119247                 0.095109   \n",
              "...                          ...                      ...   \n",
              "11161                   1.144206                -0.475353   \n",
              "11162                   1.216991                -0.820021   \n",
              "11163                   1.343358                 0.149836   \n",
              "11164                  -0.877281                -1.204912   \n",
              "11165                   0.478748                -0.607931   \n",
              "\n",
              "       desempenho_MT_5ano_2019  \n",
              "0                    -0.993201  \n",
              "1                    -0.321779  \n",
              "2                    -0.093282  \n",
              "3                     2.674160  \n",
              "4                     0.657933  \n",
              "...                        ...  \n",
              "11161                 0.247903  \n",
              "11162                -0.722072  \n",
              "11163                 0.609022  \n",
              "11164                -1.278199  \n",
              "11165                -0.524159  \n",
              "\n",
              "[11166 rows x 234 columns]"
            ],
            "text/html": [
              "\n",
              "  <div id=\"df-e015a2c1-09fb-4c26-93bf-6b377e591146\">\n",
              "    <div class=\"colab-df-container\">\n",
              "      <div>\n",
              "<style scoped>\n",
              "    .dataframe tbody tr th:only-of-type {\n",
              "        vertical-align: middle;\n",
              "    }\n",
              "\n",
              "    .dataframe tbody tr th {\n",
              "        vertical-align: top;\n",
              "    }\n",
              "\n",
              "    .dataframe thead th {\n",
              "        text-align: right;\n",
              "    }\n",
              "</style>\n",
              "<table border=\"1\" class=\"dataframe\">\n",
              "  <thead>\n",
              "    <tr style=\"text-align: right;\">\n",
              "      <th></th>\n",
              "      <th>ideb_2015_ideb</th>\n",
              "      <th>ideb_2015_indicador_rendimento</th>\n",
              "      <th>ideb_2015_nota_saeb_media_padronizada</th>\n",
              "      <th>ideb_2015_taxa_aprovacao</th>\n",
              "      <th>ideb_2017_ideb</th>\n",
              "      <th>ideb_2017_indicador_rendimento</th>\n",
              "      <th>ideb_2017_nota_saeb_media_padronizada</th>\n",
              "      <th>ideb_2017_taxa_aprovacao</th>\n",
              "      <th>ideb_2019_ideb</th>\n",
              "      <th>ideb_2019_indicador_rendimento</th>\n",
              "      <th>...</th>\n",
              "      <th>inep_2019_tnr_ef_2_ano</th>\n",
              "      <th>inep_2019_tnr_ef_3_ano</th>\n",
              "      <th>inep_2019_tnr_ef_4_ano</th>\n",
              "      <th>inep_2019_tnr_ef_5_ano</th>\n",
              "      <th>inep_2019_tnr_ef_anos_iniciais</th>\n",
              "      <th>engajamento_responsaveis_2019</th>\n",
              "      <th>tempo_lazer_2019</th>\n",
              "      <th>idade_entrada_escola_2019</th>\n",
              "      <th>desempenho_LP_5ano_2019</th>\n",
              "      <th>desempenho_MT_5ano_2019</th>\n",
              "    </tr>\n",
              "  </thead>\n",
              "  <tbody>\n",
              "    <tr>\n",
              "      <th>0</th>\n",
              "      <td>-1.474440</td>\n",
              "      <td>-1.573862</td>\n",
              "      <td>-1.256124</td>\n",
              "      <td>-1.659924</td>\n",
              "      <td>-0.602345</td>\n",
              "      <td>-0.959743</td>\n",
              "      <td>-0.279966</td>\n",
              "      <td>-0.858670</td>\n",
              "      <td>-0.950815</td>\n",
              "      <td>-0.445856</td>\n",
              "      <td>...</td>\n",
              "      <td>0.940113</td>\n",
              "      <td>0.582854</td>\n",
              "      <td>2.664158</td>\n",
              "      <td>0.510901</td>\n",
              "      <td>1.536865</td>\n",
              "      <td>-0.860094</td>\n",
              "      <td>-1.760206</td>\n",
              "      <td>0.328785</td>\n",
              "      <td>-1.304654</td>\n",
              "      <td>-0.993201</td>\n",
              "    </tr>\n",
              "    <tr>\n",
              "      <th>1</th>\n",
              "      <td>0.053523</td>\n",
              "      <td>0.102906</td>\n",
              "      <td>0.060097</td>\n",
              "      <td>0.118902</td>\n",
              "      <td>-0.398894</td>\n",
              "      <td>-0.020114</td>\n",
              "      <td>-0.473018</td>\n",
              "      <td>0.035098</td>\n",
              "      <td>0.022033</td>\n",
              "      <td>0.848786</td>\n",
              "      <td>...</td>\n",
              "      <td>-0.856262</td>\n",
              "      <td>0.066908</td>\n",
              "      <td>2.764396</td>\n",
              "      <td>-0.269926</td>\n",
              "      <td>0.434830</td>\n",
              "      <td>0.335071</td>\n",
              "      <td>-0.209063</td>\n",
              "      <td>-0.150147</td>\n",
              "      <td>-0.342767</td>\n",
              "      <td>-0.321779</td>\n",
              "    </tr>\n",
              "    <tr>\n",
              "      <th>2</th>\n",
              "      <td>0.053523</td>\n",
              "      <td>0.296633</td>\n",
              "      <td>-0.082051</td>\n",
              "      <td>0.365962</td>\n",
              "      <td>-0.093718</td>\n",
              "      <td>0.324722</td>\n",
              "      <td>-0.206739</td>\n",
              "      <td>0.308701</td>\n",
              "      <td>0.130127</td>\n",
              "      <td>0.569024</td>\n",
              "      <td>...</td>\n",
              "      <td>2.017938</td>\n",
              "      <td>3.303297</td>\n",
              "      <td>-0.844190</td>\n",
              "      <td>-0.790478</td>\n",
              "      <td>1.536865</td>\n",
              "      <td>0.631929</td>\n",
              "      <td>0.347888</td>\n",
              "      <td>-1.402453</td>\n",
              "      <td>-0.095217</td>\n",
              "      <td>-0.093282</td>\n",
              "    </tr>\n",
              "    <tr>\n",
              "      <th>3</th>\n",
              "      <td>1.988943</td>\n",
              "      <td>0.512373</td>\n",
              "      <td>2.341842</td>\n",
              "      <td>0.514197</td>\n",
              "      <td>2.042517</td>\n",
              "      <td>0.246461</td>\n",
              "      <td>2.525902</td>\n",
              "      <td>0.235740</td>\n",
              "      <td>2.292012</td>\n",
              "      <td>0.512146</td>\n",
              "      <td>...</td>\n",
              "      <td>0.760475</td>\n",
              "      <td>0.207620</td>\n",
              "      <td>0.158195</td>\n",
              "      <td>-0.217871</td>\n",
              "      <td>0.629306</td>\n",
              "      <td>0.730139</td>\n",
              "      <td>1.238786</td>\n",
              "      <td>-0.650985</td>\n",
              "      <td>2.348917</td>\n",
              "      <td>2.674160</td>\n",
              "    </tr>\n",
              "    <tr>\n",
              "      <th>4</th>\n",
              "      <td>0.053523</td>\n",
              "      <td>-0.044209</td>\n",
              "      <td>0.181534</td>\n",
              "      <td>-0.095216</td>\n",
              "      <td>0.821812</td>\n",
              "      <td>0.584887</td>\n",
              "      <td>0.752798</td>\n",
              "      <td>0.582303</td>\n",
              "      <td>0.454410</td>\n",
              "      <td>0.524481</td>\n",
              "      <td>...</td>\n",
              "      <td>-0.856262</td>\n",
              "      <td>0.207620</td>\n",
              "      <td>0.408791</td>\n",
              "      <td>-0.217871</td>\n",
              "      <td>-0.018950</td>\n",
              "      <td>0.129314</td>\n",
              "      <td>-0.117769</td>\n",
              "      <td>0.119247</td>\n",
              "      <td>0.095109</td>\n",
              "      <td>0.657933</td>\n",
              "    </tr>\n",
              "    <tr>\n",
              "      <th>...</th>\n",
              "      <td>...</td>\n",
              "      <td>...</td>\n",
              "      <td>...</td>\n",
              "      <td>...</td>\n",
              "      <td>...</td>\n",
              "      <td>...</td>\n",
              "      <td>...</td>\n",
              "      <td>...</td>\n",
              "      <td>...</td>\n",
              "      <td>...</td>\n",
              "      <td>...</td>\n",
              "      <td>...</td>\n",
              "      <td>...</td>\n",
              "      <td>...</td>\n",
              "      <td>...</td>\n",
              "      <td>...</td>\n",
              "      <td>...</td>\n",
              "      <td>...</td>\n",
              "      <td>...</td>\n",
              "      <td>...</td>\n",
              "      <td>...</td>\n",
              "    </tr>\n",
              "    <tr>\n",
              "      <th>11161</th>\n",
              "      <td>0.053523</td>\n",
              "      <td>1.021937</td>\n",
              "      <td>-0.309990</td>\n",
              "      <td>1.024786</td>\n",
              "      <td>0.516635</td>\n",
              "      <td>0.996717</td>\n",
              "      <td>0.229182</td>\n",
              "      <td>1.001827</td>\n",
              "      <td>0.238222</td>\n",
              "      <td>0.902170</td>\n",
              "      <td>...</td>\n",
              "      <td>-0.317350</td>\n",
              "      <td>1.145704</td>\n",
              "      <td>-0.292879</td>\n",
              "      <td>0.615012</td>\n",
              "      <td>0.110702</td>\n",
              "      <td>0.153764</td>\n",
              "      <td>-0.635252</td>\n",
              "      <td>1.144206</td>\n",
              "      <td>-0.475353</td>\n",
              "      <td>0.247903</td>\n",
              "    </tr>\n",
              "    <tr>\n",
              "      <th>11162</th>\n",
              "      <td>1.072165</td>\n",
              "      <td>0.908295</td>\n",
              "      <td>0.949663</td>\n",
              "      <td>0.958904</td>\n",
              "      <td>0.313184</td>\n",
              "      <td>0.996717</td>\n",
              "      <td>-0.063791</td>\n",
              "      <td>1.001827</td>\n",
              "      <td>-0.410344</td>\n",
              "      <td>0.902170</td>\n",
              "      <td>...</td>\n",
              "      <td>-0.856262</td>\n",
              "      <td>-0.871176</td>\n",
              "      <td>0.308553</td>\n",
              "      <td>0.667067</td>\n",
              "      <td>-0.407903</td>\n",
              "      <td>-0.200391</td>\n",
              "      <td>-0.128850</td>\n",
              "      <td>1.216991</td>\n",
              "      <td>-0.820021</td>\n",
              "      <td>-0.722072</td>\n",
              "    </tr>\n",
              "    <tr>\n",
              "      <th>11163</th>\n",
              "      <td>0.562844</td>\n",
              "      <td>0.909693</td>\n",
              "      <td>0.315175</td>\n",
              "      <td>0.893021</td>\n",
              "      <td>1.126988</td>\n",
              "      <td>0.996717</td>\n",
              "      <td>0.956370</td>\n",
              "      <td>1.001827</td>\n",
              "      <td>0.562504</td>\n",
              "      <td>0.873558</td>\n",
              "      <td>...</td>\n",
              "      <td>-0.407169</td>\n",
              "      <td>-0.449039</td>\n",
              "      <td>-0.844190</td>\n",
              "      <td>-0.426092</td>\n",
              "      <td>-0.732031</td>\n",
              "      <td>0.345043</td>\n",
              "      <td>0.250143</td>\n",
              "      <td>1.343358</td>\n",
              "      <td>0.149836</td>\n",
              "      <td>0.609022</td>\n",
              "    </tr>\n",
              "    <tr>\n",
              "      <th>11164</th>\n",
              "      <td>-1.270712</td>\n",
              "      <td>-0.175783</td>\n",
              "      <td>-1.499791</td>\n",
              "      <td>0.201255</td>\n",
              "      <td>-1.823050</td>\n",
              "      <td>-0.433587</td>\n",
              "      <td>-2.088386</td>\n",
              "      <td>-0.420906</td>\n",
              "      <td>-1.058909</td>\n",
              "      <td>-0.055405</td>\n",
              "      <td>...</td>\n",
              "      <td>-0.856262</td>\n",
              "      <td>-0.402134</td>\n",
              "      <td>-0.393117</td>\n",
              "      <td>-0.790478</td>\n",
              "      <td>-0.861682</td>\n",
              "      <td>0.568269</td>\n",
              "      <td>-0.448475</td>\n",
              "      <td>-0.877281</td>\n",
              "      <td>-1.204912</td>\n",
              "      <td>-1.278199</td>\n",
              "    </tr>\n",
              "    <tr>\n",
              "      <th>11165</th>\n",
              "      <td>-1.576304</td>\n",
              "      <td>-0.563414</td>\n",
              "      <td>-1.751983</td>\n",
              "      <td>0.316550</td>\n",
              "      <td>-0.805796</td>\n",
              "      <td>0.057015</td>\n",
              "      <td>-1.032187</td>\n",
              "      <td>-0.019622</td>\n",
              "      <td>-0.410344</td>\n",
              "      <td>-0.037807</td>\n",
              "      <td>...</td>\n",
              "      <td>-0.856262</td>\n",
              "      <td>1.051896</td>\n",
              "      <td>0.007837</td>\n",
              "      <td>-0.790478</td>\n",
              "      <td>-0.278252</td>\n",
              "      <td>0.761525</td>\n",
              "      <td>-1.381083</td>\n",
              "      <td>0.478748</td>\n",
              "      <td>-0.607931</td>\n",
              "      <td>-0.524159</td>\n",
              "    </tr>\n",
              "  </tbody>\n",
              "</table>\n",
              "<p>11166 rows × 234 columns</p>\n",
              "</div>\n",
              "      <button class=\"colab-df-convert\" onclick=\"convertToInteractive('df-e015a2c1-09fb-4c26-93bf-6b377e591146')\"\n",
              "              title=\"Convert this dataframe to an interactive table.\"\n",
              "              style=\"display:none;\">\n",
              "        \n",
              "  <svg xmlns=\"http://www.w3.org/2000/svg\" height=\"24px\"viewBox=\"0 0 24 24\"\n",
              "       width=\"24px\">\n",
              "    <path d=\"M0 0h24v24H0V0z\" fill=\"none\"/>\n",
              "    <path d=\"M18.56 5.44l.94 2.06.94-2.06 2.06-.94-2.06-.94-.94-2.06-.94 2.06-2.06.94zm-11 1L8.5 8.5l.94-2.06 2.06-.94-2.06-.94L8.5 2.5l-.94 2.06-2.06.94zm10 10l.94 2.06.94-2.06 2.06-.94-2.06-.94-.94-2.06-.94 2.06-2.06.94z\"/><path d=\"M17.41 7.96l-1.37-1.37c-.4-.4-.92-.59-1.43-.59-.52 0-1.04.2-1.43.59L10.3 9.45l-7.72 7.72c-.78.78-.78 2.05 0 2.83L4 21.41c.39.39.9.59 1.41.59.51 0 1.02-.2 1.41-.59l7.78-7.78 2.81-2.81c.8-.78.8-2.07 0-2.86zM5.41 20L4 18.59l7.72-7.72 1.47 1.35L5.41 20z\"/>\n",
              "  </svg>\n",
              "      </button>\n",
              "      \n",
              "  <style>\n",
              "    .colab-df-container {\n",
              "      display:flex;\n",
              "      flex-wrap:wrap;\n",
              "      gap: 12px;\n",
              "    }\n",
              "\n",
              "    .colab-df-convert {\n",
              "      background-color: #E8F0FE;\n",
              "      border: none;\n",
              "      border-radius: 50%;\n",
              "      cursor: pointer;\n",
              "      display: none;\n",
              "      fill: #1967D2;\n",
              "      height: 32px;\n",
              "      padding: 0 0 0 0;\n",
              "      width: 32px;\n",
              "    }\n",
              "\n",
              "    .colab-df-convert:hover {\n",
              "      background-color: #E2EBFA;\n",
              "      box-shadow: 0px 1px 2px rgba(60, 64, 67, 0.3), 0px 1px 3px 1px rgba(60, 64, 67, 0.15);\n",
              "      fill: #174EA6;\n",
              "    }\n",
              "\n",
              "    [theme=dark] .colab-df-convert {\n",
              "      background-color: #3B4455;\n",
              "      fill: #D2E3FC;\n",
              "    }\n",
              "\n",
              "    [theme=dark] .colab-df-convert:hover {\n",
              "      background-color: #434B5C;\n",
              "      box-shadow: 0px 1px 3px 1px rgba(0, 0, 0, 0.15);\n",
              "      filter: drop-shadow(0px 1px 2px rgba(0, 0, 0, 0.3));\n",
              "      fill: #FFFFFF;\n",
              "    }\n",
              "  </style>\n",
              "\n",
              "      <script>\n",
              "        const buttonEl =\n",
              "          document.querySelector('#df-e015a2c1-09fb-4c26-93bf-6b377e591146 button.colab-df-convert');\n",
              "        buttonEl.style.display =\n",
              "          google.colab.kernel.accessAllowed ? 'block' : 'none';\n",
              "\n",
              "        async function convertToInteractive(key) {\n",
              "          const element = document.querySelector('#df-e015a2c1-09fb-4c26-93bf-6b377e591146');\n",
              "          const dataTable =\n",
              "            await google.colab.kernel.invokeFunction('convertToInteractive',\n",
              "                                                     [key], {});\n",
              "          if (!dataTable) return;\n",
              "\n",
              "          const docLinkHtml = 'Like what you see? Visit the ' +\n",
              "            '<a target=\"_blank\" href=https://colab.research.google.com/notebooks/data_table.ipynb>data table notebook</a>'\n",
              "            + ' to learn more about interactive tables.';\n",
              "          element.innerHTML = '';\n",
              "          dataTable['output_type'] = 'display_data';\n",
              "          await google.colab.output.renderOutput(dataTable, element);\n",
              "          const docLink = document.createElement('div');\n",
              "          docLink.innerHTML = docLinkHtml;\n",
              "          element.appendChild(docLink);\n",
              "        }\n",
              "      </script>\n",
              "    </div>\n",
              "  </div>\n",
              "  "
            ]
          },
          "metadata": {},
          "execution_count": 5
        }
      ]
    },
    {
      "cell_type": "markdown",
      "source": [
        "**Dados com a normalização de mínimo e máximo (variando de 0 a 1)**"
      ],
      "metadata": {
        "id": "d5wm6hQKnPRx"
      }
    },
    {
      "cell_type": "code",
      "source": [
        "from sklearn.preprocessing import MinMaxScaler\n",
        "escalonamento = MinMaxScaler(feature_range= (0,1))\n",
        "df = pd.DataFrame(escalonamento.fit_transform(df), columns=df.columns)"
      ],
      "metadata": {
        "id": "iWNS8vYUUGYw"
      },
      "execution_count": null,
      "outputs": []
    },
    {
      "cell_type": "code",
      "source": [
        "df"
      ],
      "metadata": {
        "colab": {
          "base_uri": "https://localhost:8080/",
          "height": 488
        },
        "id": "BJLsJsOVaIYR",
        "outputId": "25ae9ed1-8674-4b7f-e20b-e51a098de162"
      },
      "execution_count": null,
      "outputs": [
        {
          "output_type": "execute_result",
          "data": {
            "text/plain": [
              "       ideb_2015_ideb  ideb_2015_indicador_rendimento  \\\n",
              "0            0.243243                        0.652962   \n",
              "1            0.445946                        0.877133   \n",
              "2            0.445946                        0.903033   \n",
              "3            0.702703                        0.931875   \n",
              "4            0.445946                        0.857465   \n",
              "...               ...                             ...   \n",
              "11161        0.445946                        1.000000   \n",
              "11162        0.581081                        0.984807   \n",
              "11163        0.513514                        0.984994   \n",
              "11164        0.270270                        0.839874   \n",
              "11165        0.229730                        0.788051   \n",
              "\n",
              "       ideb_2015_nota_saeb_media_padronizada  ideb_2015_taxa_aprovacao  \\\n",
              "0                                   0.231924                  0.623557   \n",
              "1                                   0.401937                  0.872979   \n",
              "2                                   0.383576                  0.907621   \n",
              "3                                   0.696664                  0.928406   \n",
              "4                                   0.417623                  0.842956   \n",
              "...                                      ...                       ...   \n",
              "11161                               0.354134                  1.000000   \n",
              "11162                               0.516840                  0.990762   \n",
              "11163                               0.434885                  0.981524   \n",
              "11164                               0.200451                  0.884527   \n",
              "11165                               0.167876                  0.900693   \n",
              "\n",
              "       ideb_2017_ideb  ideb_2017_indicador_rendimento  \\\n",
              "0            0.371429                        0.723670   \n",
              "1            0.400000                        0.856383   \n",
              "2            0.442857                        0.905088   \n",
              "3            0.742857                        0.894034   \n",
              "4            0.571429                        0.941833   \n",
              "...               ...                             ...   \n",
              "11161        0.528571                        1.000000   \n",
              "11162        0.500000                        1.000000   \n",
              "11163        0.614286                        1.000000   \n",
              "11164        0.200000                        0.797984   \n",
              "11165        0.342857                        0.867277   \n",
              "\n",
              "       ideb_2017_nota_saeb_media_padronizada  ideb_2017_taxa_aprovacao  \\\n",
              "0                                   0.407268                  0.728723   \n",
              "1                                   0.381638                  0.859043   \n",
              "2                                   0.416990                  0.898936   \n",
              "3                                   0.779785                  0.888298   \n",
              "4                                   0.544382                  0.938830   \n",
              "...                                      ...                       ...   \n",
              "11161                               0.474865                  1.000000   \n",
              "11162                               0.435969                  1.000000   \n",
              "11163                               0.571409                  1.000000   \n",
              "11164                               0.167176                  0.792553   \n",
              "11165                               0.307401                  0.851064   \n",
              "\n",
              "       ideb_2019_ideb  ideb_2019_indicador_rendimento  ...  \\\n",
              "0            0.333333                        0.855722  ...   \n",
              "1            0.469697                        0.994286  ...   \n",
              "2            0.484848                        0.964344  ...   \n",
              "3            0.787879                        0.958256  ...   \n",
              "4            0.530303                        0.959576  ...   \n",
              "...               ...                             ...  ...   \n",
              "11161        0.500000                        1.000000  ...   \n",
              "11162        0.409091                        1.000000  ...   \n",
              "11163        0.545455                        0.996938  ...   \n",
              "11164        0.318182                        0.897512  ...   \n",
              "11165        0.409091                        0.899395  ...   \n",
              "\n",
              "       inep_2019_tnr_ef_2_ano  inep_2019_tnr_ef_3_ano  inep_2019_tnr_ef_4_ano  \\\n",
              "0                    0.076190                0.049363                0.118644   \n",
              "1                    0.000000                0.031847                0.122034   \n",
              "2                    0.121905                0.141720                0.000000   \n",
              "3                    0.068571                0.036624                0.033898   \n",
              "4                    0.000000                0.036624                0.042373   \n",
              "...                       ...                     ...                     ...   \n",
              "11161                0.022857                0.068471                0.018644   \n",
              "11162                0.000000                0.000000                0.038983   \n",
              "11163                0.019048                0.014331                0.000000   \n",
              "11164                0.000000                0.015924                0.015254   \n",
              "11165                0.000000                0.065287                0.028814   \n",
              "\n",
              "       inep_2019_tnr_ef_5_ano  inep_2019_tnr_ef_anos_iniciais  \\\n",
              "0                    0.051020                        0.073555   \n",
              "1                    0.020408                        0.043783   \n",
              "2                    0.000000                        0.073555   \n",
              "3                    0.022449                        0.049037   \n",
              "4                    0.022449                        0.031524   \n",
              "...                       ...                             ...   \n",
              "11161                0.055102                        0.035026   \n",
              "11162                0.057143                        0.021016   \n",
              "11163                0.014286                        0.012259   \n",
              "11164                0.000000                        0.008757   \n",
              "11165                0.000000                        0.024518   \n",
              "\n",
              "       engajamento_responsaveis_2019  tempo_lazer_2019  \\\n",
              "0                           0.758779          0.513054   \n",
              "1                           0.865789          0.710746   \n",
              "2                           0.892368          0.781729   \n",
              "3                           0.901161          0.895274   \n",
              "4                           0.847366          0.722382   \n",
              "...                              ...               ...   \n",
              "11161                       0.849555          0.656429   \n",
              "11162                       0.817846          0.720969   \n",
              "11163                       0.866682          0.769272   \n",
              "11164                       0.886668          0.680233   \n",
              "11165                       0.903972          0.561373   \n",
              "\n",
              "       idade_entrada_escola_2019  desempenho_LP_5ano_2019  \\\n",
              "0                       0.413121                 0.292484   \n",
              "1                       0.355257                 0.417072   \n",
              "2                       0.203953                 0.449136   \n",
              "3                       0.294746                 0.765711   \n",
              "4                       0.387805                 0.473788   \n",
              "...                          ...                      ...   \n",
              "11161                   0.511640                 0.399899   \n",
              "11162                   0.520434                 0.355256   \n",
              "11163                   0.535702                 0.480876   \n",
              "11164                   0.267405                 0.305403   \n",
              "11165                   0.431240                 0.382727   \n",
              "\n",
              "       desempenho_MT_5ano_2019  \n",
              "0                     0.300759  \n",
              "1                     0.391215  \n",
              "2                     0.421999  \n",
              "3                     0.794837  \n",
              "4                     0.523205  \n",
              "...                        ...  \n",
              "11161                 0.467964  \n",
              "11162                 0.337286  \n",
              "11163                 0.516616  \n",
              "11164                 0.262363  \n",
              "11165                 0.363950  \n",
              "\n",
              "[11166 rows x 234 columns]"
            ],
            "text/html": [
              "\n",
              "  <div id=\"df-e1810022-2906-434e-8a11-7e9fff7a14a7\">\n",
              "    <div class=\"colab-df-container\">\n",
              "      <div>\n",
              "<style scoped>\n",
              "    .dataframe tbody tr th:only-of-type {\n",
              "        vertical-align: middle;\n",
              "    }\n",
              "\n",
              "    .dataframe tbody tr th {\n",
              "        vertical-align: top;\n",
              "    }\n",
              "\n",
              "    .dataframe thead th {\n",
              "        text-align: right;\n",
              "    }\n",
              "</style>\n",
              "<table border=\"1\" class=\"dataframe\">\n",
              "  <thead>\n",
              "    <tr style=\"text-align: right;\">\n",
              "      <th></th>\n",
              "      <th>ideb_2015_ideb</th>\n",
              "      <th>ideb_2015_indicador_rendimento</th>\n",
              "      <th>ideb_2015_nota_saeb_media_padronizada</th>\n",
              "      <th>ideb_2015_taxa_aprovacao</th>\n",
              "      <th>ideb_2017_ideb</th>\n",
              "      <th>ideb_2017_indicador_rendimento</th>\n",
              "      <th>ideb_2017_nota_saeb_media_padronizada</th>\n",
              "      <th>ideb_2017_taxa_aprovacao</th>\n",
              "      <th>ideb_2019_ideb</th>\n",
              "      <th>ideb_2019_indicador_rendimento</th>\n",
              "      <th>...</th>\n",
              "      <th>inep_2019_tnr_ef_2_ano</th>\n",
              "      <th>inep_2019_tnr_ef_3_ano</th>\n",
              "      <th>inep_2019_tnr_ef_4_ano</th>\n",
              "      <th>inep_2019_tnr_ef_5_ano</th>\n",
              "      <th>inep_2019_tnr_ef_anos_iniciais</th>\n",
              "      <th>engajamento_responsaveis_2019</th>\n",
              "      <th>tempo_lazer_2019</th>\n",
              "      <th>idade_entrada_escola_2019</th>\n",
              "      <th>desempenho_LP_5ano_2019</th>\n",
              "      <th>desempenho_MT_5ano_2019</th>\n",
              "    </tr>\n",
              "  </thead>\n",
              "  <tbody>\n",
              "    <tr>\n",
              "      <th>0</th>\n",
              "      <td>0.243243</td>\n",
              "      <td>0.652962</td>\n",
              "      <td>0.231924</td>\n",
              "      <td>0.623557</td>\n",
              "      <td>0.371429</td>\n",
              "      <td>0.723670</td>\n",
              "      <td>0.407268</td>\n",
              "      <td>0.728723</td>\n",
              "      <td>0.333333</td>\n",
              "      <td>0.855722</td>\n",
              "      <td>...</td>\n",
              "      <td>0.076190</td>\n",
              "      <td>0.049363</td>\n",
              "      <td>0.118644</td>\n",
              "      <td>0.051020</td>\n",
              "      <td>0.073555</td>\n",
              "      <td>0.758779</td>\n",
              "      <td>0.513054</td>\n",
              "      <td>0.413121</td>\n",
              "      <td>0.292484</td>\n",
              "      <td>0.300759</td>\n",
              "    </tr>\n",
              "    <tr>\n",
              "      <th>1</th>\n",
              "      <td>0.445946</td>\n",
              "      <td>0.877133</td>\n",
              "      <td>0.401937</td>\n",
              "      <td>0.872979</td>\n",
              "      <td>0.400000</td>\n",
              "      <td>0.856383</td>\n",
              "      <td>0.381638</td>\n",
              "      <td>0.859043</td>\n",
              "      <td>0.469697</td>\n",
              "      <td>0.994286</td>\n",
              "      <td>...</td>\n",
              "      <td>0.000000</td>\n",
              "      <td>0.031847</td>\n",
              "      <td>0.122034</td>\n",
              "      <td>0.020408</td>\n",
              "      <td>0.043783</td>\n",
              "      <td>0.865789</td>\n",
              "      <td>0.710746</td>\n",
              "      <td>0.355257</td>\n",
              "      <td>0.417072</td>\n",
              "      <td>0.391215</td>\n",
              "    </tr>\n",
              "    <tr>\n",
              "      <th>2</th>\n",
              "      <td>0.445946</td>\n",
              "      <td>0.903033</td>\n",
              "      <td>0.383576</td>\n",
              "      <td>0.907621</td>\n",
              "      <td>0.442857</td>\n",
              "      <td>0.905088</td>\n",
              "      <td>0.416990</td>\n",
              "      <td>0.898936</td>\n",
              "      <td>0.484848</td>\n",
              "      <td>0.964344</td>\n",
              "      <td>...</td>\n",
              "      <td>0.121905</td>\n",
              "      <td>0.141720</td>\n",
              "      <td>0.000000</td>\n",
              "      <td>0.000000</td>\n",
              "      <td>0.073555</td>\n",
              "      <td>0.892368</td>\n",
              "      <td>0.781729</td>\n",
              "      <td>0.203953</td>\n",
              "      <td>0.449136</td>\n",
              "      <td>0.421999</td>\n",
              "    </tr>\n",
              "    <tr>\n",
              "      <th>3</th>\n",
              "      <td>0.702703</td>\n",
              "      <td>0.931875</td>\n",
              "      <td>0.696664</td>\n",
              "      <td>0.928406</td>\n",
              "      <td>0.742857</td>\n",
              "      <td>0.894034</td>\n",
              "      <td>0.779785</td>\n",
              "      <td>0.888298</td>\n",
              "      <td>0.787879</td>\n",
              "      <td>0.958256</td>\n",
              "      <td>...</td>\n",
              "      <td>0.068571</td>\n",
              "      <td>0.036624</td>\n",
              "      <td>0.033898</td>\n",
              "      <td>0.022449</td>\n",
              "      <td>0.049037</td>\n",
              "      <td>0.901161</td>\n",
              "      <td>0.895274</td>\n",
              "      <td>0.294746</td>\n",
              "      <td>0.765711</td>\n",
              "      <td>0.794837</td>\n",
              "    </tr>\n",
              "    <tr>\n",
              "      <th>4</th>\n",
              "      <td>0.445946</td>\n",
              "      <td>0.857465</td>\n",
              "      <td>0.417623</td>\n",
              "      <td>0.842956</td>\n",
              "      <td>0.571429</td>\n",
              "      <td>0.941833</td>\n",
              "      <td>0.544382</td>\n",
              "      <td>0.938830</td>\n",
              "      <td>0.530303</td>\n",
              "      <td>0.959576</td>\n",
              "      <td>...</td>\n",
              "      <td>0.000000</td>\n",
              "      <td>0.036624</td>\n",
              "      <td>0.042373</td>\n",
              "      <td>0.022449</td>\n",
              "      <td>0.031524</td>\n",
              "      <td>0.847366</td>\n",
              "      <td>0.722382</td>\n",
              "      <td>0.387805</td>\n",
              "      <td>0.473788</td>\n",
              "      <td>0.523205</td>\n",
              "    </tr>\n",
              "    <tr>\n",
              "      <th>...</th>\n",
              "      <td>...</td>\n",
              "      <td>...</td>\n",
              "      <td>...</td>\n",
              "      <td>...</td>\n",
              "      <td>...</td>\n",
              "      <td>...</td>\n",
              "      <td>...</td>\n",
              "      <td>...</td>\n",
              "      <td>...</td>\n",
              "      <td>...</td>\n",
              "      <td>...</td>\n",
              "      <td>...</td>\n",
              "      <td>...</td>\n",
              "      <td>...</td>\n",
              "      <td>...</td>\n",
              "      <td>...</td>\n",
              "      <td>...</td>\n",
              "      <td>...</td>\n",
              "      <td>...</td>\n",
              "      <td>...</td>\n",
              "      <td>...</td>\n",
              "    </tr>\n",
              "    <tr>\n",
              "      <th>11161</th>\n",
              "      <td>0.445946</td>\n",
              "      <td>1.000000</td>\n",
              "      <td>0.354134</td>\n",
              "      <td>1.000000</td>\n",
              "      <td>0.528571</td>\n",
              "      <td>1.000000</td>\n",
              "      <td>0.474865</td>\n",
              "      <td>1.000000</td>\n",
              "      <td>0.500000</td>\n",
              "      <td>1.000000</td>\n",
              "      <td>...</td>\n",
              "      <td>0.022857</td>\n",
              "      <td>0.068471</td>\n",
              "      <td>0.018644</td>\n",
              "      <td>0.055102</td>\n",
              "      <td>0.035026</td>\n",
              "      <td>0.849555</td>\n",
              "      <td>0.656429</td>\n",
              "      <td>0.511640</td>\n",
              "      <td>0.399899</td>\n",
              "      <td>0.467964</td>\n",
              "    </tr>\n",
              "    <tr>\n",
              "      <th>11162</th>\n",
              "      <td>0.581081</td>\n",
              "      <td>0.984807</td>\n",
              "      <td>0.516840</td>\n",
              "      <td>0.990762</td>\n",
              "      <td>0.500000</td>\n",
              "      <td>1.000000</td>\n",
              "      <td>0.435969</td>\n",
              "      <td>1.000000</td>\n",
              "      <td>0.409091</td>\n",
              "      <td>1.000000</td>\n",
              "      <td>...</td>\n",
              "      <td>0.000000</td>\n",
              "      <td>0.000000</td>\n",
              "      <td>0.038983</td>\n",
              "      <td>0.057143</td>\n",
              "      <td>0.021016</td>\n",
              "      <td>0.817846</td>\n",
              "      <td>0.720969</td>\n",
              "      <td>0.520434</td>\n",
              "      <td>0.355256</td>\n",
              "      <td>0.337286</td>\n",
              "    </tr>\n",
              "    <tr>\n",
              "      <th>11163</th>\n",
              "      <td>0.513514</td>\n",
              "      <td>0.984994</td>\n",
              "      <td>0.434885</td>\n",
              "      <td>0.981524</td>\n",
              "      <td>0.614286</td>\n",
              "      <td>1.000000</td>\n",
              "      <td>0.571409</td>\n",
              "      <td>1.000000</td>\n",
              "      <td>0.545455</td>\n",
              "      <td>0.996938</td>\n",
              "      <td>...</td>\n",
              "      <td>0.019048</td>\n",
              "      <td>0.014331</td>\n",
              "      <td>0.000000</td>\n",
              "      <td>0.014286</td>\n",
              "      <td>0.012259</td>\n",
              "      <td>0.866682</td>\n",
              "      <td>0.769272</td>\n",
              "      <td>0.535702</td>\n",
              "      <td>0.480876</td>\n",
              "      <td>0.516616</td>\n",
              "    </tr>\n",
              "    <tr>\n",
              "      <th>11164</th>\n",
              "      <td>0.270270</td>\n",
              "      <td>0.839874</td>\n",
              "      <td>0.200451</td>\n",
              "      <td>0.884527</td>\n",
              "      <td>0.200000</td>\n",
              "      <td>0.797984</td>\n",
              "      <td>0.167176</td>\n",
              "      <td>0.792553</td>\n",
              "      <td>0.318182</td>\n",
              "      <td>0.897512</td>\n",
              "      <td>...</td>\n",
              "      <td>0.000000</td>\n",
              "      <td>0.015924</td>\n",
              "      <td>0.015254</td>\n",
              "      <td>0.000000</td>\n",
              "      <td>0.008757</td>\n",
              "      <td>0.886668</td>\n",
              "      <td>0.680233</td>\n",
              "      <td>0.267405</td>\n",
              "      <td>0.305403</td>\n",
              "      <td>0.262363</td>\n",
              "    </tr>\n",
              "    <tr>\n",
              "      <th>11165</th>\n",
              "      <td>0.229730</td>\n",
              "      <td>0.788051</td>\n",
              "      <td>0.167876</td>\n",
              "      <td>0.900693</td>\n",
              "      <td>0.342857</td>\n",
              "      <td>0.867277</td>\n",
              "      <td>0.307401</td>\n",
              "      <td>0.851064</td>\n",
              "      <td>0.409091</td>\n",
              "      <td>0.899395</td>\n",
              "      <td>...</td>\n",
              "      <td>0.000000</td>\n",
              "      <td>0.065287</td>\n",
              "      <td>0.028814</td>\n",
              "      <td>0.000000</td>\n",
              "      <td>0.024518</td>\n",
              "      <td>0.903972</td>\n",
              "      <td>0.561373</td>\n",
              "      <td>0.431240</td>\n",
              "      <td>0.382727</td>\n",
              "      <td>0.363950</td>\n",
              "    </tr>\n",
              "  </tbody>\n",
              "</table>\n",
              "<p>11166 rows × 234 columns</p>\n",
              "</div>\n",
              "      <button class=\"colab-df-convert\" onclick=\"convertToInteractive('df-e1810022-2906-434e-8a11-7e9fff7a14a7')\"\n",
              "              title=\"Convert this dataframe to an interactive table.\"\n",
              "              style=\"display:none;\">\n",
              "        \n",
              "  <svg xmlns=\"http://www.w3.org/2000/svg\" height=\"24px\"viewBox=\"0 0 24 24\"\n",
              "       width=\"24px\">\n",
              "    <path d=\"M0 0h24v24H0V0z\" fill=\"none\"/>\n",
              "    <path d=\"M18.56 5.44l.94 2.06.94-2.06 2.06-.94-2.06-.94-.94-2.06-.94 2.06-2.06.94zm-11 1L8.5 8.5l.94-2.06 2.06-.94-2.06-.94L8.5 2.5l-.94 2.06-2.06.94zm10 10l.94 2.06.94-2.06 2.06-.94-2.06-.94-.94-2.06-.94 2.06-2.06.94z\"/><path d=\"M17.41 7.96l-1.37-1.37c-.4-.4-.92-.59-1.43-.59-.52 0-1.04.2-1.43.59L10.3 9.45l-7.72 7.72c-.78.78-.78 2.05 0 2.83L4 21.41c.39.39.9.59 1.41.59.51 0 1.02-.2 1.41-.59l7.78-7.78 2.81-2.81c.8-.78.8-2.07 0-2.86zM5.41 20L4 18.59l7.72-7.72 1.47 1.35L5.41 20z\"/>\n",
              "  </svg>\n",
              "      </button>\n",
              "      \n",
              "  <style>\n",
              "    .colab-df-container {\n",
              "      display:flex;\n",
              "      flex-wrap:wrap;\n",
              "      gap: 12px;\n",
              "    }\n",
              "\n",
              "    .colab-df-convert {\n",
              "      background-color: #E8F0FE;\n",
              "      border: none;\n",
              "      border-radius: 50%;\n",
              "      cursor: pointer;\n",
              "      display: none;\n",
              "      fill: #1967D2;\n",
              "      height: 32px;\n",
              "      padding: 0 0 0 0;\n",
              "      width: 32px;\n",
              "    }\n",
              "\n",
              "    .colab-df-convert:hover {\n",
              "      background-color: #E2EBFA;\n",
              "      box-shadow: 0px 1px 2px rgba(60, 64, 67, 0.3), 0px 1px 3px 1px rgba(60, 64, 67, 0.15);\n",
              "      fill: #174EA6;\n",
              "    }\n",
              "\n",
              "    [theme=dark] .colab-df-convert {\n",
              "      background-color: #3B4455;\n",
              "      fill: #D2E3FC;\n",
              "    }\n",
              "\n",
              "    [theme=dark] .colab-df-convert:hover {\n",
              "      background-color: #434B5C;\n",
              "      box-shadow: 0px 1px 3px 1px rgba(0, 0, 0, 0.15);\n",
              "      filter: drop-shadow(0px 1px 2px rgba(0, 0, 0, 0.3));\n",
              "      fill: #FFFFFF;\n",
              "    }\n",
              "  </style>\n",
              "\n",
              "      <script>\n",
              "        const buttonEl =\n",
              "          document.querySelector('#df-e1810022-2906-434e-8a11-7e9fff7a14a7 button.colab-df-convert');\n",
              "        buttonEl.style.display =\n",
              "          google.colab.kernel.accessAllowed ? 'block' : 'none';\n",
              "\n",
              "        async function convertToInteractive(key) {\n",
              "          const element = document.querySelector('#df-e1810022-2906-434e-8a11-7e9fff7a14a7');\n",
              "          const dataTable =\n",
              "            await google.colab.kernel.invokeFunction('convertToInteractive',\n",
              "                                                     [key], {});\n",
              "          if (!dataTable) return;\n",
              "\n",
              "          const docLinkHtml = 'Like what you see? Visit the ' +\n",
              "            '<a target=\"_blank\" href=https://colab.research.google.com/notebooks/data_table.ipynb>data table notebook</a>'\n",
              "            + ' to learn more about interactive tables.';\n",
              "          element.innerHTML = '';\n",
              "          dataTable['output_type'] = 'display_data';\n",
              "          await google.colab.output.renderOutput(dataTable, element);\n",
              "          const docLink = document.createElement('div');\n",
              "          docLink.innerHTML = docLinkHtml;\n",
              "          element.appendChild(docLink);\n",
              "        }\n",
              "      </script>\n",
              "    </div>\n",
              "  </div>\n",
              "  "
            ]
          },
          "metadata": {},
          "execution_count": 5
        }
      ]
    },
    {
      "cell_type": "markdown",
      "source": [
        "**Estudo de correlação com todas as colunas**"
      ],
      "metadata": {
        "id": "3SvLFjVm9cOU"
      }
    },
    {
      "cell_type": "code",
      "source": [
        "# dica: se duas variáveis do mesmo ano tem correlação muito alta,\n",
        "# provavelmente são dependentes\n",
        "# exemplo, o ideb2019 usa o desempenho 2019 dos alunos em sua composição\n",
        "\n",
        "# atributo alvo\n",
        "target = 'desempenho_MT_5ano_2019'\n",
        "\n",
        "# correlação\n",
        "df.corr()[target].sort_values(ascending=False)[0:20]"
      ],
      "metadata": {
        "colab": {
          "base_uri": "https://localhost:8080/"
        },
        "id": "Q10oA2aq0xhF",
        "outputId": "a3d34ce1-2299-4619-9d53-b364e9a41de3"
      },
      "execution_count": null,
      "outputs": [
        {
          "output_type": "execute_result",
          "data": {
            "text/plain": [
              "desempenho_MT_5ano_2019                      1.000000\n",
              "ideb_2019_nota_saeb_media_padronizada        0.988334\n",
              "ideb_2019_ideb                               0.951658\n",
              "desempenho_LP_5ano_2019                      0.948067\n",
              "ideb_2017_nota_saeb_media_padronizada        0.867046\n",
              "ideb_2017_ideb                               0.844553\n",
              "ideb_2015_nota_saeb_media_padronizada        0.822796\n",
              "ideb_2015_ideb                               0.805162\n",
              "tempo_lazer_2019                             0.716332\n",
              "engajamento_responsaveis_2019                0.538776\n",
              "inep_2015_taxa_aprovacao_ef                  0.498452\n",
              "ideb_2015_taxa_aprovacao                     0.495344\n",
              "inep_2015_taxa_aprovacao_ef_anos_iniciais    0.495344\n",
              "inep_2017_taxa_aprovacao_ef                  0.493665\n",
              "ideb_2015_indicador_rendimento               0.490168\n",
              "ideb_2017_taxa_aprovacao                     0.489762\n",
              "inep_2017_taxa_aprovacao_ef_anos_iniciais    0.489762\n",
              "ideb_2017_indicador_rendimento               0.479234\n",
              "inep_2017_taxa_aprovacao_ef_5_ano            0.478918\n",
              "inep_2015_taxa_aprovacao_ef_5_ano            0.477692\n",
              "Name: desempenho_MT_5ano_2019, dtype: float64"
            ]
          },
          "metadata": {},
          "execution_count": 4
        }
      ]
    },
    {
      "cell_type": "markdown",
      "source": [
        "**Primeiramente usou-se o dataset completo, depois foi feita a restrição de colunas**"
      ],
      "metadata": {
        "id": "FDST9zZ8niNR"
      }
    },
    {
      "cell_type": "code",
      "source": [
        "X = df.copy()\t"
      ],
      "metadata": {
        "id": "eG7X-MkhfvrA"
      },
      "execution_count": null,
      "outputs": []
    },
    {
      "cell_type": "code",
      "source": [
        "X['desempenho_MT_5ano_2019']"
      ],
      "metadata": {
        "colab": {
          "base_uri": "https://localhost:8080/"
        },
        "id": "nDG2Qk2qkC6l",
        "outputId": "5ebb561d-8036-4470-c233-3472702ad998"
      },
      "execution_count": null,
      "outputs": [
        {
          "output_type": "execute_result",
          "data": {
            "text/plain": [
              "id_escola\n",
              "12023531    206.353100\n",
              "12048224    221.439707\n",
              "12015873    226.573946\n",
              "12016438    288.757271\n",
              "12016535    243.453455\n",
              "               ...    \n",
              "17051991    234.240230\n",
              "17053552    212.445270\n",
              "17067804    242.354441\n",
              "17004780    199.949319\n",
              "17047781    216.892294\n",
              "Name: desempenho_MT_5ano_2019, Length: 11166, dtype: float64"
            ]
          },
          "metadata": {},
          "execution_count": 8
        }
      ]
    },
    {
      "cell_type": "markdown",
      "source": [
        "**Colunas do saeb e ideb foram dropadas, pois estão muito correlacionadas e complementam, participam da formação do target**"
      ],
      "metadata": {
        "id": "cExh8Ik6n55p"
      }
    },
    {
      "cell_type": "code",
      "source": [
        "X.drop(['desempenho_MT_5ano_2019', 'ideb_2019_nota_saeb_media_padronizada', 'ideb_2019_ideb', 'desempenho_LP_5ano_2019', \n",
        "], axis=1, inplace=True)"
      ],
      "metadata": {
        "id": "wJqkOEYWjSQS"
      },
      "execution_count": null,
      "outputs": []
    },
    {
      "cell_type": "markdown",
      "source": [
        "**Primeira configuração dos atributos**"
      ],
      "metadata": {
        "id": "eF6t6Qj8oUiB"
      }
    },
    {
      "cell_type": "code",
      "source": [
        "X.drop(['desempenho_MT_5ano_2019', 'ideb_2019_nota_saeb_media_padronizada', 'ideb_2019_ideb', 'desempenho_LP_5ano_2019', 'ideb_2015_taxa_aprovacao', 'ideb_2017_taxa_aprovacao', 'ideb_2019_taxa_aprovacao',  'inep_2015_taxa_abandono_ef',\n",
        " 'inep_2015_taxa_abandono_ef_1_ano',\n",
        " 'inep_2015_taxa_abandono_ef_2_ano',\n",
        " 'inep_2015_taxa_abandono_ef_3_ano',\n",
        " 'inep_2015_taxa_abandono_ef_4_ano',\n",
        " 'inep_2015_taxa_abandono_ef_5_ano',\n",
        " 'inep_2015_taxa_abandono_ef_anos_iniciais',\n",
        " 'inep_2015_taxa_aprovacao_ef',\n",
        " 'inep_2015_taxa_aprovacao_ef_1_ano',\n",
        " 'inep_2015_taxa_aprovacao_ef_2_ano',\n",
        " 'inep_2015_taxa_aprovacao_ef_3_ano',\n",
        " 'inep_2015_taxa_aprovacao_ef_4_ano',\n",
        " 'inep_2015_taxa_aprovacao_ef_5_ano',\n",
        " 'inep_2015_taxa_aprovacao_ef_anos_iniciais',\n",
        " 'inep_2015_taxa_reprovacao_ef',\n",
        " 'inep_2015_taxa_reprovacao_ef_1_ano',\n",
        " 'inep_2015_taxa_reprovacao_ef_2_ano',\n",
        " 'inep_2015_taxa_reprovacao_ef_3_ano',\n",
        " 'inep_2015_taxa_reprovacao_ef_4_ano',\n",
        " 'inep_2015_taxa_reprovacao_ef_5_ano',\n",
        " 'inep_2015_taxa_reprovacao_ef_anos_iniciais', 'inep_2017_taxa_abandono_ef',\n",
        " 'inep_2017_taxa_abandono_ef_1_ano',\n",
        " 'inep_2017_taxa_abandono_ef_2_ano',\n",
        " 'inep_2017_taxa_abandono_ef_3_ano',\n",
        " 'inep_2017_taxa_abandono_ef_4_ano',\n",
        " 'inep_2017_taxa_abandono_ef_5_ano',\n",
        " 'inep_2017_taxa_abandono_ef_anos_iniciais',\n",
        " 'inep_2017_taxa_aprovacao_ef',\n",
        " 'inep_2017_taxa_aprovacao_ef_1_ano',\n",
        " 'inep_2017_taxa_aprovacao_ef_2_ano',\n",
        " 'inep_2017_taxa_aprovacao_ef_3_ano',\n",
        " 'inep_2017_taxa_aprovacao_ef_4_ano',\n",
        " 'inep_2017_taxa_aprovacao_ef_5_ano',\n",
        " 'inep_2017_taxa_aprovacao_ef_anos_iniciais',\n",
        " 'inep_2017_taxa_reprovacao_ef',\n",
        " 'inep_2017_taxa_reprovacao_ef_1_ano',\n",
        " 'inep_2017_taxa_reprovacao_ef_2_ano',\n",
        " 'inep_2017_taxa_reprovacao_ef_3_ano',\n",
        " 'inep_2017_taxa_reprovacao_ef_4_ano',\n",
        " 'inep_2017_taxa_reprovacao_ef_5_ano',\n",
        " 'inep_2017_taxa_reprovacao_ef_anos_iniciais', 'inep_2019_taxa_abandono_ef',\n",
        " 'inep_2019_taxa_abandono_ef_1_ano',\n",
        " 'inep_2019_taxa_abandono_ef_2_ano',\n",
        " 'inep_2019_taxa_abandono_ef_3_ano',\n",
        " 'inep_2019_taxa_abandono_ef_4_ano',\n",
        " 'inep_2019_taxa_abandono_ef_5_ano',\n",
        " 'inep_2019_taxa_abandono_ef_anos_iniciais',\n",
        " 'inep_2019_taxa_aprovacao_ef',\n",
        " 'inep_2019_taxa_aprovacao_ef_1_ano',\n",
        " 'inep_2019_taxa_aprovacao_ef_2_ano',\n",
        " 'inep_2019_taxa_aprovacao_ef_3_ano',\n",
        " 'inep_2019_taxa_aprovacao_ef_4_ano',\n",
        " 'inep_2019_taxa_aprovacao_ef_5_ano',\n",
        " 'inep_2019_taxa_aprovacao_ef_anos_iniciais',\n",
        " 'inep_2019_taxa_reprovacao_ef',\n",
        " 'inep_2019_taxa_reprovacao_ef_1_ano',\n",
        " 'inep_2019_taxa_reprovacao_ef_2_ano',\n",
        " 'inep_2019_taxa_reprovacao_ef_3_ano',\n",
        " 'inep_2019_taxa_reprovacao_ef_4_ano',\n",
        " 'inep_2019_taxa_reprovacao_ef_5_ano',\n",
        " 'inep_2019_taxa_reprovacao_ef_anos_iniciais',\n",
        "], axis=1, inplace=True)\n"
      ],
      "metadata": {
        "id": "-GeHlg_dvZsy"
      },
      "execution_count": null,
      "outputs": []
    },
    {
      "cell_type": "markdown",
      "source": [
        "**Segunda configuração dos atributos**"
      ],
      "metadata": {
        "id": "UFLGZ6KeoY0D"
      }
    },
    {
      "cell_type": "code",
      "source": [
        "X = df[['ideb_2015_ideb', 'ideb_2017_ideb', 'ideb_2019_indicador_rendimento', 'ideb_2017_nota_saeb_media_padronizada', 'ideb_2015_nota_saeb_media_padronizada',\n",
        " 'tempo_lazer_2019', 'engajamento_responsaveis_2019', 'ideb_2017_indicador_rendimento', 'inep_2019_tdi_ef_5_ano', 'inep_2015_tdi_ef_3_ano', \n",
        " 'idade_entrada_escola_2019', 'inep_2019_tdi_ef_4_ano', 'inep_2019_tdi_ef_2_ano', 'inep_2017_tdi_ef_5_ano', 'inep_2015_tnr_ef_anos_iniciais',\n",
        " 'inep_2019_ird_media_regularidade_docente', 'inep_2019_tdi_ef_anos_iniciais', 'inep_2019_tdi_ef_3_ano', 'inep_2015_ied_ef_anos_iniciais_nivel_3',\n",
        " 'inep_2019_atu_ef_5_ano'\n",
        "]]"
      ],
      "metadata": {
        "id": "xkfw8wTePECi"
      },
      "execution_count": null,
      "outputs": []
    },
    {
      "cell_type": "markdown",
      "source": [
        "**Configuração final de atributos**"
      ],
      "metadata": {
        "id": "ccpgAQ5Cod7f"
      }
    },
    {
      "cell_type": "code",
      "source": [
        "X = df[['ideb_2015_ideb', 'ideb_2017_ideb', 'ideb_2019_indicador_rendimento', 'ideb_2017_nota_saeb_media_padronizada', 'ideb_2015_nota_saeb_media_padronizada',\n",
        "'ideb_2017_indicador_rendimento', 'tempo_lazer_2019', 'inep_2019_tdi_ef_5_ano', 'engajamento_responsaveis_2019', 'idade_entrada_escola_2019']]"
      ],
      "metadata": {
        "id": "H8iaM5BhUqz6"
      },
      "execution_count": null,
      "outputs": []
    },
    {
      "cell_type": "code",
      "source": [
        "X.head()"
      ],
      "metadata": {
        "colab": {
          "base_uri": "https://localhost:8080/",
          "height": 270
        },
        "id": "AwWmnpUWjLqr",
        "outputId": "f09901e2-db77-4a2c-c893-18cf873d42c7"
      },
      "execution_count": null,
      "outputs": [
        {
          "output_type": "execute_result",
          "data": {
            "text/plain": [
              "   ideb_2015_ideb  ideb_2017_ideb  ideb_2019_indicador_rendimento  \\\n",
              "0        0.243243        0.371429                        0.855722   \n",
              "1        0.445946        0.400000                        0.994286   \n",
              "2        0.445946        0.442857                        0.964344   \n",
              "3        0.702703        0.742857                        0.958256   \n",
              "4        0.445946        0.571429                        0.959576   \n",
              "\n",
              "   ideb_2017_nota_saeb_media_padronizada  \\\n",
              "0                               0.407268   \n",
              "1                               0.381638   \n",
              "2                               0.416990   \n",
              "3                               0.779785   \n",
              "4                               0.544382   \n",
              "\n",
              "   ideb_2015_nota_saeb_media_padronizada  ideb_2017_indicador_rendimento  \\\n",
              "0                               0.231924                        0.723670   \n",
              "1                               0.401937                        0.856383   \n",
              "2                               0.383576                        0.905088   \n",
              "3                               0.696664                        0.894034   \n",
              "4                               0.417623                        0.941833   \n",
              "\n",
              "   tempo_lazer_2019  inep_2019_tdi_ef_5_ano  engajamento_responsaveis_2019  \\\n",
              "0          0.513054                0.281429                       0.758779   \n",
              "1          0.710746                0.228571                       0.865789   \n",
              "2          0.781729                0.110000                       0.892368   \n",
              "3          0.895274                0.078571                       0.901161   \n",
              "4          0.722382                0.140000                       0.847366   \n",
              "\n",
              "   idade_entrada_escola_2019  \n",
              "0                   0.413121  \n",
              "1                   0.355257  \n",
              "2                   0.203953  \n",
              "3                   0.294746  \n",
              "4                   0.387805  "
            ],
            "text/html": [
              "\n",
              "  <div id=\"df-67aefd74-312d-463f-b7ac-825d49a9497a\">\n",
              "    <div class=\"colab-df-container\">\n",
              "      <div>\n",
              "<style scoped>\n",
              "    .dataframe tbody tr th:only-of-type {\n",
              "        vertical-align: middle;\n",
              "    }\n",
              "\n",
              "    .dataframe tbody tr th {\n",
              "        vertical-align: top;\n",
              "    }\n",
              "\n",
              "    .dataframe thead th {\n",
              "        text-align: right;\n",
              "    }\n",
              "</style>\n",
              "<table border=\"1\" class=\"dataframe\">\n",
              "  <thead>\n",
              "    <tr style=\"text-align: right;\">\n",
              "      <th></th>\n",
              "      <th>ideb_2015_ideb</th>\n",
              "      <th>ideb_2017_ideb</th>\n",
              "      <th>ideb_2019_indicador_rendimento</th>\n",
              "      <th>ideb_2017_nota_saeb_media_padronizada</th>\n",
              "      <th>ideb_2015_nota_saeb_media_padronizada</th>\n",
              "      <th>ideb_2017_indicador_rendimento</th>\n",
              "      <th>tempo_lazer_2019</th>\n",
              "      <th>inep_2019_tdi_ef_5_ano</th>\n",
              "      <th>engajamento_responsaveis_2019</th>\n",
              "      <th>idade_entrada_escola_2019</th>\n",
              "    </tr>\n",
              "  </thead>\n",
              "  <tbody>\n",
              "    <tr>\n",
              "      <th>0</th>\n",
              "      <td>0.243243</td>\n",
              "      <td>0.371429</td>\n",
              "      <td>0.855722</td>\n",
              "      <td>0.407268</td>\n",
              "      <td>0.231924</td>\n",
              "      <td>0.723670</td>\n",
              "      <td>0.513054</td>\n",
              "      <td>0.281429</td>\n",
              "      <td>0.758779</td>\n",
              "      <td>0.413121</td>\n",
              "    </tr>\n",
              "    <tr>\n",
              "      <th>1</th>\n",
              "      <td>0.445946</td>\n",
              "      <td>0.400000</td>\n",
              "      <td>0.994286</td>\n",
              "      <td>0.381638</td>\n",
              "      <td>0.401937</td>\n",
              "      <td>0.856383</td>\n",
              "      <td>0.710746</td>\n",
              "      <td>0.228571</td>\n",
              "      <td>0.865789</td>\n",
              "      <td>0.355257</td>\n",
              "    </tr>\n",
              "    <tr>\n",
              "      <th>2</th>\n",
              "      <td>0.445946</td>\n",
              "      <td>0.442857</td>\n",
              "      <td>0.964344</td>\n",
              "      <td>0.416990</td>\n",
              "      <td>0.383576</td>\n",
              "      <td>0.905088</td>\n",
              "      <td>0.781729</td>\n",
              "      <td>0.110000</td>\n",
              "      <td>0.892368</td>\n",
              "      <td>0.203953</td>\n",
              "    </tr>\n",
              "    <tr>\n",
              "      <th>3</th>\n",
              "      <td>0.702703</td>\n",
              "      <td>0.742857</td>\n",
              "      <td>0.958256</td>\n",
              "      <td>0.779785</td>\n",
              "      <td>0.696664</td>\n",
              "      <td>0.894034</td>\n",
              "      <td>0.895274</td>\n",
              "      <td>0.078571</td>\n",
              "      <td>0.901161</td>\n",
              "      <td>0.294746</td>\n",
              "    </tr>\n",
              "    <tr>\n",
              "      <th>4</th>\n",
              "      <td>0.445946</td>\n",
              "      <td>0.571429</td>\n",
              "      <td>0.959576</td>\n",
              "      <td>0.544382</td>\n",
              "      <td>0.417623</td>\n",
              "      <td>0.941833</td>\n",
              "      <td>0.722382</td>\n",
              "      <td>0.140000</td>\n",
              "      <td>0.847366</td>\n",
              "      <td>0.387805</td>\n",
              "    </tr>\n",
              "  </tbody>\n",
              "</table>\n",
              "</div>\n",
              "      <button class=\"colab-df-convert\" onclick=\"convertToInteractive('df-67aefd74-312d-463f-b7ac-825d49a9497a')\"\n",
              "              title=\"Convert this dataframe to an interactive table.\"\n",
              "              style=\"display:none;\">\n",
              "        \n",
              "  <svg xmlns=\"http://www.w3.org/2000/svg\" height=\"24px\"viewBox=\"0 0 24 24\"\n",
              "       width=\"24px\">\n",
              "    <path d=\"M0 0h24v24H0V0z\" fill=\"none\"/>\n",
              "    <path d=\"M18.56 5.44l.94 2.06.94-2.06 2.06-.94-2.06-.94-.94-2.06-.94 2.06-2.06.94zm-11 1L8.5 8.5l.94-2.06 2.06-.94-2.06-.94L8.5 2.5l-.94 2.06-2.06.94zm10 10l.94 2.06.94-2.06 2.06-.94-2.06-.94-.94-2.06-.94 2.06-2.06.94z\"/><path d=\"M17.41 7.96l-1.37-1.37c-.4-.4-.92-.59-1.43-.59-.52 0-1.04.2-1.43.59L10.3 9.45l-7.72 7.72c-.78.78-.78 2.05 0 2.83L4 21.41c.39.39.9.59 1.41.59.51 0 1.02-.2 1.41-.59l7.78-7.78 2.81-2.81c.8-.78.8-2.07 0-2.86zM5.41 20L4 18.59l7.72-7.72 1.47 1.35L5.41 20z\"/>\n",
              "  </svg>\n",
              "      </button>\n",
              "      \n",
              "  <style>\n",
              "    .colab-df-container {\n",
              "      display:flex;\n",
              "      flex-wrap:wrap;\n",
              "      gap: 12px;\n",
              "    }\n",
              "\n",
              "    .colab-df-convert {\n",
              "      background-color: #E8F0FE;\n",
              "      border: none;\n",
              "      border-radius: 50%;\n",
              "      cursor: pointer;\n",
              "      display: none;\n",
              "      fill: #1967D2;\n",
              "      height: 32px;\n",
              "      padding: 0 0 0 0;\n",
              "      width: 32px;\n",
              "    }\n",
              "\n",
              "    .colab-df-convert:hover {\n",
              "      background-color: #E2EBFA;\n",
              "      box-shadow: 0px 1px 2px rgba(60, 64, 67, 0.3), 0px 1px 3px 1px rgba(60, 64, 67, 0.15);\n",
              "      fill: #174EA6;\n",
              "    }\n",
              "\n",
              "    [theme=dark] .colab-df-convert {\n",
              "      background-color: #3B4455;\n",
              "      fill: #D2E3FC;\n",
              "    }\n",
              "\n",
              "    [theme=dark] .colab-df-convert:hover {\n",
              "      background-color: #434B5C;\n",
              "      box-shadow: 0px 1px 3px 1px rgba(0, 0, 0, 0.15);\n",
              "      filter: drop-shadow(0px 1px 2px rgba(0, 0, 0, 0.3));\n",
              "      fill: #FFFFFF;\n",
              "    }\n",
              "  </style>\n",
              "\n",
              "      <script>\n",
              "        const buttonEl =\n",
              "          document.querySelector('#df-67aefd74-312d-463f-b7ac-825d49a9497a button.colab-df-convert');\n",
              "        buttonEl.style.display =\n",
              "          google.colab.kernel.accessAllowed ? 'block' : 'none';\n",
              "\n",
              "        async function convertToInteractive(key) {\n",
              "          const element = document.querySelector('#df-67aefd74-312d-463f-b7ac-825d49a9497a');\n",
              "          const dataTable =\n",
              "            await google.colab.kernel.invokeFunction('convertToInteractive',\n",
              "                                                     [key], {});\n",
              "          if (!dataTable) return;\n",
              "\n",
              "          const docLinkHtml = 'Like what you see? Visit the ' +\n",
              "            '<a target=\"_blank\" href=https://colab.research.google.com/notebooks/data_table.ipynb>data table notebook</a>'\n",
              "            + ' to learn more about interactive tables.';\n",
              "          element.innerHTML = '';\n",
              "          dataTable['output_type'] = 'display_data';\n",
              "          await google.colab.output.renderOutput(dataTable, element);\n",
              "          const docLink = document.createElement('div');\n",
              "          docLink.innerHTML = docLinkHtml;\n",
              "          element.appendChild(docLink);\n",
              "        }\n",
              "      </script>\n",
              "    </div>\n",
              "  </div>\n",
              "  "
            ]
          },
          "metadata": {},
          "execution_count": 74
        }
      ]
    },
    {
      "cell_type": "code",
      "source": [
        "X.shape"
      ],
      "metadata": {
        "colab": {
          "base_uri": "https://localhost:8080/"
        },
        "id": "jvbyDVLMPy-U",
        "outputId": "1c93ab36-a356-48b6-984e-f162defe147e"
      },
      "execution_count": null,
      "outputs": [
        {
          "output_type": "execute_result",
          "data": {
            "text/plain": [
              "(11166, 10)"
            ]
          },
          "metadata": {},
          "execution_count": 75
        }
      ]
    },
    {
      "cell_type": "markdown",
      "source": [
        "**Nosso target é o desempenho em matemática do 5 ano em 2019**"
      ],
      "metadata": {
        "id": "j45J-116olXc"
      }
    },
    {
      "cell_type": "code",
      "source": [
        "y = df['desempenho_MT_5ano_2019']"
      ],
      "metadata": {
        "id": "-L7qWxYMgPaJ"
      },
      "execution_count": null,
      "outputs": []
    },
    {
      "cell_type": "markdown",
      "source": [
        "**Normalização de mínimo e máximo dos atributos finais**"
      ],
      "metadata": {
        "id": "LYXhS9z3A8PV"
      }
    },
    {
      "cell_type": "code",
      "source": [
        "from sklearn.preprocessing import MinMaxScaler\n",
        "escalonamento = MinMaxScaler(feature_range= (0,1))\n",
        "X = pd.DataFrame(escalonamento.fit_transform(X), columns=X.columns)"
      ],
      "metadata": {
        "id": "055j3ADb3Bap"
      },
      "execution_count": null,
      "outputs": []
    },
    {
      "cell_type": "code",
      "source": [
        "y.head()"
      ],
      "metadata": {
        "colab": {
          "base_uri": "https://localhost:8080/"
        },
        "id": "r0Ubko1Sk8Dm",
        "outputId": "b7188a46-54aa-47c8-960d-6ffc74aee525"
      },
      "execution_count": null,
      "outputs": [
        {
          "output_type": "execute_result",
          "data": {
            "text/plain": [
              "id_escola\n",
              "12023531    206.353100\n",
              "12048224    221.439707\n",
              "12015873    226.573946\n",
              "12016438    288.757271\n",
              "12016535    243.453455\n",
              "Name: desempenho_MT_5ano_2019, dtype: float64"
            ]
          },
          "metadata": {},
          "execution_count": 8
        }
      ]
    },
    {
      "cell_type": "code",
      "source": [
        "y.shape"
      ],
      "metadata": {
        "colab": {
          "base_uri": "https://localhost:8080/"
        },
        "id": "Giir7Mj0P3zy",
        "outputId": "49548021-4f1e-4071-9886-16a3e0714503"
      },
      "execution_count": null,
      "outputs": [
        {
          "output_type": "execute_result",
          "data": {
            "text/plain": [
              "(11166,)"
            ]
          },
          "metadata": {},
          "execution_count": 11
        }
      ]
    },
    {
      "cell_type": "markdown",
      "source": [
        "**Divisão dos dados em 70 % para treino e 30 % para teste**"
      ],
      "metadata": {
        "id": "BuRqdOb3BEIH"
      }
    },
    {
      "cell_type": "code",
      "source": [
        "import numpy as np"
      ],
      "metadata": {
        "id": "wWpwp0qDOyYD"
      },
      "execution_count": null,
      "outputs": []
    },
    {
      "cell_type": "code",
      "source": [
        "X_train, X_test, y_train, y_test = train_test_split(X, y, test_size=0.3, random_state=0)\n",
        "X_train.shape, X_test.shape"
      ],
      "metadata": {
        "colab": {
          "base_uri": "https://localhost:8080/"
        },
        "id": "vJplFuTXlAHe",
        "outputId": "032c013c-6ba0-47eb-8f4c-676f08b57b68"
      },
      "execution_count": null,
      "outputs": [
        {
          "output_type": "execute_result",
          "data": {
            "text/plain": [
              "((7816, 10), (3350, 10))"
            ]
          },
          "metadata": {},
          "execution_count": 10
        }
      ]
    },
    {
      "cell_type": "markdown",
      "source": [
        "**Aplicação dos modelos**\n",
        "\n",
        "Em geral os modelos tiveram resultados bem parecidos."
      ],
      "metadata": {
        "id": "3DJPii2wBhZu"
      }
    },
    {
      "cell_type": "markdown",
      "source": [
        "**Aplicação da regressão linear**"
      ],
      "metadata": {
        "id": "R4EOxCz_o4TE"
      }
    },
    {
      "cell_type": "code",
      "source": [
        "from sklearn.linear_model import LinearRegression\n",
        "regressor = LinearRegression()\n",
        "regressor.fit(X_train, y_train)"
      ],
      "metadata": {
        "colab": {
          "base_uri": "https://localhost:8080/"
        },
        "id": "3YMpMDDglbCo",
        "outputId": "44dd586e-3df0-4a7e-b263-70436059c4b3"
      },
      "execution_count": null,
      "outputs": [
        {
          "output_type": "execute_result",
          "data": {
            "text/plain": [
              "LinearRegression()"
            ]
          },
          "metadata": {},
          "execution_count": 11
        }
      ]
    },
    {
      "cell_type": "markdown",
      "source": [
        "**R2 score para a regressão linear**"
      ],
      "metadata": {
        "id": "zai0JNoABb3F"
      }
    },
    {
      "cell_type": "code",
      "source": [
        "regressor.score(X_train, y_train)"
      ],
      "metadata": {
        "colab": {
          "base_uri": "https://localhost:8080/"
        },
        "id": "4MlgJIXhl1km",
        "outputId": "2135a762-79c5-4e7b-8f11-53f9b29aab75"
      },
      "execution_count": null,
      "outputs": [
        {
          "output_type": "execute_result",
          "data": {
            "text/plain": [
              "0.8067254923839183"
            ]
          },
          "metadata": {},
          "execution_count": 12
        }
      ]
    },
    {
      "cell_type": "code",
      "source": [
        "regressor.score(X_test, y_test)"
      ],
      "metadata": {
        "colab": {
          "base_uri": "https://localhost:8080/"
        },
        "id": "5WVTNro-l7il",
        "outputId": "068ba990-97e4-4d3a-a7ab-e1450f88ed2b"
      },
      "execution_count": null,
      "outputs": [
        {
          "output_type": "execute_result",
          "data": {
            "text/plain": [
              "0.798457792703719"
            ]
          },
          "metadata": {},
          "execution_count": 13
        }
      ]
    },
    {
      "cell_type": "code",
      "source": [
        "from sklearn.metrics import mean_absolute_error, mean_squared_error"
      ],
      "metadata": {
        "id": "SBbm_FVSCSaQ"
      },
      "execution_count": null,
      "outputs": []
    },
    {
      "cell_type": "markdown",
      "source": [
        "**Valores mínimos e máximos do y de teste**"
      ],
      "metadata": {
        "id": "DNRfMnD8DNW1"
      }
    },
    {
      "cell_type": "code",
      "source": [
        "y_test.min(), y_test.max()"
      ],
      "metadata": {
        "colab": {
          "base_uri": "https://localhost:8080/"
        },
        "id": "Dcmq8ZNDDHM6",
        "outputId": "569342b4-fe2a-4801-fd1a-83afb8a12e49"
      },
      "execution_count": null,
      "outputs": [
        {
          "output_type": "execute_result",
          "data": {
            "text/plain": [
              "(161.54822618181817, 319.80544786206895)"
            ]
          },
          "metadata": {},
          "execution_count": 15
        }
      ]
    },
    {
      "cell_type": "markdown",
      "source": [
        "**Predição dos valores de teste**"
      ],
      "metadata": {
        "id": "VVYFGPSuDUQs"
      }
    },
    {
      "cell_type": "code",
      "source": [
        "preditor =regressor.predict(X_test)"
      ],
      "metadata": {
        "id": "q-0sq9pdCghN"
      },
      "execution_count": null,
      "outputs": []
    },
    {
      "cell_type": "markdown",
      "source": [
        "**Erro médio absoluto**"
      ],
      "metadata": {
        "id": "eUycMytpDbEF"
      }
    },
    {
      "cell_type": "code",
      "source": [
        "mean_absolute_error(y_test, preditor)"
      ],
      "metadata": {
        "colab": {
          "base_uri": "https://localhost:8080/"
        },
        "id": "Zcn6vjWRCWVJ",
        "outputId": "903f90fd-0fa5-4d22-9240-ef69bf39a132"
      },
      "execution_count": null,
      "outputs": [
        {
          "output_type": "execute_result",
          "data": {
            "text/plain": [
              "7.738456734778946"
            ]
          },
          "metadata": {},
          "execution_count": 17
        }
      ]
    },
    {
      "cell_type": "markdown",
      "source": [
        "**Erro médio quadrático**"
      ],
      "metadata": {
        "id": "wSnBJ5JUDfVl"
      }
    },
    {
      "cell_type": "code",
      "source": [
        "mean_squared_error(y_test, preditor)"
      ],
      "metadata": {
        "colab": {
          "base_uri": "https://localhost:8080/"
        },
        "id": "KgWIXl4xCurG",
        "outputId": "eccfce24-eeb3-4682-9799-36636c66d828"
      },
      "execution_count": null,
      "outputs": [
        {
          "output_type": "execute_result",
          "data": {
            "text/plain": [
              "104.02520959492705"
            ]
          },
          "metadata": {},
          "execution_count": 18
        }
      ]
    },
    {
      "cell_type": "markdown",
      "source": [
        "**Raiz do erro médio quadrático**"
      ],
      "metadata": {
        "id": "_46AHBOzDkOk"
      }
    },
    {
      "cell_type": "code",
      "source": [
        "RMSE = np.sqrt(mean_squared_error(y_test, preditor))\n",
        "print('O valor do erro RMSE é: ', round(RMSE,3))"
      ],
      "metadata": {
        "colab": {
          "base_uri": "https://localhost:8080/"
        },
        "id": "oBQJkJYtC-oJ",
        "outputId": "210d78f4-7103-48fc-ca09-727568128193"
      },
      "execution_count": null,
      "outputs": [
        {
          "output_type": "stream",
          "name": "stdout",
          "text": [
            "O valor do erro RMSE é:  10.199\n"
          ]
        }
      ]
    },
    {
      "cell_type": "markdown",
      "source": [
        "**Floresta aleatória**"
      ],
      "metadata": {
        "id": "f9WQ1NPQB2IM"
      }
    },
    {
      "cell_type": "code",
      "source": [
        "from sklearn.ensemble import RandomForestRegressor\n",
        "regressor_random_forest = RandomForestRegressor(n_estimators = 100)\n",
        "regressor_random_forest.fit(X_train, y_train)"
      ],
      "metadata": {
        "colab": {
          "base_uri": "https://localhost:8080/"
        },
        "id": "ZM3sxXOJyydY",
        "outputId": "62d8357b-e345-45fc-a36f-119466a3b8b1"
      },
      "execution_count": null,
      "outputs": [
        {
          "output_type": "execute_result",
          "data": {
            "text/plain": [
              "RandomForestRegressor()"
            ]
          },
          "metadata": {},
          "execution_count": 20
        }
      ]
    },
    {
      "cell_type": "code",
      "source": [
        "regressor_random_forest.score(X_train, y_train)"
      ],
      "metadata": {
        "colab": {
          "base_uri": "https://localhost:8080/"
        },
        "id": "Qptxx4Yxy6R5",
        "outputId": "aeae5409-37b3-4c3c-8257-817d0f1c310d"
      },
      "execution_count": null,
      "outputs": [
        {
          "output_type": "execute_result",
          "data": {
            "text/plain": [
              "0.9722696536817353"
            ]
          },
          "metadata": {},
          "execution_count": 21
        }
      ]
    },
    {
      "cell_type": "code",
      "source": [
        "regressor_random_forest.score(X_test, y_test)"
      ],
      "metadata": {
        "colab": {
          "base_uri": "https://localhost:8080/"
        },
        "id": "C_uhSweHzMTj",
        "outputId": "3d305d8b-43ef-444f-8fd0-5de92352fa84"
      },
      "execution_count": null,
      "outputs": [
        {
          "output_type": "execute_result",
          "data": {
            "text/plain": [
              "0.7904875179456157"
            ]
          },
          "metadata": {},
          "execution_count": 22
        }
      ]
    },
    {
      "cell_type": "code",
      "source": [
        "preditorRF =regressor_random_forest.predict(X_test)"
      ],
      "metadata": {
        "id": "HDkjMI_Y0Y2A"
      },
      "execution_count": null,
      "outputs": []
    },
    {
      "cell_type": "markdown",
      "source": [
        "**Erro médio absoluto**"
      ],
      "metadata": {
        "id": "LhKa4MJV08O_"
      }
    },
    {
      "cell_type": "code",
      "source": [
        "mean_absolute_error(y_test, preditorRF)"
      ],
      "metadata": {
        "colab": {
          "base_uri": "https://localhost:8080/"
        },
        "id": "Q97eWAH20xjZ",
        "outputId": "516bdfee-428e-437e-8e89-8111d9ee5d73"
      },
      "execution_count": null,
      "outputs": [
        {
          "output_type": "execute_result",
          "data": {
            "text/plain": [
              "7.930387418029391"
            ]
          },
          "metadata": {},
          "execution_count": 24
        }
      ]
    },
    {
      "cell_type": "markdown",
      "source": [
        "**Erro médio quadrático**"
      ],
      "metadata": {
        "id": "bZncgCcc1GXw"
      }
    },
    {
      "cell_type": "code",
      "source": [
        "mean_squared_error(y_test, preditorRF)"
      ],
      "metadata": {
        "colab": {
          "base_uri": "https://localhost:8080/"
        },
        "id": "w9lT-vjL1AfH",
        "outputId": "163ae619-9fba-48db-fa7a-392d65f20945"
      },
      "execution_count": null,
      "outputs": [
        {
          "output_type": "execute_result",
          "data": {
            "text/plain": [
              "108.13903524645424"
            ]
          },
          "metadata": {},
          "execution_count": 25
        }
      ]
    },
    {
      "cell_type": "markdown",
      "source": [
        "**Raiz do erro médio quadrático**"
      ],
      "metadata": {
        "id": "pj0HHwQb1dGn"
      }
    },
    {
      "cell_type": "code",
      "source": [
        "RMSErf = np.sqrt(mean_squared_error(y_test, preditorRF))\n",
        "print('O valor do erro RMSE é: ', round(RMSErf,3))"
      ],
      "metadata": {
        "colab": {
          "base_uri": "https://localhost:8080/"
        },
        "id": "8vphwvNb1OCz",
        "outputId": "1a5dbc3b-c086-4415-98cd-b4ee3bbf2d89"
      },
      "execution_count": null,
      "outputs": [
        {
          "output_type": "stream",
          "name": "stdout",
          "text": [
            "O valor do erro RMSE é:  10.399\n"
          ]
        }
      ]
    },
    {
      "cell_type": "markdown",
      "source": [
        "**Catboost**"
      ],
      "metadata": {
        "id": "g5OoVeDbB9C8"
      }
    },
    {
      "cell_type": "code",
      "source": [
        "pip install catboost"
      ],
      "metadata": {
        "id": "g5dfU-Fe4OXN"
      },
      "execution_count": null,
      "outputs": []
    },
    {
      "cell_type": "code",
      "source": [
        "from numpy import mean\n",
        "from numpy import std\n",
        "from catboost import CatBoostRegressor\n",
        "from sklearn.model_selection import cross_val_score\n",
        "from sklearn.model_selection import RepeatedKFold\n",
        "modelcb = CatBoostRegressor(verbose=1, n_estimators=500)\n",
        "cvcb = RepeatedKFold(n_splits=10, n_repeats=3, random_state=0)\n",
        "n_scorescb = cross_val_score(modelcb, X_train, y_train, scoring='neg_mean_absolute_error', cv=cvcb, n_jobs=-1, error_score='raise')\n",
        "print('MAE: %.3f (%.3f)' % (mean(n_scorescb), std(n_scorescb)))\n",
        "modelcb = CatBoostRegressor(verbose=0, n_estimators=500)\n",
        "modelcb.fit(X_train, y_train)\n",
        "yhatcb = modelcb.predict(X_train)\n",
        "print('Prediction: %.3f' % yhatcb[0])"
      ],
      "metadata": {
        "colab": {
          "base_uri": "https://localhost:8080/"
        },
        "id": "-NFJp7n54NOF",
        "outputId": "9c747e2c-872f-4b15-a24b-c965b4f109cf"
      },
      "execution_count": null,
      "outputs": [
        {
          "output_type": "stream",
          "name": "stdout",
          "text": [
            "MAE: -7.651 (0.204)\n",
            "Prediction: 217.772\n"
          ]
        }
      ]
    },
    {
      "cell_type": "code",
      "source": [
        "from sklearn.metrics import r2_score"
      ],
      "metadata": {
        "id": "uXHnozrp7YEj"
      },
      "execution_count": null,
      "outputs": []
    },
    {
      "cell_type": "code",
      "source": [
        "r2_score(y_train, yhatcb)"
      ],
      "metadata": {
        "colab": {
          "base_uri": "https://localhost:8080/"
        },
        "id": "CB-44N5B7Kp3",
        "outputId": "9bca191a-93e3-4511-a3d3-72533219aea4"
      },
      "execution_count": null,
      "outputs": [
        {
          "output_type": "execute_result",
          "data": {
            "text/plain": [
              "0.8820937533468103"
            ]
          },
          "metadata": {},
          "execution_count": 30
        }
      ]
    },
    {
      "cell_type": "code",
      "source": [
        "ythcb = modelcb.predict(X_test)\n",
        "print('Prediction: %.3f' % ythcb[0])"
      ],
      "metadata": {
        "colab": {
          "base_uri": "https://localhost:8080/"
        },
        "id": "ihSkPZQw6-5k",
        "outputId": "0b6bdb1d-9dbd-4e25-936c-27c01255d8da"
      },
      "execution_count": null,
      "outputs": [
        {
          "output_type": "stream",
          "name": "stdout",
          "text": [
            "Prediction: 222.539\n"
          ]
        }
      ]
    },
    {
      "cell_type": "code",
      "source": [
        "r2_score(y_test, ythcb)"
      ],
      "metadata": {
        "colab": {
          "base_uri": "https://localhost:8080/"
        },
        "id": "CXKnzgTs7fTk",
        "outputId": "2e0626cf-7a9f-4071-8b5a-ff1b988448b2"
      },
      "execution_count": null,
      "outputs": [
        {
          "output_type": "execute_result",
          "data": {
            "text/plain": [
              "0.7997354286844993"
            ]
          },
          "metadata": {},
          "execution_count": 32
        }
      ]
    },
    {
      "cell_type": "markdown",
      "source": [
        "**Erro médio absoluto**"
      ],
      "metadata": {
        "id": "aDWXNO6k2rG2"
      }
    },
    {
      "cell_type": "code",
      "source": [
        "mean_absolute_error(y_test, ythcb)"
      ],
      "metadata": {
        "colab": {
          "base_uri": "https://localhost:8080/"
        },
        "id": "eKq0wBht2gtQ",
        "outputId": "ee254854-0dc1-4cbb-b9f9-cfe3cd25e501"
      },
      "execution_count": null,
      "outputs": [
        {
          "output_type": "execute_result",
          "data": {
            "text/plain": [
              "7.747161264808035"
            ]
          },
          "metadata": {},
          "execution_count": 33
        }
      ]
    },
    {
      "cell_type": "markdown",
      "source": [
        "**Erro médio quadrático**"
      ],
      "metadata": {
        "id": "Lt8Ot52F223k"
      }
    },
    {
      "cell_type": "code",
      "source": [
        "mean_squared_error(y_test, ythcb)"
      ],
      "metadata": {
        "colab": {
          "base_uri": "https://localhost:8080/"
        },
        "id": "0OIC3qd42T9l",
        "outputId": "e5d7e910-ca87-4621-ed65-75111aae82bf"
      },
      "execution_count": null,
      "outputs": [
        {
          "output_type": "execute_result",
          "data": {
            "text/plain": [
              "103.3657628593293"
            ]
          },
          "metadata": {},
          "execution_count": 34
        }
      ]
    },
    {
      "cell_type": "markdown",
      "source": [
        "**Raiz do erro médio quadrático**"
      ],
      "metadata": {
        "id": "bj4HAj8o3K_4"
      }
    },
    {
      "cell_type": "code",
      "source": [
        "RMSEcb = np.sqrt(mean_squared_error(y_test, ythcb))\n",
        "print('O valor do erro RMSE é: ', round(RMSEcb,3))"
      ],
      "metadata": {
        "colab": {
          "base_uri": "https://localhost:8080/"
        },
        "id": "QLfYIRii26cB",
        "outputId": "8a0802be-3350-4963-ac83-5431ef8c0543"
      },
      "execution_count": null,
      "outputs": [
        {
          "output_type": "stream",
          "name": "stdout",
          "text": [
            "O valor do erro RMSE é:  10.167\n"
          ]
        }
      ]
    },
    {
      "cell_type": "code",
      "source": [
        "!pip install shap\n",
        "import shap"
      ],
      "metadata": {
        "id": "wTe3XevQxrJY"
      },
      "execution_count": null,
      "outputs": []
    },
    {
      "cell_type": "code",
      "source": [
        "explainer = shap.TreeExplainer(modelcb)\n",
        "shap_values = explainer.shap_values(X_train)"
      ],
      "metadata": {
        "id": "KO89lKcgx26p"
      },
      "execution_count": null,
      "outputs": []
    },
    {
      "cell_type": "markdown",
      "source": [
        "**Atributos mais importantes segundo a biblioteca shap aplicada no modelo catboost**"
      ],
      "metadata": {
        "id": "epkgtp-dCC9c"
      }
    },
    {
      "cell_type": "code",
      "source": [
        "shap.summary_plot(shap_values, X_train)"
      ],
      "metadata": {
        "colab": {
          "base_uri": "https://localhost:8080/",
          "height": 405
        },
        "id": "cItxrDNV21gY",
        "outputId": "b9fbf31a-6ad3-4ccb-cd63-1771ba49ace2"
      },
      "execution_count": null,
      "outputs": [
        {
          "output_type": "display_data",
          "data": {
            "text/plain": [
              "<Figure size 576x396 with 2 Axes>"
            ],
            "image/png": "[encoded data removed]"
          },
          "metadata": {
            "needs_background": "light"
          }
        }
      ]
    },
    {
      "cell_type": "markdown",
      "source": [
        "**Regressão linear em loop**"
      ],
      "metadata": {
        "id": "HEielLG7D64j"
      }
    },
    {
      "cell_type": "code",
      "source": [
        "\n",
        "\n",
        "regressorloop = LinearRegression()\n",
        "r1 =  0\n",
        "n_iteracoes = 1000\n",
        "for i in range(n_iteracoes):\n",
        "  # divisao aleatoria treino e teste \n",
        "  X_train, X_test, y_train, y_test = train_test_split(X, y, test_size=0.3)\n",
        "\n",
        "  # regressão com todas as features\n",
        "  regressorloop.fit(X_train, y_train)\n",
        "  r1 += regressorloop.score(X_test, y_test)\n",
        "print(f'Regressão com as novas features: R2 = {r1/n_iteracoes:.3}')\n"
      ],
      "metadata": {
        "colab": {
          "base_uri": "https://localhost:8080/"
        },
        "id": "beH1IDpx8HF_",
        "outputId": "4ab0f0e2-6316-4bf8-c5b3-835b0649a385"
      },
      "execution_count": null,
      "outputs": [
        {
          "output_type": "stream",
          "name": "stdout",
          "text": [
            "Regressão com as novas features: R2 = 0.804\n"
          ]
        }
      ]
    },
    {
      "cell_type": "code",
      "source": [
        "preditorrl =regressorloop.predict(X_test)"
      ],
      "metadata": {
        "id": "zE--bwrQ3eNh"
      },
      "execution_count": null,
      "outputs": []
    },
    {
      "cell_type": "markdown",
      "source": [
        "**Erro médio absoluto**"
      ],
      "metadata": {
        "id": "8NOT1nVM3vn8"
      }
    },
    {
      "cell_type": "code",
      "source": [
        "mean_absolute_error(y_test, preditorrl)"
      ],
      "metadata": {
        "colab": {
          "base_uri": "https://localhost:8080/"
        },
        "id": "ZG-QMxCK3nee",
        "outputId": "05d960da-1d08-4d74-e3f8-01c1b8050d9f"
      },
      "execution_count": null,
      "outputs": [
        {
          "output_type": "execute_result",
          "data": {
            "text/plain": [
              "7.584652000042671"
            ]
          },
          "metadata": {},
          "execution_count": 38
        }
      ]
    },
    {
      "cell_type": "markdown",
      "source": [
        "**Erro médio quadrático**"
      ],
      "metadata": {
        "id": "dqqqAa174dPw"
      }
    },
    {
      "cell_type": "code",
      "source": [
        "mean_squared_error(y_test, preditorrl)"
      ],
      "metadata": {
        "colab": {
          "base_uri": "https://localhost:8080/"
        },
        "id": "8PQrG3kL3zC3",
        "outputId": "b88313d3-0886-42c3-f99f-753b9d46b642"
      },
      "execution_count": null,
      "outputs": [
        {
          "output_type": "execute_result",
          "data": {
            "text/plain": [
              "97.19449603735582"
            ]
          },
          "metadata": {},
          "execution_count": 39
        }
      ]
    },
    {
      "cell_type": "markdown",
      "source": [
        "**Raiz do erro médio quadrático**"
      ],
      "metadata": {
        "id": "0deXFX1W4ii2"
      }
    },
    {
      "cell_type": "code",
      "source": [
        "RMSErl = np.sqrt(mean_squared_error(y_test, preditorrl))\n",
        "print('O valor do erro RMSE é: ', round(RMSErl,3))"
      ],
      "metadata": {
        "colab": {
          "base_uri": "https://localhost:8080/"
        },
        "id": "cExIEyXj4Inj",
        "outputId": "b5334b45-094d-45b9-f5ed-7edc136acb0e"
      },
      "execution_count": null,
      "outputs": [
        {
          "output_type": "stream",
          "name": "stdout",
          "text": [
            "O valor do erro RMSE é:  9.859\n"
          ]
        }
      ]
    },
    {
      "cell_type": "markdown",
      "source": [
        "**Rede neural aplicada em regressão, com funções de ativação relu, 12, 5 1 um neurônio nas camadas, respectivamente, 300 épocas e taxa de aprendizado de 0,01. Estão sendo utilizados 20 % dos dados de treino para validação.**"
      ],
      "metadata": {
        "id": "PMpdlvx3D_w0"
      }
    },
    {
      "cell_type": "code",
      "source": [
        "def build_model():\n",
        "  model = keras.Sequential([\n",
        "    layers.Dense(12, activation='relu', input_shape=[len(X_train.keys())]),\n",
        "    layers.Dense(5, activation='relu'),\n",
        "    layers.Dense(1)\n",
        "  ])\n",
        "\n",
        "  optimizer = tf.keras.optimizers.Adam(0.01)\n",
        "\n",
        "  model.compile(loss='mse',\n",
        "                optimizer=optimizer,\n",
        "                metrics=['mae', 'mse'])\n",
        "  return model"
      ],
      "metadata": {
        "id": "wzMSXVsP9wTM"
      },
      "execution_count": null,
      "outputs": []
    },
    {
      "cell_type": "code",
      "source": [
        "model = build_model()"
      ],
      "metadata": {
        "id": "Bt2Ylf4g91gD"
      },
      "execution_count": null,
      "outputs": []
    },
    {
      "cell_type": "code",
      "source": [
        "EPOCHS = 300\n",
        "\n",
        "history = model.fit(\n",
        "  X_train.values, y_train.values,\n",
        "  epochs=EPOCHS, validation_split = 0.2)"
      ],
      "metadata": {
        "colab": {
          "base_uri": "https://localhost:8080/"
        },
        "id": "_SoV8Oda9_UI",
        "outputId": "4f4fbe52-5679-442d-a98c-00a6fe4f49a0"
      },
      "execution_count": null,
      "outputs": [
        {
          "output_type": "stream",
          "name": "stdout",
          "text": [
            "Epoch 1/300\n",
            "196/196 [==============================] - 2s 4ms/step - loss: 13881.2773 - mae: 77.2804 - mse: 13881.2773 - val_loss: 161.2420 - val_mae: 9.9055 - val_mse: 161.2420\n",
            "Epoch 2/300\n",
            "196/196 [==============================] - 1s 3ms/step - loss: 163.1278 - mae: 10.0314 - mse: 163.1278 - val_loss: 159.3587 - val_mae: 9.8850 - val_mse: 159.3587\n",
            "Epoch 3/300\n",
            "196/196 [==============================] - 0s 3ms/step - loss: 154.3150 - mae: 9.7872 - mse: 154.3150 - val_loss: 147.2161 - val_mae: 9.3582 - val_mse: 147.2161\n",
            "Epoch 4/300\n",
            "196/196 [==============================] - 0s 2ms/step - loss: 140.4030 - mae: 9.2566 - mse: 140.4030 - val_loss: 128.8007 - val_mae: 8.8304 - val_mse: 128.8007\n",
            "Epoch 5/300\n",
            "196/196 [==============================] - 1s 3ms/step - loss: 131.7545 - mae: 8.9784 - mse: 131.7545 - val_loss: 120.8191 - val_mae: 8.4828 - val_mse: 120.8191\n",
            "Epoch 6/300\n",
            "196/196 [==============================] - 0s 2ms/step - loss: 127.8233 - mae: 8.8527 - mse: 127.8233 - val_loss: 116.9557 - val_mae: 8.3301 - val_mse: 116.9557\n",
            "Epoch 7/300\n",
            "196/196 [==============================] - 1s 3ms/step - loss: 124.7208 - mae: 8.7128 - mse: 124.7208 - val_loss: 113.9787 - val_mae: 8.2817 - val_mse: 113.9787\n",
            "Epoch 8/300\n",
            "196/196 [==============================] - 0s 2ms/step - loss: 121.7931 - mae: 8.6044 - mse: 121.7931 - val_loss: 112.6787 - val_mae: 8.1460 - val_mse: 112.6787\n",
            "Epoch 9/300\n",
            "196/196 [==============================] - 0s 3ms/step - loss: 119.9662 - mae: 8.5559 - mse: 119.9662 - val_loss: 116.5406 - val_mae: 8.2646 - val_mse: 116.5406\n",
            "Epoch 10/300\n",
            "196/196 [==============================] - 0s 2ms/step - loss: 116.5631 - mae: 8.3982 - mse: 116.5631 - val_loss: 107.4119 - val_mae: 8.0723 - val_mse: 107.4119\n",
            "Epoch 11/300\n",
            "196/196 [==============================] - 1s 3ms/step - loss: 113.4295 - mae: 8.2931 - mse: 113.4295 - val_loss: 103.9764 - val_mae: 7.9032 - val_mse: 103.9764\n",
            "Epoch 12/300\n",
            "196/196 [==============================] - 0s 2ms/step - loss: 113.5191 - mae: 8.2985 - mse: 113.5191 - val_loss: 103.4534 - val_mae: 7.8071 - val_mse: 103.4534\n",
            "Epoch 13/300\n",
            "196/196 [==============================] - 0s 2ms/step - loss: 111.7922 - mae: 8.2016 - mse: 111.7922 - val_loss: 102.5222 - val_mae: 7.7597 - val_mse: 102.5222\n",
            "Epoch 14/300\n",
            "196/196 [==============================] - 0s 2ms/step - loss: 112.1121 - mae: 8.2052 - mse: 112.1121 - val_loss: 125.8437 - val_mae: 8.6497 - val_mse: 125.8437\n",
            "Epoch 15/300\n",
            "196/196 [==============================] - 1s 4ms/step - loss: 112.6896 - mae: 8.2138 - mse: 112.6896 - val_loss: 100.8315 - val_mae: 7.6802 - val_mse: 100.8315\n",
            "Epoch 16/300\n",
            "196/196 [==============================] - 1s 4ms/step - loss: 108.5144 - mae: 8.0706 - mse: 108.5144 - val_loss: 98.0482 - val_mae: 7.6402 - val_mse: 98.0482\n",
            "Epoch 17/300\n",
            "196/196 [==============================] - 1s 3ms/step - loss: 107.7551 - mae: 8.0304 - mse: 107.7551 - val_loss: 99.2352 - val_mae: 7.6896 - val_mse: 99.2352\n",
            "Epoch 18/300\n",
            "196/196 [==============================] - 1s 4ms/step - loss: 109.7336 - mae: 8.1361 - mse: 109.7336 - val_loss: 101.6866 - val_mae: 7.8380 - val_mse: 101.6866\n",
            "Epoch 19/300\n",
            "196/196 [==============================] - 1s 4ms/step - loss: 107.2425 - mae: 8.0027 - mse: 107.2425 - val_loss: 114.4916 - val_mae: 8.4255 - val_mse: 114.4916\n",
            "Epoch 20/300\n",
            "196/196 [==============================] - 1s 3ms/step - loss: 108.7150 - mae: 8.0711 - mse: 108.7150 - val_loss: 99.6486 - val_mae: 7.6251 - val_mse: 99.6486\n",
            "Epoch 21/300\n",
            "196/196 [==============================] - 0s 2ms/step - loss: 107.6479 - mae: 8.0418 - mse: 107.6479 - val_loss: 96.1341 - val_mae: 7.5527 - val_mse: 96.1341\n",
            "Epoch 22/300\n",
            "196/196 [==============================] - 0s 2ms/step - loss: 107.1646 - mae: 8.0120 - mse: 107.1646 - val_loss: 104.3170 - val_mae: 7.7969 - val_mse: 104.3170\n",
            "Epoch 23/300\n",
            "196/196 [==============================] - 0s 2ms/step - loss: 106.1965 - mae: 7.9508 - mse: 106.1965 - val_loss: 109.6075 - val_mae: 8.1993 - val_mse: 109.6075\n",
            "Epoch 24/300\n",
            "196/196 [==============================] - 1s 3ms/step - loss: 107.1150 - mae: 7.9969 - mse: 107.1150 - val_loss: 95.1041 - val_mae: 7.4488 - val_mse: 95.1041\n",
            "Epoch 25/300\n",
            "196/196 [==============================] - 1s 3ms/step - loss: 108.7299 - mae: 8.0539 - mse: 108.7299 - val_loss: 93.9754 - val_mae: 7.4000 - val_mse: 93.9754\n",
            "Epoch 26/300\n",
            "196/196 [==============================] - 0s 2ms/step - loss: 105.5194 - mae: 7.9334 - mse: 105.5194 - val_loss: 94.0371 - val_mae: 7.4030 - val_mse: 94.0371\n",
            "Epoch 27/300\n",
            "196/196 [==============================] - 0s 2ms/step - loss: 106.9738 - mae: 7.9961 - mse: 106.9738 - val_loss: 97.1678 - val_mae: 7.5134 - val_mse: 97.1678\n",
            "Epoch 28/300\n",
            "196/196 [==============================] - 0s 2ms/step - loss: 107.3353 - mae: 7.9946 - mse: 107.3353 - val_loss: 93.2205 - val_mae: 7.3635 - val_mse: 93.2205\n",
            "Epoch 29/300\n",
            "196/196 [==============================] - 1s 3ms/step - loss: 105.1593 - mae: 7.9047 - mse: 105.1593 - val_loss: 97.3550 - val_mae: 7.5003 - val_mse: 97.3550\n",
            "Epoch 30/300\n",
            "196/196 [==============================] - 0s 2ms/step - loss: 103.9913 - mae: 7.8805 - mse: 103.9913 - val_loss: 93.3755 - val_mae: 7.4416 - val_mse: 93.3755\n",
            "Epoch 31/300\n",
            "196/196 [==============================] - 0s 2ms/step - loss: 104.0366 - mae: 7.8489 - mse: 104.0366 - val_loss: 92.4138 - val_mae: 7.3818 - val_mse: 92.4138\n",
            "Epoch 32/300\n",
            "196/196 [==============================] - 0s 2ms/step - loss: 104.1113 - mae: 7.8727 - mse: 104.1113 - val_loss: 92.6606 - val_mae: 7.3928 - val_mse: 92.6606\n",
            "Epoch 33/300\n",
            "196/196 [==============================] - 1s 3ms/step - loss: 104.8276 - mae: 7.9098 - mse: 104.8276 - val_loss: 101.5734 - val_mae: 7.8569 - val_mse: 101.5734\n",
            "Epoch 34/300\n",
            "196/196 [==============================] - 0s 2ms/step - loss: 105.5395 - mae: 7.9257 - mse: 105.5395 - val_loss: 98.4192 - val_mae: 7.5345 - val_mse: 98.4192\n",
            "Epoch 35/300\n",
            "196/196 [==============================] - 0s 2ms/step - loss: 103.6377 - mae: 7.8321 - mse: 103.6377 - val_loss: 100.1874 - val_mae: 7.6336 - val_mse: 100.1874\n",
            "Epoch 36/300\n",
            "196/196 [==============================] - 0s 2ms/step - loss: 104.8763 - mae: 7.8995 - mse: 104.8763 - val_loss: 100.1064 - val_mae: 7.7988 - val_mse: 100.1064\n",
            "Epoch 37/300\n",
            "196/196 [==============================] - 0s 2ms/step - loss: 107.7194 - mae: 8.0127 - mse: 107.7194 - val_loss: 110.2923 - val_mae: 8.0336 - val_mse: 110.2923\n",
            "Epoch 38/300\n",
            "196/196 [==============================] - 0s 2ms/step - loss: 104.5121 - mae: 7.8856 - mse: 104.5121 - val_loss: 94.7413 - val_mae: 7.5215 - val_mse: 94.7413\n",
            "Epoch 39/300\n",
            "196/196 [==============================] - 0s 2ms/step - loss: 103.1958 - mae: 7.8093 - mse: 103.1958 - val_loss: 92.2454 - val_mae: 7.3151 - val_mse: 92.2454\n",
            "Epoch 40/300\n",
            "196/196 [==============================] - 1s 3ms/step - loss: 102.4954 - mae: 7.8041 - mse: 102.4954 - val_loss: 91.3462 - val_mae: 7.3330 - val_mse: 91.3462\n",
            "Epoch 41/300\n",
            "196/196 [==============================] - 1s 3ms/step - loss: 104.1808 - mae: 7.8710 - mse: 104.1808 - val_loss: 91.4754 - val_mae: 7.3110 - val_mse: 91.4754\n",
            "Epoch 42/300\n",
            "196/196 [==============================] - 1s 3ms/step - loss: 103.8441 - mae: 7.8575 - mse: 103.8441 - val_loss: 92.5541 - val_mae: 7.4004 - val_mse: 92.5541\n",
            "Epoch 43/300\n",
            "196/196 [==============================] - 1s 3ms/step - loss: 103.7575 - mae: 7.8587 - mse: 103.7575 - val_loss: 94.4153 - val_mae: 7.4088 - val_mse: 94.4153\n",
            "Epoch 44/300\n",
            "196/196 [==============================] - 1s 3ms/step - loss: 102.3903 - mae: 7.7908 - mse: 102.3903 - val_loss: 96.7618 - val_mae: 7.6280 - val_mse: 96.7618\n",
            "Epoch 45/300\n",
            "196/196 [==============================] - 1s 3ms/step - loss: 104.1473 - mae: 7.8644 - mse: 104.1473 - val_loss: 100.2922 - val_mae: 7.6344 - val_mse: 100.2922\n",
            "Epoch 46/300\n",
            "196/196 [==============================] - 1s 3ms/step - loss: 105.1828 - mae: 7.8836 - mse: 105.1828 - val_loss: 93.1072 - val_mae: 7.4387 - val_mse: 93.1072\n",
            "Epoch 47/300\n",
            "196/196 [==============================] - 0s 2ms/step - loss: 104.1913 - mae: 7.8774 - mse: 104.1913 - val_loss: 98.3947 - val_mae: 7.5562 - val_mse: 98.3947\n",
            "Epoch 48/300\n",
            "196/196 [==============================] - 0s 2ms/step - loss: 104.0582 - mae: 7.8597 - mse: 104.0582 - val_loss: 91.8622 - val_mae: 7.3179 - val_mse: 91.8622\n",
            "Epoch 49/300\n",
            "196/196 [==============================] - 0s 2ms/step - loss: 104.4059 - mae: 7.8883 - mse: 104.4059 - val_loss: 91.7695 - val_mae: 7.3164 - val_mse: 91.7695\n",
            "Epoch 50/300\n",
            "196/196 [==============================] - 0s 2ms/step - loss: 105.9221 - mae: 7.9370 - mse: 105.9221 - val_loss: 108.2783 - val_mae: 7.9567 - val_mse: 108.2783\n",
            "Epoch 51/300\n",
            "196/196 [==============================] - 0s 2ms/step - loss: 103.8164 - mae: 7.8694 - mse: 103.8164 - val_loss: 95.7134 - val_mae: 7.5854 - val_mse: 95.7134\n",
            "Epoch 52/300\n",
            "196/196 [==============================] - 0s 2ms/step - loss: 103.7948 - mae: 7.8567 - mse: 103.7948 - val_loss: 92.3730 - val_mae: 7.4082 - val_mse: 92.3730\n",
            "Epoch 53/300\n",
            "196/196 [==============================] - 0s 2ms/step - loss: 104.6606 - mae: 7.8830 - mse: 104.6606 - val_loss: 94.7806 - val_mae: 7.5294 - val_mse: 94.7806\n",
            "Epoch 54/300\n",
            "196/196 [==============================] - 1s 3ms/step - loss: 104.4928 - mae: 7.8777 - mse: 104.4928 - val_loss: 102.0649 - val_mae: 7.9006 - val_mse: 102.0649\n",
            "Epoch 55/300\n",
            "196/196 [==============================] - 0s 2ms/step - loss: 106.1511 - mae: 7.9740 - mse: 106.1511 - val_loss: 93.8323 - val_mae: 7.4894 - val_mse: 93.8323\n",
            "Epoch 56/300\n",
            "196/196 [==============================] - 0s 2ms/step - loss: 103.0812 - mae: 7.8314 - mse: 103.0812 - val_loss: 96.4124 - val_mae: 7.4755 - val_mse: 96.4124\n",
            "Epoch 57/300\n",
            "196/196 [==============================] - 1s 3ms/step - loss: 104.4791 - mae: 7.8853 - mse: 104.4791 - val_loss: 91.9507 - val_mae: 7.3855 - val_mse: 91.9507\n",
            "Epoch 58/300\n",
            "196/196 [==============================] - 0s 2ms/step - loss: 106.0110 - mae: 7.9658 - mse: 106.0110 - val_loss: 92.3804 - val_mae: 7.3358 - val_mse: 92.3804\n",
            "Epoch 59/300\n",
            "196/196 [==============================] - 0s 2ms/step - loss: 102.8724 - mae: 7.8024 - mse: 102.8724 - val_loss: 118.3375 - val_mae: 8.3543 - val_mse: 118.3375\n",
            "Epoch 60/300\n",
            "196/196 [==============================] - 0s 2ms/step - loss: 102.1171 - mae: 7.7810 - mse: 102.1171 - val_loss: 96.7767 - val_mae: 7.4718 - val_mse: 96.7767\n",
            "Epoch 61/300\n",
            "196/196 [==============================] - 0s 2ms/step - loss: 103.1678 - mae: 7.8068 - mse: 103.1678 - val_loss: 92.9960 - val_mae: 7.3616 - val_mse: 92.9960\n",
            "Epoch 62/300\n",
            "196/196 [==============================] - 1s 3ms/step - loss: 105.4390 - mae: 7.9559 - mse: 105.4390 - val_loss: 91.3875 - val_mae: 7.3434 - val_mse: 91.3875\n",
            "Epoch 63/300\n",
            "196/196 [==============================] - 1s 3ms/step - loss: 103.6210 - mae: 7.8649 - mse: 103.6210 - val_loss: 93.7406 - val_mae: 7.3868 - val_mse: 93.7406\n",
            "Epoch 64/300\n",
            "196/196 [==============================] - 1s 3ms/step - loss: 105.5529 - mae: 7.9189 - mse: 105.5529 - val_loss: 97.2372 - val_mae: 7.6666 - val_mse: 97.2372\n",
            "Epoch 65/300\n",
            "196/196 [==============================] - 0s 2ms/step - loss: 102.7301 - mae: 7.8252 - mse: 102.7301 - val_loss: 92.3632 - val_mae: 7.3153 - val_mse: 92.3632\n",
            "Epoch 66/300\n",
            "196/196 [==============================] - 0s 2ms/step - loss: 102.4376 - mae: 7.7835 - mse: 102.4376 - val_loss: 92.1108 - val_mae: 7.3401 - val_mse: 92.1108\n",
            "Epoch 67/300\n",
            "196/196 [==============================] - 1s 3ms/step - loss: 103.0490 - mae: 7.8075 - mse: 103.0490 - val_loss: 93.9263 - val_mae: 7.5060 - val_mse: 93.9263\n",
            "Epoch 68/300\n",
            "196/196 [==============================] - 0s 2ms/step - loss: 102.7047 - mae: 7.7884 - mse: 102.7047 - val_loss: 98.4529 - val_mae: 7.5342 - val_mse: 98.4529\n",
            "Epoch 69/300\n",
            "196/196 [==============================] - 1s 3ms/step - loss: 102.8595 - mae: 7.8115 - mse: 102.8595 - val_loss: 91.2297 - val_mae: 7.3145 - val_mse: 91.2297\n",
            "Epoch 70/300\n",
            "196/196 [==============================] - 0s 2ms/step - loss: 103.7017 - mae: 7.8287 - mse: 103.7017 - val_loss: 94.8103 - val_mae: 7.4113 - val_mse: 94.8103\n",
            "Epoch 71/300\n",
            "196/196 [==============================] - 0s 2ms/step - loss: 102.2355 - mae: 7.7858 - mse: 102.2355 - val_loss: 97.8371 - val_mae: 7.6987 - val_mse: 97.8371\n",
            "Epoch 72/300\n",
            "196/196 [==============================] - 1s 3ms/step - loss: 104.6281 - mae: 7.8872 - mse: 104.6281 - val_loss: 91.5873 - val_mae: 7.3035 - val_mse: 91.5873\n",
            "Epoch 73/300\n",
            "196/196 [==============================] - 0s 2ms/step - loss: 104.0680 - mae: 7.8577 - mse: 104.0680 - val_loss: 98.8921 - val_mae: 7.5710 - val_mse: 98.8921\n",
            "Epoch 74/300\n",
            "196/196 [==============================] - 1s 3ms/step - loss: 104.3228 - mae: 7.8874 - mse: 104.3228 - val_loss: 97.9453 - val_mae: 7.5465 - val_mse: 97.9453\n",
            "Epoch 75/300\n",
            "196/196 [==============================] - 1s 3ms/step - loss: 105.2337 - mae: 7.9063 - mse: 105.2337 - val_loss: 90.9129 - val_mae: 7.3079 - val_mse: 90.9129\n",
            "Epoch 76/300\n",
            "196/196 [==============================] - 0s 2ms/step - loss: 104.1186 - mae: 7.8862 - mse: 104.1186 - val_loss: 91.0112 - val_mae: 7.2901 - val_mse: 91.0112\n",
            "Epoch 77/300\n",
            "196/196 [==============================] - 0s 2ms/step - loss: 107.2900 - mae: 8.0168 - mse: 107.2900 - val_loss: 93.4471 - val_mae: 7.4457 - val_mse: 93.4471\n",
            "Epoch 78/300\n",
            "196/196 [==============================] - 1s 4ms/step - loss: 105.2048 - mae: 7.9429 - mse: 105.2048 - val_loss: 107.8429 - val_mae: 7.9291 - val_mse: 107.8429\n",
            "Epoch 79/300\n",
            "196/196 [==============================] - 1s 4ms/step - loss: 103.9804 - mae: 7.8688 - mse: 103.9804 - val_loss: 96.7163 - val_mae: 7.6394 - val_mse: 96.7163\n",
            "Epoch 80/300\n",
            "196/196 [==============================] - 1s 3ms/step - loss: 105.4139 - mae: 7.9494 - mse: 105.4139 - val_loss: 91.4588 - val_mae: 7.3635 - val_mse: 91.4588\n",
            "Epoch 81/300\n",
            "196/196 [==============================] - 1s 3ms/step - loss: 104.7960 - mae: 7.9198 - mse: 104.7960 - val_loss: 102.4647 - val_mae: 7.6983 - val_mse: 102.4647\n",
            "Epoch 82/300\n",
            "196/196 [==============================] - 1s 3ms/step - loss: 103.0719 - mae: 7.8267 - mse: 103.0719 - val_loss: 91.2243 - val_mae: 7.3488 - val_mse: 91.2243\n",
            "Epoch 83/300\n",
            "196/196 [==============================] - 1s 3ms/step - loss: 101.3662 - mae: 7.7653 - mse: 101.3662 - val_loss: 92.1098 - val_mae: 7.4086 - val_mse: 92.1098\n",
            "Epoch 84/300\n",
            "196/196 [==============================] - 1s 3ms/step - loss: 102.9030 - mae: 7.8045 - mse: 102.9030 - val_loss: 106.5854 - val_mae: 7.8796 - val_mse: 106.5854\n",
            "Epoch 85/300\n",
            "196/196 [==============================] - 1s 3ms/step - loss: 103.7910 - mae: 7.8229 - mse: 103.7910 - val_loss: 102.4148 - val_mae: 7.6917 - val_mse: 102.4148\n",
            "Epoch 86/300\n",
            "196/196 [==============================] - 1s 3ms/step - loss: 102.6610 - mae: 7.8220 - mse: 102.6610 - val_loss: 92.0337 - val_mae: 7.4019 - val_mse: 92.0337\n",
            "Epoch 87/300\n",
            "196/196 [==============================] - 0s 2ms/step - loss: 103.7103 - mae: 7.8444 - mse: 103.7103 - val_loss: 106.6481 - val_mae: 8.1108 - val_mse: 106.6481\n",
            "Epoch 88/300\n",
            "196/196 [==============================] - 1s 3ms/step - loss: 103.9468 - mae: 7.8678 - mse: 103.9468 - val_loss: 95.7935 - val_mae: 7.4577 - val_mse: 95.7935\n",
            "Epoch 89/300\n",
            "196/196 [==============================] - 1s 3ms/step - loss: 101.4215 - mae: 7.7940 - mse: 101.4215 - val_loss: 96.8976 - val_mae: 7.4779 - val_mse: 96.8976\n",
            "Epoch 90/300\n",
            "196/196 [==============================] - 1s 3ms/step - loss: 102.3849 - mae: 7.7904 - mse: 102.3849 - val_loss: 98.6163 - val_mae: 7.5708 - val_mse: 98.6163\n",
            "Epoch 91/300\n",
            "196/196 [==============================] - 1s 3ms/step - loss: 102.6872 - mae: 7.7900 - mse: 102.6872 - val_loss: 101.9651 - val_mae: 7.8871 - val_mse: 101.9651\n",
            "Epoch 92/300\n",
            "196/196 [==============================] - 1s 3ms/step - loss: 102.8443 - mae: 7.8134 - mse: 102.8443 - val_loss: 109.5504 - val_mae: 8.2536 - val_mse: 109.5504\n",
            "Epoch 93/300\n",
            "196/196 [==============================] - 1s 3ms/step - loss: 103.3311 - mae: 7.8302 - mse: 103.3311 - val_loss: 92.8727 - val_mae: 7.3355 - val_mse: 92.8727\n",
            "Epoch 94/300\n",
            "196/196 [==============================] - 0s 2ms/step - loss: 103.7611 - mae: 7.8572 - mse: 103.7611 - val_loss: 97.6823 - val_mae: 7.5273 - val_mse: 97.6823\n",
            "Epoch 95/300\n",
            "196/196 [==============================] - 0s 2ms/step - loss: 103.1408 - mae: 7.8329 - mse: 103.1408 - val_loss: 92.4509 - val_mae: 7.3215 - val_mse: 92.4509\n",
            "Epoch 96/300\n",
            "196/196 [==============================] - 1s 3ms/step - loss: 104.4127 - mae: 7.8878 - mse: 104.4127 - val_loss: 98.6530 - val_mae: 7.7333 - val_mse: 98.6530\n",
            "Epoch 97/300\n",
            "196/196 [==============================] - 1s 3ms/step - loss: 104.9879 - mae: 7.8915 - mse: 104.9879 - val_loss: 91.7337 - val_mae: 7.2946 - val_mse: 91.7337\n",
            "Epoch 98/300\n",
            "196/196 [==============================] - 1s 3ms/step - loss: 103.8799 - mae: 7.8763 - mse: 103.8799 - val_loss: 93.6790 - val_mae: 7.3667 - val_mse: 93.6790\n",
            "Epoch 99/300\n",
            "196/196 [==============================] - 1s 3ms/step - loss: 102.0564 - mae: 7.7676 - mse: 102.0564 - val_loss: 98.8366 - val_mae: 7.5770 - val_mse: 98.8366\n",
            "Epoch 100/300\n",
            "196/196 [==============================] - 1s 3ms/step - loss: 104.3274 - mae: 7.8743 - mse: 104.3274 - val_loss: 95.0185 - val_mae: 7.4214 - val_mse: 95.0185\n",
            "Epoch 101/300\n",
            "196/196 [==============================] - 1s 4ms/step - loss: 102.6955 - mae: 7.8135 - mse: 102.6955 - val_loss: 91.9711 - val_mae: 7.3973 - val_mse: 91.9711\n",
            "Epoch 102/300\n",
            "196/196 [==============================] - 1s 4ms/step - loss: 104.2632 - mae: 7.8798 - mse: 104.2632 - val_loss: 92.6935 - val_mae: 7.3326 - val_mse: 92.6935\n",
            "Epoch 103/300\n",
            "196/196 [==============================] - 1s 4ms/step - loss: 102.8621 - mae: 7.8179 - mse: 102.8621 - val_loss: 91.5926 - val_mae: 7.2921 - val_mse: 91.5926\n",
            "Epoch 104/300\n",
            "196/196 [==============================] - 1s 4ms/step - loss: 104.1175 - mae: 7.8559 - mse: 104.1175 - val_loss: 93.2443 - val_mae: 7.4377 - val_mse: 93.2443\n",
            "Epoch 105/300\n",
            "196/196 [==============================] - 1s 4ms/step - loss: 103.2573 - mae: 7.8316 - mse: 103.2573 - val_loss: 102.2345 - val_mae: 7.6865 - val_mse: 102.2345\n",
            "Epoch 106/300\n",
            "196/196 [==============================] - 1s 3ms/step - loss: 102.4526 - mae: 7.8184 - mse: 102.4526 - val_loss: 105.5599 - val_mae: 7.8303 - val_mse: 105.5599\n",
            "Epoch 107/300\n",
            "196/196 [==============================] - 1s 4ms/step - loss: 104.1934 - mae: 7.8888 - mse: 104.1934 - val_loss: 103.0057 - val_mae: 7.9419 - val_mse: 103.0057\n",
            "Epoch 108/300\n",
            "196/196 [==============================] - 1s 4ms/step - loss: 103.5795 - mae: 7.8729 - mse: 103.5795 - val_loss: 90.8467 - val_mae: 7.2707 - val_mse: 90.8467\n",
            "Epoch 109/300\n",
            "196/196 [==============================] - 1s 4ms/step - loss: 103.5253 - mae: 7.8340 - mse: 103.5253 - val_loss: 96.2671 - val_mae: 7.4520 - val_mse: 96.2671\n",
            "Epoch 110/300\n",
            "196/196 [==============================] - 1s 4ms/step - loss: 103.8752 - mae: 7.8402 - mse: 103.8752 - val_loss: 111.0104 - val_mae: 8.3222 - val_mse: 111.0104\n",
            "Epoch 111/300\n",
            "196/196 [==============================] - 1s 5ms/step - loss: 103.4356 - mae: 7.8787 - mse: 103.4356 - val_loss: 103.3888 - val_mae: 7.7477 - val_mse: 103.3888\n",
            "Epoch 112/300\n",
            "196/196 [==============================] - 1s 4ms/step - loss: 103.2782 - mae: 7.8435 - mse: 103.2782 - val_loss: 99.2207 - val_mae: 7.7498 - val_mse: 99.2207\n",
            "Epoch 113/300\n",
            "196/196 [==============================] - 1s 4ms/step - loss: 102.8469 - mae: 7.8104 - mse: 102.8469 - val_loss: 90.8121 - val_mae: 7.3170 - val_mse: 90.8121\n",
            "Epoch 114/300\n",
            "196/196 [==============================] - 1s 5ms/step - loss: 108.8618 - mae: 8.0683 - mse: 108.8618 - val_loss: 101.3503 - val_mae: 7.6604 - val_mse: 101.3503\n",
            "Epoch 115/300\n",
            "196/196 [==============================] - 1s 4ms/step - loss: 102.0702 - mae: 7.8016 - mse: 102.0702 - val_loss: 91.3576 - val_mae: 7.3364 - val_mse: 91.3576\n",
            "Epoch 116/300\n",
            "196/196 [==============================] - 1s 4ms/step - loss: 104.2544 - mae: 7.8867 - mse: 104.2544 - val_loss: 91.1335 - val_mae: 7.2841 - val_mse: 91.1335\n",
            "Epoch 117/300\n",
            "196/196 [==============================] - 1s 4ms/step - loss: 102.0945 - mae: 7.7838 - mse: 102.0945 - val_loss: 91.2034 - val_mae: 7.3042 - val_mse: 91.2034\n",
            "Epoch 118/300\n",
            "196/196 [==============================] - 1s 4ms/step - loss: 101.8198 - mae: 7.7832 - mse: 101.8198 - val_loss: 93.1804 - val_mae: 7.3426 - val_mse: 93.1804\n",
            "Epoch 119/300\n",
            "196/196 [==============================] - 1s 4ms/step - loss: 102.7590 - mae: 7.8462 - mse: 102.7590 - val_loss: 131.0517 - val_mae: 8.8638 - val_mse: 131.0517\n",
            "Epoch 120/300\n",
            "196/196 [==============================] - 1s 4ms/step - loss: 103.7829 - mae: 7.8547 - mse: 103.7829 - val_loss: 92.8356 - val_mae: 7.4097 - val_mse: 92.8356\n",
            "Epoch 121/300\n",
            "196/196 [==============================] - 1s 5ms/step - loss: 105.5737 - mae: 7.9262 - mse: 105.5737 - val_loss: 92.2276 - val_mae: 7.3153 - val_mse: 92.2276\n",
            "Epoch 122/300\n",
            "196/196 [==============================] - 1s 4ms/step - loss: 103.7888 - mae: 7.8683 - mse: 103.7888 - val_loss: 91.5722 - val_mae: 7.3740 - val_mse: 91.5722\n",
            "Epoch 123/300\n",
            "196/196 [==============================] - 1s 7ms/step - loss: 105.3823 - mae: 7.9132 - mse: 105.3823 - val_loss: 98.5050 - val_mae: 7.5446 - val_mse: 98.5050\n",
            "Epoch 124/300\n",
            "196/196 [==============================] - 1s 3ms/step - loss: 103.4231 - mae: 7.8594 - mse: 103.4231 - val_loss: 93.6392 - val_mae: 7.3744 - val_mse: 93.6392\n",
            "Epoch 125/300\n",
            "196/196 [==============================] - 1s 3ms/step - loss: 102.1918 - mae: 7.8139 - mse: 102.1918 - val_loss: 101.0704 - val_mae: 7.6476 - val_mse: 101.0704\n",
            "Epoch 126/300\n",
            "196/196 [==============================] - 1s 3ms/step - loss: 103.8698 - mae: 7.8693 - mse: 103.8698 - val_loss: 101.9756 - val_mae: 7.9155 - val_mse: 101.9756\n",
            "Epoch 127/300\n",
            "196/196 [==============================] - 0s 2ms/step - loss: 104.5154 - mae: 7.8422 - mse: 104.5154 - val_loss: 90.9597 - val_mae: 7.2901 - val_mse: 90.9597\n",
            "Epoch 128/300\n",
            "196/196 [==============================] - 0s 2ms/step - loss: 102.4431 - mae: 7.8204 - mse: 102.4431 - val_loss: 96.8341 - val_mae: 7.6514 - val_mse: 96.8341\n",
            "Epoch 129/300\n",
            "196/196 [==============================] - 0s 2ms/step - loss: 103.9364 - mae: 7.8924 - mse: 103.9364 - val_loss: 93.4593 - val_mae: 7.3381 - val_mse: 93.4593\n",
            "Epoch 130/300\n",
            "196/196 [==============================] - 0s 2ms/step - loss: 106.9742 - mae: 7.9960 - mse: 106.9742 - val_loss: 92.5240 - val_mae: 7.4159 - val_mse: 92.5240\n",
            "Epoch 131/300\n",
            "196/196 [==============================] - 0s 2ms/step - loss: 105.2639 - mae: 7.9309 - mse: 105.2639 - val_loss: 92.3061 - val_mae: 7.4147 - val_mse: 92.3061\n",
            "Epoch 132/300\n",
            "196/196 [==============================] - 1s 3ms/step - loss: 101.7087 - mae: 7.7960 - mse: 101.7087 - val_loss: 115.9396 - val_mae: 8.2581 - val_mse: 115.9396\n",
            "Epoch 133/300\n",
            "196/196 [==============================] - 1s 3ms/step - loss: 105.2291 - mae: 7.9102 - mse: 105.2291 - val_loss: 92.3501 - val_mae: 7.4239 - val_mse: 92.3501\n",
            "Epoch 134/300\n",
            "196/196 [==============================] - 1s 3ms/step - loss: 103.3056 - mae: 7.8202 - mse: 103.3056 - val_loss: 103.6405 - val_mae: 7.7643 - val_mse: 103.6405\n",
            "Epoch 135/300\n",
            "196/196 [==============================] - 1s 3ms/step - loss: 102.5358 - mae: 7.8269 - mse: 102.5358 - val_loss: 96.4722 - val_mae: 7.4668 - val_mse: 96.4722\n",
            "Epoch 136/300\n",
            "196/196 [==============================] - 0s 2ms/step - loss: 102.8596 - mae: 7.8068 - mse: 102.8596 - val_loss: 99.8881 - val_mae: 7.8011 - val_mse: 99.8881\n",
            "Epoch 137/300\n",
            "196/196 [==============================] - 0s 2ms/step - loss: 102.6169 - mae: 7.8097 - mse: 102.6169 - val_loss: 91.4470 - val_mae: 7.2944 - val_mse: 91.4470\n",
            "Epoch 138/300\n",
            "196/196 [==============================] - 0s 2ms/step - loss: 106.4267 - mae: 7.9347 - mse: 106.4267 - val_loss: 94.8291 - val_mae: 7.5412 - val_mse: 94.8291\n",
            "Epoch 139/300\n",
            "196/196 [==============================] - 0s 2ms/step - loss: 102.6037 - mae: 7.7867 - mse: 102.6037 - val_loss: 91.0936 - val_mae: 7.3108 - val_mse: 91.0936\n",
            "Epoch 140/300\n",
            "196/196 [==============================] - 0s 2ms/step - loss: 102.1540 - mae: 7.7856 - mse: 102.1540 - val_loss: 91.2633 - val_mae: 7.3002 - val_mse: 91.2633\n",
            "Epoch 141/300\n",
            "196/196 [==============================] - 1s 3ms/step - loss: 102.4292 - mae: 7.8034 - mse: 102.4292 - val_loss: 92.5110 - val_mae: 7.3150 - val_mse: 92.5110\n",
            "Epoch 142/300\n",
            "196/196 [==============================] - 1s 3ms/step - loss: 103.0142 - mae: 7.8620 - mse: 103.0142 - val_loss: 93.1403 - val_mae: 7.4645 - val_mse: 93.1403\n",
            "Epoch 143/300\n",
            "196/196 [==============================] - 1s 3ms/step - loss: 104.0433 - mae: 7.8802 - mse: 104.0433 - val_loss: 113.9750 - val_mae: 8.1656 - val_mse: 113.9750\n",
            "Epoch 144/300\n",
            "196/196 [==============================] - 0s 2ms/step - loss: 104.2994 - mae: 7.8781 - mse: 104.2994 - val_loss: 96.4171 - val_mae: 7.6320 - val_mse: 96.4171\n",
            "Epoch 145/300\n",
            "196/196 [==============================] - 0s 2ms/step - loss: 103.3323 - mae: 7.8293 - mse: 103.3323 - val_loss: 101.1953 - val_mae: 7.6444 - val_mse: 101.1953\n",
            "Epoch 146/300\n",
            "196/196 [==============================] - 0s 2ms/step - loss: 103.8064 - mae: 7.8630 - mse: 103.8064 - val_loss: 92.5513 - val_mae: 7.4092 - val_mse: 92.5513\n",
            "Epoch 147/300\n",
            "196/196 [==============================] - 1s 3ms/step - loss: 104.0024 - mae: 7.8531 - mse: 104.0024 - val_loss: 91.3901 - val_mae: 7.2912 - val_mse: 91.3901\n",
            "Epoch 148/300\n",
            "196/196 [==============================] - 0s 2ms/step - loss: 102.7243 - mae: 7.8282 - mse: 102.7243 - val_loss: 91.8108 - val_mae: 7.3744 - val_mse: 91.8108\n",
            "Epoch 149/300\n",
            "196/196 [==============================] - 0s 2ms/step - loss: 102.6205 - mae: 7.8167 - mse: 102.6205 - val_loss: 101.8447 - val_mae: 7.8949 - val_mse: 101.8447\n",
            "Epoch 150/300\n",
            "196/196 [==============================] - 0s 2ms/step - loss: 103.4161 - mae: 7.8494 - mse: 103.4161 - val_loss: 91.8866 - val_mae: 7.2957 - val_mse: 91.8866\n",
            "Epoch 151/300\n",
            "196/196 [==============================] - 0s 2ms/step - loss: 102.3094 - mae: 7.7895 - mse: 102.3094 - val_loss: 90.9523 - val_mae: 7.3199 - val_mse: 90.9523\n",
            "Epoch 152/300\n",
            "196/196 [==============================] - 1s 3ms/step - loss: 102.9072 - mae: 7.8110 - mse: 102.9072 - val_loss: 91.5383 - val_mae: 7.3179 - val_mse: 91.5383\n",
            "Epoch 153/300\n",
            "196/196 [==============================] - 0s 2ms/step - loss: 103.1905 - mae: 7.8457 - mse: 103.1905 - val_loss: 100.3198 - val_mae: 7.8237 - val_mse: 100.3198\n",
            "Epoch 154/300\n",
            "196/196 [==============================] - 1s 3ms/step - loss: 105.2359 - mae: 7.8896 - mse: 105.2359 - val_loss: 91.2544 - val_mae: 7.3286 - val_mse: 91.2544\n",
            "Epoch 155/300\n",
            "196/196 [==============================] - 0s 2ms/step - loss: 107.4116 - mae: 8.0052 - mse: 107.4116 - val_loss: 91.9510 - val_mae: 7.3390 - val_mse: 91.9510\n",
            "Epoch 156/300\n",
            "196/196 [==============================] - 0s 2ms/step - loss: 101.7849 - mae: 7.7835 - mse: 101.7849 - val_loss: 98.6572 - val_mae: 7.5321 - val_mse: 98.6572\n",
            "Epoch 157/300\n",
            "196/196 [==============================] - 0s 2ms/step - loss: 103.4161 - mae: 7.8495 - mse: 103.4161 - val_loss: 92.8119 - val_mae: 7.3333 - val_mse: 92.8119\n",
            "Epoch 158/300\n",
            "196/196 [==============================] - 1s 3ms/step - loss: 101.3440 - mae: 7.7553 - mse: 101.3440 - val_loss: 91.2006 - val_mae: 7.3458 - val_mse: 91.2006\n",
            "Epoch 159/300\n",
            "196/196 [==============================] - 1s 3ms/step - loss: 103.0265 - mae: 7.8344 - mse: 103.0265 - val_loss: 90.7678 - val_mae: 7.3132 - val_mse: 90.7678\n",
            "Epoch 160/300\n",
            "196/196 [==============================] - 1s 3ms/step - loss: 103.8215 - mae: 7.8468 - mse: 103.8215 - val_loss: 93.4180 - val_mae: 7.3546 - val_mse: 93.4180\n",
            "Epoch 161/300\n",
            "196/196 [==============================] - 1s 3ms/step - loss: 104.0488 - mae: 7.8861 - mse: 104.0488 - val_loss: 109.1571 - val_mae: 7.9776 - val_mse: 109.1571\n",
            "Epoch 162/300\n",
            "196/196 [==============================] - 1s 3ms/step - loss: 102.6260 - mae: 7.8021 - mse: 102.6260 - val_loss: 116.0115 - val_mae: 8.5446 - val_mse: 116.0115\n",
            "Epoch 163/300\n",
            "196/196 [==============================] - 0s 2ms/step - loss: 101.4581 - mae: 7.7673 - mse: 101.4581 - val_loss: 91.1998 - val_mae: 7.2783 - val_mse: 91.1998\n",
            "Epoch 164/300\n",
            "196/196 [==============================] - 0s 2ms/step - loss: 101.7395 - mae: 7.7694 - mse: 101.7395 - val_loss: 99.1459 - val_mae: 7.7643 - val_mse: 99.1459\n",
            "Epoch 165/300\n",
            "196/196 [==============================] - 0s 2ms/step - loss: 106.8137 - mae: 7.9800 - mse: 106.8137 - val_loss: 94.1485 - val_mae: 7.5184 - val_mse: 94.1485\n",
            "Epoch 166/300\n",
            "196/196 [==============================] - 0s 2ms/step - loss: 103.1438 - mae: 7.8391 - mse: 103.1438 - val_loss: 93.5304 - val_mae: 7.4576 - val_mse: 93.5304\n",
            "Epoch 167/300\n",
            "196/196 [==============================] - 0s 2ms/step - loss: 103.0875 - mae: 7.8227 - mse: 103.0875 - val_loss: 91.4234 - val_mae: 7.3579 - val_mse: 91.4234\n",
            "Epoch 168/300\n",
            "196/196 [==============================] - 0s 2ms/step - loss: 103.3520 - mae: 7.8571 - mse: 103.3520 - val_loss: 99.1178 - val_mae: 7.7647 - val_mse: 99.1178\n",
            "Epoch 169/300\n",
            "196/196 [==============================] - 0s 2ms/step - loss: 101.7548 - mae: 7.7714 - mse: 101.7548 - val_loss: 101.8185 - val_mae: 7.6680 - val_mse: 101.8185\n",
            "Epoch 170/300\n",
            "196/196 [==============================] - 1s 3ms/step - loss: 103.0825 - mae: 7.8350 - mse: 103.0825 - val_loss: 98.3690 - val_mae: 7.7342 - val_mse: 98.3690\n",
            "Epoch 171/300\n",
            "196/196 [==============================] - 0s 2ms/step - loss: 102.1871 - mae: 7.8060 - mse: 102.1871 - val_loss: 93.8154 - val_mae: 7.5064 - val_mse: 93.8154\n",
            "Epoch 172/300\n",
            "196/196 [==============================] - 0s 2ms/step - loss: 102.3786 - mae: 7.8000 - mse: 102.3786 - val_loss: 92.0394 - val_mae: 7.3680 - val_mse: 92.0394\n",
            "Epoch 173/300\n",
            "196/196 [==============================] - 0s 2ms/step - loss: 104.1221 - mae: 7.8777 - mse: 104.1221 - val_loss: 91.5450 - val_mae: 7.2956 - val_mse: 91.5450\n",
            "Epoch 174/300\n",
            "196/196 [==============================] - 0s 2ms/step - loss: 101.8647 - mae: 7.8094 - mse: 101.8647 - val_loss: 90.9206 - val_mae: 7.2899 - val_mse: 90.9206\n",
            "Epoch 175/300\n",
            "196/196 [==============================] - 1s 3ms/step - loss: 102.9903 - mae: 7.8262 - mse: 102.9903 - val_loss: 101.8736 - val_mae: 7.6903 - val_mse: 101.8736\n",
            "Epoch 176/300\n",
            "196/196 [==============================] - 0s 2ms/step - loss: 105.0997 - mae: 7.8973 - mse: 105.0997 - val_loss: 93.9111 - val_mae: 7.4935 - val_mse: 93.9111\n",
            "Epoch 177/300\n",
            "196/196 [==============================] - 1s 3ms/step - loss: 101.7422 - mae: 7.7824 - mse: 101.7422 - val_loss: 90.8184 - val_mae: 7.2881 - val_mse: 90.8184\n",
            "Epoch 178/300\n",
            "196/196 [==============================] - 1s 3ms/step - loss: 105.2753 - mae: 7.8868 - mse: 105.2753 - val_loss: 91.4076 - val_mae: 7.3417 - val_mse: 91.4076\n",
            "Epoch 179/300\n",
            "196/196 [==============================] - 1s 3ms/step - loss: 102.4296 - mae: 7.7979 - mse: 102.4296 - val_loss: 92.7801 - val_mae: 7.3502 - val_mse: 92.7801\n",
            "Epoch 180/300\n",
            "196/196 [==============================] - 1s 3ms/step - loss: 103.2218 - mae: 7.8283 - mse: 103.2218 - val_loss: 90.9347 - val_mae: 7.3103 - val_mse: 90.9347\n",
            "Epoch 181/300\n",
            "196/196 [==============================] - 1s 3ms/step - loss: 104.4682 - mae: 7.8551 - mse: 104.4682 - val_loss: 91.4809 - val_mae: 7.2850 - val_mse: 91.4809\n",
            "Epoch 182/300\n",
            "196/196 [==============================] - 1s 3ms/step - loss: 102.1426 - mae: 7.7877 - mse: 102.1426 - val_loss: 126.2072 - val_mae: 8.6645 - val_mse: 126.2072\n",
            "Epoch 183/300\n",
            "196/196 [==============================] - 1s 3ms/step - loss: 102.6894 - mae: 7.8445 - mse: 102.6894 - val_loss: 95.8408 - val_mae: 7.6071 - val_mse: 95.8408\n",
            "Epoch 184/300\n",
            "196/196 [==============================] - 0s 2ms/step - loss: 105.9453 - mae: 7.9736 - mse: 105.9453 - val_loss: 94.9160 - val_mae: 7.3884 - val_mse: 94.9160\n",
            "Epoch 185/300\n",
            "196/196 [==============================] - 1s 3ms/step - loss: 103.0552 - mae: 7.8325 - mse: 103.0552 - val_loss: 90.8972 - val_mae: 7.3027 - val_mse: 90.8972\n",
            "Epoch 186/300\n",
            "196/196 [==============================] - 0s 2ms/step - loss: 101.8962 - mae: 7.7792 - mse: 101.8962 - val_loss: 96.9106 - val_mae: 7.6646 - val_mse: 96.9106\n",
            "Epoch 187/300\n",
            "196/196 [==============================] - 0s 2ms/step - loss: 105.3147 - mae: 7.9033 - mse: 105.3147 - val_loss: 91.4916 - val_mae: 7.3223 - val_mse: 91.4916\n",
            "Epoch 188/300\n",
            "196/196 [==============================] - 0s 2ms/step - loss: 102.8470 - mae: 7.8092 - mse: 102.8470 - val_loss: 91.5189 - val_mae: 7.3039 - val_mse: 91.5189\n",
            "Epoch 189/300\n",
            "196/196 [==============================] - 0s 2ms/step - loss: 106.5689 - mae: 7.9944 - mse: 106.5689 - val_loss: 92.2115 - val_mae: 7.4100 - val_mse: 92.2115\n",
            "Epoch 190/300\n",
            "196/196 [==============================] - 0s 2ms/step - loss: 103.9046 - mae: 7.8616 - mse: 103.9046 - val_loss: 93.3509 - val_mae: 7.4592 - val_mse: 93.3509\n",
            "Epoch 191/300\n",
            "196/196 [==============================] - 0s 2ms/step - loss: 102.1716 - mae: 7.7859 - mse: 102.1716 - val_loss: 91.4403 - val_mae: 7.3558 - val_mse: 91.4403\n",
            "Epoch 192/300\n",
            "196/196 [==============================] - 0s 2ms/step - loss: 101.4988 - mae: 7.7539 - mse: 101.4988 - val_loss: 95.4371 - val_mae: 7.4416 - val_mse: 95.4371\n",
            "Epoch 193/300\n",
            "196/196 [==============================] - 0s 2ms/step - loss: 102.4058 - mae: 7.7904 - mse: 102.4058 - val_loss: 92.1373 - val_mae: 7.3265 - val_mse: 92.1373\n",
            "Epoch 194/300\n",
            "196/196 [==============================] - 0s 2ms/step - loss: 102.7084 - mae: 7.8113 - mse: 102.7084 - val_loss: 95.9614 - val_mae: 7.6113 - val_mse: 95.9614\n",
            "Epoch 195/300\n",
            "196/196 [==============================] - 0s 2ms/step - loss: 101.9675 - mae: 7.7840 - mse: 101.9675 - val_loss: 91.0669 - val_mae: 7.2741 - val_mse: 91.0669\n",
            "Epoch 196/300\n",
            "196/196 [==============================] - 0s 2ms/step - loss: 102.9480 - mae: 7.8509 - mse: 102.9480 - val_loss: 105.2163 - val_mae: 7.8207 - val_mse: 105.2163\n",
            "Epoch 197/300\n",
            "196/196 [==============================] - 0s 2ms/step - loss: 105.6408 - mae: 7.9415 - mse: 105.6408 - val_loss: 100.7716 - val_mae: 7.6333 - val_mse: 100.7716\n",
            "Epoch 198/300\n",
            "196/196 [==============================] - 0s 2ms/step - loss: 104.3464 - mae: 7.8868 - mse: 104.3464 - val_loss: 91.3088 - val_mae: 7.3031 - val_mse: 91.3088\n",
            "Epoch 199/300\n",
            "196/196 [==============================] - 1s 3ms/step - loss: 101.9583 - mae: 7.8010 - mse: 101.9583 - val_loss: 92.9415 - val_mae: 7.3450 - val_mse: 92.9415\n",
            "Epoch 200/300\n",
            "196/196 [==============================] - 0s 2ms/step - loss: 104.1226 - mae: 7.8445 - mse: 104.1226 - val_loss: 103.3091 - val_mae: 7.9692 - val_mse: 103.3091\n",
            "Epoch 201/300\n",
            "196/196 [==============================] - 0s 2ms/step - loss: 103.1979 - mae: 7.8249 - mse: 103.1979 - val_loss: 93.9616 - val_mae: 7.3683 - val_mse: 93.9616\n",
            "Epoch 202/300\n",
            "196/196 [==============================] - 0s 2ms/step - loss: 103.3113 - mae: 7.7987 - mse: 103.3113 - val_loss: 91.1710 - val_mae: 7.3007 - val_mse: 91.1710\n",
            "Epoch 203/300\n",
            "196/196 [==============================] - 0s 2ms/step - loss: 102.4171 - mae: 7.7937 - mse: 102.4171 - val_loss: 91.2764 - val_mae: 7.3125 - val_mse: 91.2764\n",
            "Epoch 204/300\n",
            "196/196 [==============================] - 0s 2ms/step - loss: 105.8320 - mae: 7.9610 - mse: 105.8320 - val_loss: 94.0211 - val_mae: 7.4966 - val_mse: 94.0211\n",
            "Epoch 205/300\n",
            "196/196 [==============================] - 0s 2ms/step - loss: 103.0822 - mae: 7.8204 - mse: 103.0822 - val_loss: 92.8864 - val_mae: 7.3730 - val_mse: 92.8864\n",
            "Epoch 206/300\n",
            "196/196 [==============================] - 1s 3ms/step - loss: 103.9877 - mae: 7.8446 - mse: 103.9877 - val_loss: 91.5067 - val_mae: 7.3028 - val_mse: 91.5067\n",
            "Epoch 207/300\n",
            "196/196 [==============================] - 0s 2ms/step - loss: 101.4883 - mae: 7.7615 - mse: 101.4883 - val_loss: 91.5261 - val_mae: 7.2810 - val_mse: 91.5261\n",
            "Epoch 208/300\n",
            "196/196 [==============================] - 0s 2ms/step - loss: 104.5159 - mae: 7.8807 - mse: 104.5159 - val_loss: 96.9697 - val_mae: 7.4730 - val_mse: 96.9697\n",
            "Epoch 209/300\n",
            "196/196 [==============================] - 0s 2ms/step - loss: 104.5419 - mae: 7.8626 - mse: 104.5419 - val_loss: 93.3728 - val_mae: 7.4757 - val_mse: 93.3728\n",
            "Epoch 210/300\n",
            "196/196 [==============================] - 0s 2ms/step - loss: 101.8164 - mae: 7.7744 - mse: 101.8164 - val_loss: 91.2294 - val_mae: 7.3125 - val_mse: 91.2294\n",
            "Epoch 211/300\n",
            "196/196 [==============================] - 1s 3ms/step - loss: 103.5869 - mae: 7.8429 - mse: 103.5869 - val_loss: 91.0329 - val_mae: 7.3333 - val_mse: 91.0329\n",
            "Epoch 212/300\n",
            "196/196 [==============================] - 0s 2ms/step - loss: 101.9976 - mae: 7.7785 - mse: 101.9976 - val_loss: 91.3900 - val_mae: 7.3375 - val_mse: 91.3900\n",
            "Epoch 213/300\n",
            "196/196 [==============================] - 0s 2ms/step - loss: 102.2088 - mae: 7.7902 - mse: 102.2088 - val_loss: 94.0921 - val_mae: 7.3614 - val_mse: 94.0921\n",
            "Epoch 214/300\n",
            "196/196 [==============================] - 0s 2ms/step - loss: 101.7269 - mae: 7.7798 - mse: 101.7269 - val_loss: 91.2917 - val_mae: 7.3032 - val_mse: 91.2917\n",
            "Epoch 215/300\n",
            "196/196 [==============================] - 1s 3ms/step - loss: 103.3283 - mae: 7.8329 - mse: 103.3283 - val_loss: 91.4473 - val_mae: 7.3509 - val_mse: 91.4473\n",
            "Epoch 216/300\n",
            "196/196 [==============================] - 0s 2ms/step - loss: 103.9020 - mae: 7.8331 - mse: 103.9020 - val_loss: 91.2559 - val_mae: 7.2863 - val_mse: 91.2559\n",
            "Epoch 217/300\n",
            "196/196 [==============================] - 0s 2ms/step - loss: 103.7033 - mae: 7.8593 - mse: 103.7033 - val_loss: 94.9840 - val_mae: 7.3917 - val_mse: 94.9840\n",
            "Epoch 218/300\n",
            "196/196 [==============================] - 0s 2ms/step - loss: 103.4014 - mae: 7.8656 - mse: 103.4014 - val_loss: 93.1599 - val_mae: 7.3307 - val_mse: 93.1599\n",
            "Epoch 219/300\n",
            "196/196 [==============================] - 1s 3ms/step - loss: 104.2000 - mae: 7.8993 - mse: 104.2000 - val_loss: 91.3533 - val_mae: 7.3423 - val_mse: 91.3533\n",
            "Epoch 220/300\n",
            "196/196 [==============================] - 1s 3ms/step - loss: 102.0553 - mae: 7.7926 - mse: 102.0553 - val_loss: 91.9620 - val_mae: 7.3854 - val_mse: 91.9620\n",
            "Epoch 221/300\n",
            "196/196 [==============================] - 1s 3ms/step - loss: 102.7545 - mae: 7.8393 - mse: 102.7545 - val_loss: 91.8517 - val_mae: 7.3293 - val_mse: 91.8517\n",
            "Epoch 222/300\n",
            "196/196 [==============================] - 1s 3ms/step - loss: 102.1777 - mae: 7.7848 - mse: 102.1777 - val_loss: 92.0315 - val_mae: 7.3845 - val_mse: 92.0315\n",
            "Epoch 223/300\n",
            "196/196 [==============================] - 0s 2ms/step - loss: 101.2388 - mae: 7.7530 - mse: 101.2388 - val_loss: 90.9823 - val_mae: 7.3175 - val_mse: 90.9823\n",
            "Epoch 224/300\n",
            "196/196 [==============================] - 1s 3ms/step - loss: 104.3045 - mae: 7.8706 - mse: 104.3045 - val_loss: 94.4721 - val_mae: 7.3847 - val_mse: 94.4721\n",
            "Epoch 225/300\n",
            "196/196 [==============================] - 1s 3ms/step - loss: 106.4504 - mae: 7.9776 - mse: 106.4504 - val_loss: 90.8972 - val_mae: 7.2908 - val_mse: 90.8972\n",
            "Epoch 226/300\n",
            "196/196 [==============================] - 0s 2ms/step - loss: 103.1010 - mae: 7.8379 - mse: 103.1010 - val_loss: 93.8848 - val_mae: 7.4944 - val_mse: 93.8848\n",
            "Epoch 227/300\n",
            "196/196 [==============================] - 1s 3ms/step - loss: 103.6453 - mae: 7.8767 - mse: 103.6453 - val_loss: 93.1975 - val_mae: 7.4581 - val_mse: 93.1975\n",
            "Epoch 228/300\n",
            "196/196 [==============================] - 0s 2ms/step - loss: 103.6045 - mae: 7.8623 - mse: 103.6045 - val_loss: 91.1751 - val_mae: 7.2948 - val_mse: 91.1751\n",
            "Epoch 229/300\n",
            "196/196 [==============================] - 0s 2ms/step - loss: 103.3089 - mae: 7.8598 - mse: 103.3089 - val_loss: 99.0073 - val_mae: 7.5562 - val_mse: 99.0073\n",
            "Epoch 230/300\n",
            "196/196 [==============================] - 0s 2ms/step - loss: 103.1712 - mae: 7.8314 - mse: 103.1712 - val_loss: 90.3111 - val_mae: 7.2768 - val_mse: 90.3111\n",
            "Epoch 231/300\n",
            "196/196 [==============================] - 1s 3ms/step - loss: 103.4370 - mae: 7.8451 - mse: 103.4370 - val_loss: 92.2307 - val_mae: 7.3043 - val_mse: 92.2307\n",
            "Epoch 232/300\n",
            "196/196 [==============================] - 0s 2ms/step - loss: 103.0907 - mae: 7.8584 - mse: 103.0907 - val_loss: 94.8369 - val_mae: 7.4006 - val_mse: 94.8369\n",
            "Epoch 233/300\n",
            "196/196 [==============================] - 0s 2ms/step - loss: 103.1116 - mae: 7.8351 - mse: 103.1116 - val_loss: 95.4611 - val_mae: 7.5791 - val_mse: 95.4611\n",
            "Epoch 234/300\n",
            "196/196 [==============================] - 0s 2ms/step - loss: 103.9898 - mae: 7.8604 - mse: 103.9898 - val_loss: 93.9118 - val_mae: 7.4960 - val_mse: 93.9118\n",
            "Epoch 235/300\n",
            "196/196 [==============================] - 1s 3ms/step - loss: 102.3804 - mae: 7.8011 - mse: 102.3804 - val_loss: 94.1268 - val_mae: 7.3721 - val_mse: 94.1268\n",
            "Epoch 236/300\n",
            "196/196 [==============================] - 1s 3ms/step - loss: 102.5551 - mae: 7.8100 - mse: 102.5551 - val_loss: 90.4110 - val_mae: 7.2740 - val_mse: 90.4110\n",
            "Epoch 237/300\n",
            "196/196 [==============================] - 1s 3ms/step - loss: 102.1748 - mae: 7.8188 - mse: 102.1748 - val_loss: 91.6384 - val_mae: 7.2830 - val_mse: 91.6384\n",
            "Epoch 238/300\n",
            "196/196 [==============================] - 1s 3ms/step - loss: 101.5902 - mae: 7.7536 - mse: 101.5902 - val_loss: 97.2396 - val_mae: 7.6704 - val_mse: 97.2396\n",
            "Epoch 239/300\n",
            "196/196 [==============================] - 1s 3ms/step - loss: 104.7784 - mae: 7.9332 - mse: 104.7784 - val_loss: 91.8131 - val_mae: 7.3908 - val_mse: 91.8131\n",
            "Epoch 240/300\n",
            "196/196 [==============================] - 1s 3ms/step - loss: 101.9325 - mae: 7.7889 - mse: 101.9325 - val_loss: 91.2174 - val_mae: 7.3020 - val_mse: 91.2174\n",
            "Epoch 241/300\n",
            "196/196 [==============================] - 0s 2ms/step - loss: 101.8229 - mae: 7.7871 - mse: 101.8229 - val_loss: 93.1876 - val_mae: 7.4581 - val_mse: 93.1876\n",
            "Epoch 242/300\n",
            "196/196 [==============================] - 1s 3ms/step - loss: 102.8074 - mae: 7.8194 - mse: 102.8074 - val_loss: 103.8708 - val_mae: 7.7683 - val_mse: 103.8708\n",
            "Epoch 243/300\n",
            "196/196 [==============================] - 1s 3ms/step - loss: 104.4241 - mae: 7.8994 - mse: 104.4241 - val_loss: 96.6216 - val_mae: 7.4652 - val_mse: 96.6216\n",
            "Epoch 244/300\n",
            "196/196 [==============================] - 1s 3ms/step - loss: 102.4156 - mae: 7.7948 - mse: 102.4156 - val_loss: 91.2277 - val_mae: 7.3365 - val_mse: 91.2277\n",
            "Epoch 245/300\n",
            "196/196 [==============================] - 0s 2ms/step - loss: 102.9305 - mae: 7.8251 - mse: 102.9305 - val_loss: 105.7602 - val_mae: 7.8251 - val_mse: 105.7602\n",
            "Epoch 246/300\n",
            "196/196 [==============================] - 1s 3ms/step - loss: 103.9509 - mae: 7.8727 - mse: 103.9509 - val_loss: 91.8443 - val_mae: 7.3660 - val_mse: 91.8443\n",
            "Epoch 247/300\n",
            "196/196 [==============================] - 0s 2ms/step - loss: 101.2646 - mae: 7.7755 - mse: 101.2646 - val_loss: 93.4179 - val_mae: 7.3467 - val_mse: 93.4179\n",
            "Epoch 248/300\n",
            "196/196 [==============================] - 0s 2ms/step - loss: 102.2140 - mae: 7.7951 - mse: 102.2140 - val_loss: 91.3343 - val_mae: 7.2748 - val_mse: 91.3343\n",
            "Epoch 249/300\n",
            "196/196 [==============================] - 0s 2ms/step - loss: 103.3430 - mae: 7.8374 - mse: 103.3430 - val_loss: 91.1286 - val_mae: 7.3465 - val_mse: 91.1286\n",
            "Epoch 250/300\n",
            "196/196 [==============================] - 1s 2ms/step - loss: 102.4216 - mae: 7.7976 - mse: 102.4216 - val_loss: 98.7734 - val_mae: 7.5394 - val_mse: 98.7734\n",
            "Epoch 251/300\n",
            "196/196 [==============================] - 0s 2ms/step - loss: 103.4953 - mae: 7.8396 - mse: 103.4953 - val_loss: 91.3880 - val_mae: 7.2772 - val_mse: 91.3880\n",
            "Epoch 252/300\n",
            "196/196 [==============================] - 0s 2ms/step - loss: 101.4000 - mae: 7.7815 - mse: 101.4000 - val_loss: 91.2072 - val_mae: 7.3426 - val_mse: 91.2072\n",
            "Epoch 253/300\n",
            "196/196 [==============================] - 1s 3ms/step - loss: 101.5125 - mae: 7.7832 - mse: 101.5125 - val_loss: 91.2665 - val_mae: 7.2825 - val_mse: 91.2665\n",
            "Epoch 254/300\n",
            "196/196 [==============================] - 0s 2ms/step - loss: 104.6071 - mae: 7.8796 - mse: 104.6071 - val_loss: 93.5114 - val_mae: 7.3539 - val_mse: 93.5114\n",
            "Epoch 255/300\n",
            "196/196 [==============================] - 0s 2ms/step - loss: 102.5760 - mae: 7.8381 - mse: 102.5760 - val_loss: 93.0031 - val_mae: 7.4212 - val_mse: 93.0031\n",
            "Epoch 256/300\n",
            "196/196 [==============================] - 0s 2ms/step - loss: 101.3921 - mae: 7.7516 - mse: 101.3921 - val_loss: 90.9583 - val_mae: 7.3006 - val_mse: 90.9583\n",
            "Epoch 257/300\n",
            "196/196 [==============================] - 0s 2ms/step - loss: 103.9103 - mae: 7.8707 - mse: 103.9103 - val_loss: 93.0988 - val_mae: 7.3401 - val_mse: 93.0988\n",
            "Epoch 258/300\n",
            "196/196 [==============================] - 1s 3ms/step - loss: 103.5578 - mae: 7.8772 - mse: 103.5578 - val_loss: 91.4771 - val_mae: 7.2902 - val_mse: 91.4771\n",
            "Epoch 259/300\n",
            "196/196 [==============================] - 1s 3ms/step - loss: 102.2227 - mae: 7.7828 - mse: 102.2227 - val_loss: 99.2823 - val_mae: 7.5960 - val_mse: 99.2823\n",
            "Epoch 260/300\n",
            "196/196 [==============================] - 1s 3ms/step - loss: 102.9493 - mae: 7.8111 - mse: 102.9493 - val_loss: 91.1093 - val_mae: 7.3205 - val_mse: 91.1093\n",
            "Epoch 261/300\n",
            "196/196 [==============================] - 1s 3ms/step - loss: 102.3056 - mae: 7.8031 - mse: 102.3056 - val_loss: 92.5531 - val_mae: 7.3253 - val_mse: 92.5531\n",
            "Epoch 262/300\n",
            "196/196 [==============================] - 1s 3ms/step - loss: 101.5018 - mae: 7.7725 - mse: 101.5018 - val_loss: 96.5439 - val_mae: 7.6400 - val_mse: 96.5439\n",
            "Epoch 263/300\n",
            "196/196 [==============================] - 1s 3ms/step - loss: 103.7494 - mae: 7.8460 - mse: 103.7494 - val_loss: 93.1509 - val_mae: 7.4566 - val_mse: 93.1509\n",
            "Epoch 264/300\n",
            "196/196 [==============================] - 0s 2ms/step - loss: 103.8784 - mae: 7.8705 - mse: 103.8784 - val_loss: 96.4332 - val_mae: 7.6287 - val_mse: 96.4332\n",
            "Epoch 265/300\n",
            "196/196 [==============================] - 0s 2ms/step - loss: 101.4455 - mae: 7.7521 - mse: 101.4455 - val_loss: 92.1827 - val_mae: 7.3032 - val_mse: 92.1827\n",
            "Epoch 266/300\n",
            "196/196 [==============================] - 1s 3ms/step - loss: 103.3103 - mae: 7.8365 - mse: 103.3103 - val_loss: 101.0797 - val_mae: 7.8549 - val_mse: 101.0797\n",
            "Epoch 267/300\n",
            "196/196 [==============================] - 0s 3ms/step - loss: 102.5991 - mae: 7.8110 - mse: 102.5991 - val_loss: 93.1894 - val_mae: 7.3615 - val_mse: 93.1894\n",
            "Epoch 268/300\n",
            "196/196 [==============================] - 1s 3ms/step - loss: 101.9020 - mae: 7.7836 - mse: 101.9020 - val_loss: 91.0264 - val_mae: 7.3143 - val_mse: 91.0264\n",
            "Epoch 269/300\n",
            "196/196 [==============================] - 0s 2ms/step - loss: 107.9441 - mae: 8.0326 - mse: 107.9441 - val_loss: 91.0978 - val_mae: 7.3095 - val_mse: 91.0978\n",
            "Epoch 270/300\n",
            "196/196 [==============================] - 0s 2ms/step - loss: 101.1781 - mae: 7.7403 - mse: 101.1781 - val_loss: 93.5824 - val_mae: 7.3466 - val_mse: 93.5824\n",
            "Epoch 271/300\n",
            "196/196 [==============================] - 0s 2ms/step - loss: 103.1740 - mae: 7.8354 - mse: 103.1740 - val_loss: 91.5036 - val_mae: 7.3460 - val_mse: 91.5036\n",
            "Epoch 272/300\n",
            "196/196 [==============================] - 0s 2ms/step - loss: 103.4571 - mae: 7.8449 - mse: 103.4571 - val_loss: 90.9166 - val_mae: 7.2927 - val_mse: 90.9166\n",
            "Epoch 273/300\n",
            "196/196 [==============================] - 0s 2ms/step - loss: 101.2813 - mae: 7.7734 - mse: 101.2813 - val_loss: 96.2641 - val_mae: 7.4539 - val_mse: 96.2641\n",
            "Epoch 274/300\n",
            "196/196 [==============================] - 1s 3ms/step - loss: 104.3682 - mae: 7.8879 - mse: 104.3682 - val_loss: 92.3565 - val_mae: 7.4166 - val_mse: 92.3565\n",
            "Epoch 275/300\n",
            "196/196 [==============================] - 1s 3ms/step - loss: 102.0614 - mae: 7.7862 - mse: 102.0614 - val_loss: 91.1803 - val_mae: 7.3433 - val_mse: 91.1803\n",
            "Epoch 276/300\n",
            "196/196 [==============================] - 1s 3ms/step - loss: 104.1179 - mae: 7.8716 - mse: 104.1179 - val_loss: 92.1195 - val_mae: 7.3147 - val_mse: 92.1195\n",
            "Epoch 277/300\n",
            "196/196 [==============================] - 1s 3ms/step - loss: 105.0723 - mae: 7.9244 - mse: 105.0723 - val_loss: 95.0500 - val_mae: 7.4109 - val_mse: 95.0500\n",
            "Epoch 278/300\n",
            "196/196 [==============================] - 1s 3ms/step - loss: 100.9037 - mae: 7.7412 - mse: 100.9037 - val_loss: 93.2469 - val_mae: 7.4660 - val_mse: 93.2469\n",
            "Epoch 279/300\n",
            "196/196 [==============================] - 0s 2ms/step - loss: 104.4084 - mae: 7.8832 - mse: 104.4084 - val_loss: 101.8537 - val_mae: 7.8963 - val_mse: 101.8537\n",
            "Epoch 280/300\n",
            "196/196 [==============================] - 1s 3ms/step - loss: 102.4727 - mae: 7.8024 - mse: 102.4727 - val_loss: 93.7975 - val_mae: 7.4973 - val_mse: 93.7975\n",
            "Epoch 281/300\n",
            "196/196 [==============================] - 1s 3ms/step - loss: 103.3098 - mae: 7.8386 - mse: 103.3098 - val_loss: 121.8266 - val_mae: 8.4808 - val_mse: 121.8266\n",
            "Epoch 282/300\n",
            "196/196 [==============================] - 1s 3ms/step - loss: 102.5872 - mae: 7.8223 - mse: 102.5872 - val_loss: 95.4740 - val_mae: 7.4368 - val_mse: 95.4740\n",
            "Epoch 283/300\n",
            "196/196 [==============================] - 0s 2ms/step - loss: 101.0050 - mae: 7.7519 - mse: 101.0050 - val_loss: 92.9850 - val_mae: 7.3350 - val_mse: 92.9850\n",
            "Epoch 284/300\n",
            "196/196 [==============================] - 1s 3ms/step - loss: 102.3056 - mae: 7.8080 - mse: 102.3056 - val_loss: 92.8818 - val_mae: 7.3358 - val_mse: 92.8818\n",
            "Epoch 285/300\n",
            "196/196 [==============================] - 0s 2ms/step - loss: 105.2138 - mae: 7.9332 - mse: 105.2138 - val_loss: 91.9957 - val_mae: 7.3175 - val_mse: 91.9957\n",
            "Epoch 286/300\n",
            "196/196 [==============================] - 0s 2ms/step - loss: 102.6452 - mae: 7.8072 - mse: 102.6452 - val_loss: 96.4634 - val_mae: 7.6447 - val_mse: 96.4634\n",
            "Epoch 287/300\n",
            "196/196 [==============================] - 0s 2ms/step - loss: 102.2352 - mae: 7.7944 - mse: 102.2352 - val_loss: 92.6836 - val_mae: 7.4214 - val_mse: 92.6836\n",
            "Epoch 288/300\n",
            "196/196 [==============================] - 1s 3ms/step - loss: 103.5117 - mae: 7.8492 - mse: 103.5117 - val_loss: 100.4118 - val_mae: 7.8227 - val_mse: 100.4118\n",
            "Epoch 289/300\n",
            "196/196 [==============================] - 0s 2ms/step - loss: 103.8869 - mae: 7.8819 - mse: 103.8869 - val_loss: 93.5244 - val_mae: 7.3395 - val_mse: 93.5244\n",
            "Epoch 290/300\n",
            "196/196 [==============================] - 0s 2ms/step - loss: 101.2054 - mae: 7.7402 - mse: 101.2054 - val_loss: 93.0810 - val_mae: 7.3271 - val_mse: 93.0810\n",
            "Epoch 291/300\n",
            "196/196 [==============================] - 0s 2ms/step - loss: 102.7291 - mae: 7.8156 - mse: 102.7291 - val_loss: 90.9136 - val_mae: 7.2938 - val_mse: 90.9136\n",
            "Epoch 292/300\n",
            "196/196 [==============================] - 0s 2ms/step - loss: 104.1623 - mae: 7.8975 - mse: 104.1623 - val_loss: 91.1818 - val_mae: 7.3375 - val_mse: 91.1818\n",
            "Epoch 293/300\n",
            "196/196 [==============================] - 0s 2ms/step - loss: 102.6933 - mae: 7.7974 - mse: 102.6933 - val_loss: 90.5987 - val_mae: 7.3013 - val_mse: 90.5987\n",
            "Epoch 294/300\n",
            "196/196 [==============================] - 1s 3ms/step - loss: 102.8558 - mae: 7.7970 - mse: 102.8558 - val_loss: 91.7134 - val_mae: 7.3659 - val_mse: 91.7134\n",
            "Epoch 295/300\n",
            "196/196 [==============================] - 1s 3ms/step - loss: 103.9040 - mae: 7.8800 - mse: 103.9040 - val_loss: 92.0583 - val_mae: 7.3140 - val_mse: 92.0583\n",
            "Epoch 296/300\n",
            "196/196 [==============================] - 1s 3ms/step - loss: 101.1008 - mae: 7.7441 - mse: 101.1008 - val_loss: 91.3485 - val_mae: 7.2816 - val_mse: 91.3485\n",
            "Epoch 297/300\n",
            "196/196 [==============================] - 1s 3ms/step - loss: 102.1522 - mae: 7.8200 - mse: 102.1522 - val_loss: 108.3226 - val_mae: 7.9415 - val_mse: 108.3226\n",
            "Epoch 298/300\n",
            "196/196 [==============================] - 1s 3ms/step - loss: 102.7173 - mae: 7.8311 - mse: 102.7173 - val_loss: 91.3042 - val_mae: 7.2818 - val_mse: 91.3042\n",
            "Epoch 299/300\n",
            "196/196 [==============================] - 1s 3ms/step - loss: 103.6277 - mae: 7.8646 - mse: 103.6277 - val_loss: 93.5323 - val_mae: 7.3433 - val_mse: 93.5323\n",
            "Epoch 300/300\n",
            "196/196 [==============================] - 1s 3ms/step - loss: 102.8438 - mae: 7.8199 - mse: 102.8438 - val_loss: 91.0547 - val_mae: 7.3339 - val_mse: 91.0547\n"
          ]
        }
      ]
    },
    {
      "cell_type": "markdown",
      "source": [
        "**Gráficos do erro médio absoluto e do erro médio quadrático para a rede neural**"
      ],
      "metadata": {
        "id": "rfJqPpRHEkiE"
      }
    },
    {
      "cell_type": "code",
      "source": [
        "def plot_history(history):\n",
        "  hist = pd.DataFrame(history.history)\n",
        "  hist['epoch'] = history.epoch\n",
        "\n",
        "  plt.figure()\n",
        "  plt.xlabel('Epoch')\n",
        "  plt.ylabel('Mean Abs Error')\n",
        "  plt.plot(hist['epoch'], hist['mae'],\n",
        "           label='Train Error')\n",
        "  plt.plot(hist['epoch'], hist['val_mae'],\n",
        "           label = 'Val Error')\n",
        "  plt.legend()\n",
        "\n",
        "  plt.figure()\n",
        "  plt.xlabel('Epoch')\n",
        "  plt.ylabel('Mean Square Error')\n",
        "  plt.plot(hist['epoch'], hist['mse'],\n",
        "           label='Train Error')\n",
        "  plt.plot(hist['epoch'], hist['val_mse'],\n",
        "           label = 'Val Error')\n",
        "  plt.legend()\n",
        "  plt.show()\n",
        "\n",
        "\n",
        "plot_history(history)"
      ],
      "metadata": {
        "colab": {
          "base_uri": "https://localhost:8080/",
          "height": 543
        },
        "id": "re-gNWoJ-K0W",
        "outputId": "37da45e9-05f0-4067-e97a-eb25bc0cae07"
      },
      "execution_count": null,
      "outputs": [
        {
          "output_type": "display_data",
          "data": {
            "text/plain": [
              "<Figure size 432x288 with 1 Axes>"
            ],
            "image/png": "[encoded data removed]"
          },
          "metadata": {
            "needs_background": "light"
          }
        },
        {
          "output_type": "display_data",
          "data": {
            "text/plain": [
              "<Figure size 432x288 with 1 Axes>"
            ],
            "image/png": "[encoded data removed]"
          },
          "metadata": {
            "needs_background": "light"
          }
        }
      ]
    },
    {
      "cell_type": "markdown",
      "source": [
        "**Previsões da rede neural**"
      ],
      "metadata": {
        "id": "wAQ8dEEhEtrc"
      }
    },
    {
      "cell_type": "code",
      "source": [
        "ypred=model.predict(X_test)"
      ],
      "metadata": {
        "id": "dY5bWJar-UbG"
      },
      "execution_count": null,
      "outputs": []
    },
    {
      "cell_type": "code",
      "source": [
        "from sklearn.metrics import r2_score\n",
        "r2_score(y_test, ypred)"
      ],
      "metadata": {
        "colab": {
          "base_uri": "https://localhost:8080/"
        },
        "id": "lbtfKETo-axO",
        "outputId": "93f20eca-3ac8-4b20-ac37-6d20a2d0a1e5"
      },
      "execution_count": null,
      "outputs": [
        {
          "output_type": "execute_result",
          "data": {
            "text/plain": [
              "0.8084544242689004"
            ]
          },
          "metadata": {},
          "execution_count": 46
        }
      ]
    },
    {
      "cell_type": "markdown",
      "source": [
        "**Erro médio absoluto**"
      ],
      "metadata": {
        "id": "Vfrr9rbQ6GMe"
      }
    },
    {
      "cell_type": "code",
      "source": [
        "mean_absolute_error(y_test, ypred)"
      ],
      "metadata": {
        "colab": {
          "base_uri": "https://localhost:8080/"
        },
        "id": "r_1eok2J42c7",
        "outputId": "48fe1436-10a8-4b91-afff-12f87c2e1eea"
      },
      "execution_count": null,
      "outputs": [
        {
          "output_type": "execute_result",
          "data": {
            "text/plain": [
              "7.523621210671238"
            ]
          },
          "metadata": {},
          "execution_count": 47
        }
      ]
    },
    {
      "cell_type": "markdown",
      "source": [
        "**Erro médio quadrático**"
      ],
      "metadata": {
        "id": "O7IABt-o6JVI"
      }
    },
    {
      "cell_type": "code",
      "source": [
        "mean_squared_error(y_test, ypred)"
      ],
      "metadata": {
        "colab": {
          "base_uri": "https://localhost:8080/"
        },
        "id": "mPWZr7pv5uYL",
        "outputId": "49602259-26f9-4b38-f22b-d975a9be5b38"
      },
      "execution_count": null,
      "outputs": [
        {
          "output_type": "execute_result",
          "data": {
            "text/plain": [
              "95.52084839491845"
            ]
          },
          "metadata": {},
          "execution_count": 49
        }
      ]
    },
    {
      "cell_type": "markdown",
      "source": [
        "**Raiz do erro médio quadrático**"
      ],
      "metadata": {
        "id": "Ub4uZGhF6Yne"
      }
    },
    {
      "cell_type": "code",
      "source": [
        "RMSErn = np.sqrt(mean_squared_error(y_test, ypred))\n",
        "print('O valor do erro RMSE é: ', round(RMSErn,3))"
      ],
      "metadata": {
        "colab": {
          "base_uri": "https://localhost:8080/"
        },
        "id": "dGEe0gZd5z8v",
        "outputId": "d2f950ad-8708-410f-b807-607a48e1e179"
      },
      "execution_count": null,
      "outputs": [
        {
          "output_type": "stream",
          "name": "stdout",
          "text": [
            "O valor do erro RMSE é:  9.773\n"
          ]
        }
      ]
    },
    {
      "cell_type": "markdown",
      "source": [
        "**Aplicação do XGBRegressor**"
      ],
      "metadata": {
        "id": "cbmXGMy-EzG9"
      }
    },
    {
      "cell_type": "code",
      "source": [
        "from xgboost import XGBRegressor\n",
        "from sklearn.model_selection import cross_val_score\n",
        "from sklearn.model_selection import RepeatedKFold"
      ],
      "metadata": {
        "id": "6tHgFUAnc5C9"
      },
      "execution_count": null,
      "outputs": []
    },
    {
      "cell_type": "code",
      "source": [
        "modelxgb = XGBRegressor(objective='reg:squarederror')"
      ],
      "metadata": {
        "id": "ndUThGVndDw4"
      },
      "execution_count": null,
      "outputs": []
    },
    {
      "cell_type": "code",
      "source": [
        "cv = RepeatedKFold(n_splits=10, n_repeats=1, random_state=0)\n",
        "n_scores = cross_val_score(modelxgb, X_train, y_train, scoring='neg_mean_absolute_error', cv=cv, n_jobs=-1)"
      ],
      "metadata": {
        "id": "NgZDq2BldHAo"
      },
      "execution_count": null,
      "outputs": []
    },
    {
      "cell_type": "code",
      "source": [
        "modelxgb = XGBRegressor(objective='reg:squarederror')\n",
        "modelxgb.fit(X_train, y_train)"
      ],
      "metadata": {
        "colab": {
          "base_uri": "https://localhost:8080/"
        },
        "id": "ruZg-h31dRw4",
        "outputId": "717c1896-cd4b-447e-e0d4-6ae84db832ae"
      },
      "execution_count": null,
      "outputs": [
        {
          "output_type": "execute_result",
          "data": {
            "text/plain": [
              "XGBRegressor(objective='reg:squarederror')"
            ]
          },
          "metadata": {},
          "execution_count": 54
        }
      ]
    },
    {
      "cell_type": "code",
      "source": [
        "print('MAE: %.3f (%.3f)' % (mean(n_scores), std(n_scores)))"
      ],
      "metadata": {
        "colab": {
          "base_uri": "https://localhost:8080/"
        },
        "id": "BN3Dg4MMdXdg",
        "outputId": "39428bd4-173e-4062-a0dd-405a083b0600"
      },
      "execution_count": null,
      "outputs": [
        {
          "output_type": "stream",
          "name": "stdout",
          "text": [
            "MAE: -7.648 (0.191)\n"
          ]
        }
      ]
    },
    {
      "cell_type": "code",
      "source": [
        "yt = modelxgb.predict(X_test)\n",
        "print('Prediction: %.3f' % yt[0])"
      ],
      "metadata": {
        "colab": {
          "base_uri": "https://localhost:8080/"
        },
        "id": "vIguWEmCddYq",
        "outputId": "63c0eb95-18bf-4582-e85b-b737ffbadab5"
      },
      "execution_count": null,
      "outputs": [
        {
          "output_type": "stream",
          "name": "stdout",
          "text": [
            "Prediction: 202.387\n"
          ]
        }
      ]
    },
    {
      "cell_type": "code",
      "source": [
        "r2_score(y_test, yt)"
      ],
      "metadata": {
        "colab": {
          "base_uri": "https://localhost:8080/"
        },
        "id": "BFSAJOupdkm0",
        "outputId": "769249f6-6f3e-42cb-e0f5-6b64e7f65423"
      },
      "execution_count": null,
      "outputs": [
        {
          "output_type": "execute_result",
          "data": {
            "text/plain": [
              "0.8085814662121074"
            ]
          },
          "metadata": {},
          "execution_count": 57
        }
      ]
    },
    {
      "cell_type": "code",
      "source": [
        "yhat = modelxgb.predict(X_train)\n",
        "print('Prediction: %.3f' % yhat[0])"
      ],
      "metadata": {
        "colab": {
          "base_uri": "https://localhost:8080/"
        },
        "id": "VdW_bip3dsI-",
        "outputId": "d3b93025-0ff4-499d-b2d9-c9255121c206"
      },
      "execution_count": null,
      "outputs": [
        {
          "output_type": "stream",
          "name": "stdout",
          "text": [
            "Prediction: 243.479\n"
          ]
        }
      ]
    },
    {
      "cell_type": "code",
      "source": [
        "r2_score(y_train, yhat)"
      ],
      "metadata": {
        "colab": {
          "base_uri": "https://localhost:8080/"
        },
        "id": "juEcbYAYdtGQ",
        "outputId": "6495d2de-246f-4930-c020-92b26f1a9485"
      },
      "execution_count": null,
      "outputs": [
        {
          "output_type": "execute_result",
          "data": {
            "text/plain": [
              "0.8300468537822201"
            ]
          },
          "metadata": {},
          "execution_count": 59
        }
      ]
    },
    {
      "cell_type": "code",
      "source": [
        "from sklearn.model_selection import cross_val_predict"
      ],
      "metadata": {
        "id": "bB6jnNO0d38r"
      },
      "execution_count": null,
      "outputs": []
    },
    {
      "cell_type": "code",
      "source": [
        "y_pred = cross_val_predict(modelxgb, X_test, y_test, cv=cv)"
      ],
      "metadata": {
        "id": "buoL43Vwd6iY"
      },
      "execution_count": null,
      "outputs": []
    },
    {
      "cell_type": "code",
      "source": [
        "r2_score(y_test, y_pred)"
      ],
      "metadata": {
        "colab": {
          "base_uri": "https://localhost:8080/"
        },
        "id": "N_H02UH8d-Y6",
        "outputId": "87c17216-f795-4e66-f9ca-2f46f457a9fc"
      },
      "execution_count": null,
      "outputs": [
        {
          "output_type": "execute_result",
          "data": {
            "text/plain": [
              "0.8044619701376954"
            ]
          },
          "metadata": {},
          "execution_count": 62
        }
      ]
    },
    {
      "cell_type": "markdown",
      "source": [
        "**Erro médio absoluto**"
      ],
      "metadata": {
        "id": "eYOdDoQR7ckV"
      }
    },
    {
      "cell_type": "code",
      "source": [
        "mean_absolute_error(y_test, yt)"
      ],
      "metadata": {
        "colab": {
          "base_uri": "https://localhost:8080/"
        },
        "id": "pom5K-IY694Q",
        "outputId": "01df8aaa-d32b-445e-9b18-9a2fcf154576"
      },
      "execution_count": null,
      "outputs": [
        {
          "output_type": "execute_result",
          "data": {
            "text/plain": [
              "7.516981103948349"
            ]
          },
          "metadata": {},
          "execution_count": 63
        }
      ]
    },
    {
      "cell_type": "markdown",
      "source": [
        "**Erro médio quadrático**"
      ],
      "metadata": {
        "id": "FD8K4px67h_9"
      }
    },
    {
      "cell_type": "code",
      "source": [
        "mean_squared_error(y_test, yt)"
      ],
      "metadata": {
        "colab": {
          "base_uri": "https://localhost:8080/"
        },
        "id": "lhCvB6Pm7Joq",
        "outputId": "bbfe2b57-ef24-43dd-adaf-6268cdb8cf83"
      },
      "execution_count": null,
      "outputs": [
        {
          "output_type": "execute_result",
          "data": {
            "text/plain": [
              "95.45749452130083"
            ]
          },
          "metadata": {},
          "execution_count": 64
        }
      ]
    },
    {
      "cell_type": "markdown",
      "source": [
        "**Raiz do erro médio quadrático**"
      ],
      "metadata": {
        "id": "DJyeiFCk7m59"
      }
    },
    {
      "cell_type": "code",
      "source": [
        "RMSExgb = np.sqrt(mean_squared_error(y_test, yt))\n",
        "print('O valor do erro RMSE é: ', round(RMSExgb,3))"
      ],
      "metadata": {
        "colab": {
          "base_uri": "https://localhost:8080/"
        },
        "id": "CiDUUMiB7Pgz",
        "outputId": "4a7e0eb1-6a86-4a6a-8bc5-2dc47b5217d7"
      },
      "execution_count": null,
      "outputs": [
        {
          "output_type": "stream",
          "name": "stdout",
          "text": [
            "O valor do erro RMSE é:  9.77\n"
          ]
        }
      ]
    },
    {
      "cell_type": "markdown",
      "source": [
        "**Aplicação do modelo lightgbm**"
      ],
      "metadata": {
        "id": "MSQmPns6E8IE"
      }
    },
    {
      "cell_type": "code",
      "source": [
        "!pip install lightgbm"
      ],
      "metadata": {
        "id": "wcDjayjheBnV"
      },
      "execution_count": null,
      "outputs": []
    },
    {
      "cell_type": "code",
      "source": [
        "import lightgbm as lgb"
      ],
      "metadata": {
        "id": "zVTJaOjMeMf6"
      },
      "execution_count": null,
      "outputs": []
    },
    {
      "cell_type": "code",
      "source": [
        "modellgb = lgb.LGBMRegressor()\n",
        "modellgb.fit(X_train, y_train)"
      ],
      "metadata": {
        "colab": {
          "base_uri": "https://localhost:8080/"
        },
        "id": "WXq5a70pePqY",
        "outputId": "5212d978-d366-47b0-ab3c-36c4a4de583a"
      },
      "execution_count": null,
      "outputs": [
        {
          "output_type": "execute_result",
          "data": {
            "text/plain": [
              "LGBMRegressor()"
            ]
          },
          "metadata": {},
          "execution_count": 68
        }
      ]
    },
    {
      "cell_type": "code",
      "source": [
        "predicttreino = modellgb.predict(X_train)"
      ],
      "metadata": {
        "id": "MECuMeameUyT"
      },
      "execution_count": null,
      "outputs": []
    },
    {
      "cell_type": "code",
      "source": [
        "predict = modellgb.predict(X_test)"
      ],
      "metadata": {
        "id": "f6E8_5PPeXXE"
      },
      "execution_count": null,
      "outputs": []
    },
    {
      "cell_type": "code",
      "source": [
        "modellgb.score(X_train, y_train)"
      ],
      "metadata": {
        "colab": {
          "base_uri": "https://localhost:8080/"
        },
        "id": "q_xoZHMgeavZ",
        "outputId": "cd0b9eb6-b279-4166-9b25-3179a0537ee7"
      },
      "execution_count": null,
      "outputs": [
        {
          "output_type": "execute_result",
          "data": {
            "text/plain": [
              "0.8757524944004134"
            ]
          },
          "metadata": {},
          "execution_count": 71
        }
      ]
    },
    {
      "cell_type": "code",
      "source": [
        "modellgb.score(X_test, y_test)"
      ],
      "metadata": {
        "colab": {
          "base_uri": "https://localhost:8080/"
        },
        "id": "bsdxlPWwed-F",
        "outputId": "0b1f2572-7d63-46f7-cab2-5011f65941ec"
      },
      "execution_count": null,
      "outputs": [
        {
          "output_type": "execute_result",
          "data": {
            "text/plain": [
              "0.8008429977490075"
            ]
          },
          "metadata": {},
          "execution_count": 72
        }
      ]
    },
    {
      "cell_type": "code",
      "source": [
        "plt.figure(figsize=(10,10))\n",
        "sns.regplot(y_test, predict, fit_reg=True, scatter_kws={\"s\": 100})"
      ],
      "metadata": {
        "colab": {
          "base_uri": "https://localhost:8080/",
          "height": 678
        },
        "id": "bf02-1Y0ej3m",
        "outputId": "367afeb5-4cfa-431d-9a95-ff29a475817f"
      },
      "execution_count": null,
      "outputs": [
        {
          "output_type": "stream",
          "name": "stderr",
          "text": [
            "/usr/local/lib/python3.7/dist-packages/seaborn/_decorators.py:43: FutureWarning: Pass the following variables as keyword args: x, y. From version 0.12, the only valid positional argument will be `data`, and passing other arguments without an explicit keyword will result in an error or misinterpretation.\n",
            "  FutureWarning\n"
          ]
        },
        {
          "output_type": "execute_result",
          "data": {
            "text/plain": [
              "<matplotlib.axes._subplots.AxesSubplot at 0x7f116ac0c490>"
            ]
          },
          "metadata": {},
          "execution_count": 73
        },
        {
          "output_type": "display_data",
          "data": {
            "text/plain": [
              "<Figure size 720x720 with 1 Axes>"
            ],
            "image/png": "[encoded data removed]"
          },
          "metadata": {
            "needs_background": "light"
          }
        }
      ]
    },
    {
      "cell_type": "markdown",
      "source": [
        "**Aplicação do modelo SVM -> SVR**"
      ],
      "metadata": {
        "id": "2tBiTKT_FFUf"
      }
    },
    {
      "cell_type": "code",
      "source": [
        "# Kernel rbf\n",
        "from sklearn.svm import SVR\n",
        "regressor_svr = SVR(kernel = 'rbf', C=10.0, cache_size=200, coef0=0.0, degree=3, epsilon=0.07, gamma='scale')\n",
        "regressor_svr.fit(X_train, y_train)"
      ],
      "metadata": {
        "colab": {
          "base_uri": "https://localhost:8080/"
        },
        "id": "ko86SRCUemcd",
        "outputId": "20b4e514-1cc0-4381-a623-3de96b328373"
      },
      "execution_count": null,
      "outputs": [
        {
          "output_type": "execute_result",
          "data": {
            "text/plain": [
              "SVR(C=10.0, epsilon=0.07)"
            ]
          },
          "metadata": {},
          "execution_count": 122
        }
      ]
    },
    {
      "cell_type": "code",
      "source": [
        "regressor_svr.predict(X_test)"
      ],
      "metadata": {
        "colab": {
          "base_uri": "https://localhost:8080/"
        },
        "id": "4S6l4NSUeuc7",
        "outputId": "6e82d020-1f78-44cc-e950-00cf6b29a29b"
      },
      "execution_count": null,
      "outputs": [
        {
          "output_type": "execute_result",
          "data": {
            "text/plain": [
              "array([0.43108009, 0.72768544, 0.43545388, ..., 0.4712678 , 0.30748192,\n",
              "       0.48805648])"
            ]
          },
          "metadata": {},
          "execution_count": 123
        }
      ]
    },
    {
      "cell_type": "code",
      "source": [
        "regressor_svr.score(X_train, y_train)"
      ],
      "metadata": {
        "colab": {
          "base_uri": "https://localhost:8080/"
        },
        "id": "vsrNyhR2eyUm",
        "outputId": "194f6b03-a149-4664-d049-8cfb28debfcf"
      },
      "execution_count": null,
      "outputs": [
        {
          "output_type": "execute_result",
          "data": {
            "text/plain": [
              "0.8231330482904731"
            ]
          },
          "metadata": {},
          "execution_count": 124
        }
      ]
    },
    {
      "cell_type": "code",
      "source": [
        "regressor_svr.score(X_test, y_test)"
      ],
      "metadata": {
        "colab": {
          "base_uri": "https://localhost:8080/"
        },
        "id": "J-nT2U3pe2FZ",
        "outputId": "ae465774-f693-4b91-f693-58efab17ef52"
      },
      "execution_count": null,
      "outputs": [
        {
          "output_type": "execute_result",
          "data": {
            "text/plain": [
              "0.8038372563705525"
            ]
          },
          "metadata": {},
          "execution_count": 125
        }
      ]
    },
    {
      "cell_type": "markdown",
      "source": [
        "**Aplicação do modelo enable_hist_gradient_boosting**"
      ],
      "metadata": {
        "id": "zhnfHES7FOU7"
      }
    },
    {
      "cell_type": "code",
      "source": [
        "from sklearn.experimental import enable_hist_gradient_boosting\n",
        "from sklearn.ensemble import HistGradientBoostingRegressor\n",
        "from sklearn.model_selection import cross_val_score\n",
        "from sklearn.model_selection import RepeatedKFold\n",
        "modelhgb = HistGradientBoostingRegressor()\n",
        "cvhgb = RepeatedKFold(n_splits=10, n_repeats=4, random_state=0)\n",
        "n_scoreshgb = cross_val_score(modelhgb, X_train, y_train, scoring='neg_mean_absolute_error', cv=cvhgb, n_jobs=-1, error_score='raise')\n",
        "print('MAE: %.3f (%.3f)' % (mean(n_scoreshgb), std(n_scoreshgb)))\n",
        "# fit the model on the whole dataset\n",
        "modelhgb = HistGradientBoostingRegressor()\n",
        "modelhgb.fit(X_train, y_train)\n",
        "yhathgb = modelhgb.predict(X_train)\n",
        "print('Prediction: %.3f' % yhathgb[0])"
      ],
      "metadata": {
        "colab": {
          "base_uri": "https://localhost:8080/"
        },
        "id": "F_4cDNy4e4WX",
        "outputId": "bf18d7a7-dc60-49a5-ef74-00a5f78407bc"
      },
      "execution_count": null,
      "outputs": [
        {
          "output_type": "stream",
          "name": "stderr",
          "text": [
            "Since version 1.0, it is not needed to import enable_hist_gradient_boosting anymore. HistGradientBoostingClassifier and HistGradientBoostingRegressor are now stable and can be normally imported from sklearn.ensemble.\n"
          ]
        },
        {
          "output_type": "stream",
          "name": "stdout",
          "text": [
            "MAE: -7.666 (0.208)\n",
            "Prediction: 229.139\n"
          ]
        }
      ]
    },
    {
      "cell_type": "code",
      "source": [
        "r2_score(y_train, yhathgb)"
      ],
      "metadata": {
        "colab": {
          "base_uri": "https://localhost:8080/"
        },
        "id": "-zJPYo3gfCdo",
        "outputId": "d6f0c957-d472-4087-dfef-5fd249bed868"
      },
      "execution_count": null,
      "outputs": [
        {
          "output_type": "execute_result",
          "data": {
            "text/plain": [
              "0.875897612441798"
            ]
          },
          "metadata": {},
          "execution_count": 64
        }
      ]
    },
    {
      "cell_type": "code",
      "source": [
        "yhgb = modelhgb.predict(X_test)\n",
        "print('Prediction: %.3f' % yhgb[0])"
      ],
      "metadata": {
        "colab": {
          "base_uri": "https://localhost:8080/"
        },
        "id": "GHvi9aSVfE3m",
        "outputId": "a1ab9f23-a956-458c-bb7b-88fe666b098f"
      },
      "execution_count": null,
      "outputs": [
        {
          "output_type": "stream",
          "name": "stdout",
          "text": [
            "Prediction: 250.530\n"
          ]
        }
      ]
    },
    {
      "cell_type": "code",
      "source": [
        "r2_score(y_test, yhgb)"
      ],
      "metadata": {
        "colab": {
          "base_uri": "https://localhost:8080/"
        },
        "id": "UBUkhozXfHuX",
        "outputId": "a5deb5fe-0474-4116-e467-0dc7105203cd"
      },
      "execution_count": null,
      "outputs": [
        {
          "output_type": "execute_result",
          "data": {
            "text/plain": [
              "0.801724484772762"
            ]
          },
          "metadata": {},
          "execution_count": 66
        }
      ]
    },
    {
      "cell_type": "markdown",
      "source": [
        "**Modelos ensemble (em conjunto) para votação de regressores**"
      ],
      "metadata": {
        "id": "esG_Y-__FfPW"
      }
    },
    {
      "cell_type": "code",
      "source": [
        "from sklearn.ensemble import HistGradientBoostingRegressor\n",
        "from sklearn.ensemble import GradientBoostingRegressor\n",
        "from sklearn.ensemble import RandomForestRegressor\n",
        "from sklearn.linear_model import LinearRegression\n",
        "from sklearn.ensemble import VotingRegressor\n",
        "#, ('lr', reg3)\n",
        "#('rf', reg2)\n",
        "#('gb', reg1)\n",
        "# Training classifiers\n",
        "rh = HistGradientBoostingRegressor(random_state=0)\n",
        "reg1 = GradientBoostingRegressor(random_state=0)\n",
        "reg2 = RandomForestRegressor(random_state=0)\n",
        "reg3 = LinearRegression()\n",
        "ereg = VotingRegressor(estimators=[('gb', reg1), ('hgb', rh), ('lr', reg3)])\n",
        "ereg = ereg.fit(X_train, y_train)"
      ],
      "metadata": {
        "id": "E1w7IuOqfWdP"
      },
      "execution_count": null,
      "outputs": []
    },
    {
      "cell_type": "code",
      "source": [
        "ytrainereg = ereg.predict(X_train)"
      ],
      "metadata": {
        "id": "w7kvf4LPfk64"
      },
      "execution_count": null,
      "outputs": []
    },
    {
      "cell_type": "code",
      "source": [
        "from sklearn.metrics import r2_score\n",
        "r2_score(y_train, ytrainereg)"
      ],
      "metadata": {
        "colab": {
          "base_uri": "https://localhost:8080/"
        },
        "id": "RjgrGxYtfojZ",
        "outputId": "317ce73d-1c98-410d-fa30-d630486190ec"
      },
      "execution_count": null,
      "outputs": [
        {
          "output_type": "execute_result",
          "data": {
            "text/plain": [
              "0.8431985234600539"
            ]
          },
          "metadata": {},
          "execution_count": 78
        }
      ]
    },
    {
      "cell_type": "code",
      "source": [
        "ytestereg = ereg.predict(X_test)"
      ],
      "metadata": {
        "id": "RWJ3kwJgftej"
      },
      "execution_count": null,
      "outputs": []
    },
    {
      "cell_type": "markdown",
      "source": [
        "**Coeficiente de determinação R²**"
      ],
      "metadata": {
        "id": "uB5N24BL_bl8"
      }
    },
    {
      "cell_type": "code",
      "source": [
        "r2_score(y_test, ytestereg)"
      ],
      "metadata": {
        "colab": {
          "base_uri": "https://localhost:8080/"
        },
        "id": "vuoNiFCCfxL2",
        "outputId": "c838fdb6-b8b0-48a6-94ba-3a0aac23c8f5"
      },
      "execution_count": null,
      "outputs": [
        {
          "output_type": "execute_result",
          "data": {
            "text/plain": [
              "0.8111850706800421"
            ]
          },
          "metadata": {},
          "execution_count": 80
        }
      ]
    },
    {
      "cell_type": "markdown",
      "source": [
        "**Erro médio absoluto**"
      ],
      "metadata": {
        "id": "R8tukzIH-9ys"
      }
    },
    {
      "cell_type": "code",
      "source": [
        "mean_absolute_error(y_test, ytestereg)"
      ],
      "metadata": {
        "colab": {
          "base_uri": "https://localhost:8080/"
        },
        "id": "8ZyUeXH6-BrF",
        "outputId": "0b2c7a70-46a2-4baf-c5df-18a4e6aa2bff"
      },
      "execution_count": null,
      "outputs": [
        {
          "output_type": "execute_result",
          "data": {
            "text/plain": [
              "7.46805195900783"
            ]
          },
          "metadata": {},
          "execution_count": 81
        }
      ]
    },
    {
      "cell_type": "markdown",
      "source": [
        "**Erro médio quadrático**"
      ],
      "metadata": {
        "id": "zRDMlA5E_D5x"
      }
    },
    {
      "cell_type": "code",
      "source": [
        "mean_squared_error(y_test, ytestereg)"
      ],
      "metadata": {
        "colab": {
          "base_uri": "https://localhost:8080/"
        },
        "id": "RO6Nfv7s-h_M",
        "outputId": "ca4b1385-cac6-4f11-ae6f-5bec9227f0bc"
      },
      "execution_count": null,
      "outputs": [
        {
          "output_type": "execute_result",
          "data": {
            "text/plain": [
              "94.15911680251155"
            ]
          },
          "metadata": {},
          "execution_count": 82
        }
      ]
    },
    {
      "cell_type": "markdown",
      "source": [
        "**Raiz do erro médio quadrático**"
      ],
      "metadata": {
        "id": "DXOtBa_R_ML_"
      }
    },
    {
      "cell_type": "code",
      "source": [
        "RMSEes = np.sqrt(mean_squared_error(y_test, ytestereg))\n",
        "print('O valor do erro RMSE é: ', round(RMSEes,3))"
      ],
      "metadata": {
        "colab": {
          "base_uri": "https://localhost:8080/"
        },
        "id": "1LfWYPPa-ru-",
        "outputId": "a0bf7cd5-83e0-4551-da88-bf7a02cd5adf"
      },
      "execution_count": null,
      "outputs": [
        {
          "output_type": "stream",
          "name": "stdout",
          "text": [
            "O valor do erro RMSE é:  9.704\n"
          ]
        }
      ]
    },
    {
      "cell_type": "markdown",
      "source": [
        "**Função para aplicações de modelos lineares**"
      ],
      "metadata": {
        "id": "6FBJBD32FqDa"
      }
    },
    {
      "cell_type": "code",
      "source": [
        "def ApplyesKFold(x_axis, y_axis):\n",
        "  # Linear Models.\n",
        "  from sklearn.linear_model import LinearRegression\n",
        "  from sklearn.linear_model import ElasticNet\n",
        "  from sklearn.linear_model import Ridge\n",
        "  from sklearn.linear_model import Lasso\n",
        "\n",
        "  # Cross-Validation models.\n",
        "  from sklearn.model_selection import cross_val_score\n",
        "  from sklearn.model_selection import KFold\n",
        "\n",
        "  # KFold settings.\n",
        "  kfold  = KFold(n_splits=10, shuffle=False) # shuffle=True, Shuffle (embaralhar) the data.\n",
        "\n",
        "  # Axis\n",
        "  x = x_axis\n",
        "  y = y_axis\n",
        "\n",
        "  # Models instances.\n",
        "  linearRegression = LinearRegression()\n",
        "  elasticNet       = ElasticNet()\n",
        "  ridge            = Ridge()\n",
        "  lasso            = Lasso()\n",
        "\n",
        "  # Applyes KFold to models.\n",
        "  linearRegression_result = cross_val_score(linearRegression, x, y, cv = kfold)\n",
        "  elasticNet_result       = cross_val_score(elasticNet, x, y, cv = kfold)\n",
        "  ridge_result            = cross_val_score(ridge, x, y, cv = kfold)\n",
        "  lasso_result            = cross_val_score(lasso, x, y, cv = kfold)\n",
        "\n",
        "  # Creates a dictionary to store Linear Models.\n",
        "  dic_models = {\n",
        "    \"LinearRegression\": linearRegression_result.mean(),\n",
        "    \"ElasticNet\": elasticNet_result.mean(),\n",
        "    \"Ridge\": ridge_result.mean(),\n",
        "    \"Lasso\": lasso_result.mean()\n",
        "  }\n",
        "  # Select the best model.\n",
        "  bestModel = max(dic_models, key=dic_models.get)\n",
        "\n",
        "  print(\"Linear Regression Mean (R^2): {0}\\nElastic Net Mean (R^2): {1}\\nRidge Mean (R^2): {2}\\nLasso Mean (R^2): {3}\".format(linearRegression_result.mean(), elasticNet_result.mean(), ridge_result.mean(), lasso_result.mean()))\n",
        "  print(\"The best model is: {0} with value: {1}\".format(bestModel, dic_models[bestModel]))\n",
        "\n",
        "\n",
        "\n",
        "ApplyesKFold(X_train, y_train)"
      ],
      "metadata": {
        "colab": {
          "base_uri": "https://localhost:8080/"
        },
        "id": "u4gNsw0NJ83D",
        "outputId": "ea34167b-428f-49f6-c26e-3329c427dfcb"
      },
      "execution_count": null,
      "outputs": [
        {
          "output_type": "stream",
          "name": "stdout",
          "text": [
            "Linear Regression Mean (R^2): 0.8024756860091392\n",
            "Elastic Net Mean (R^2): 0.1850299176614862\n",
            "Ridge Mean (R^2): 0.8024071390837448\n",
            "Lasso Mean (R^2): 0.6411549438166544\n",
            "The best model is: LinearRegression with value: 0.8024756860091392\n"
          ]
        }
      ]
    },
    {
      "cell_type": "markdown",
      "source": [
        "**Também foram aplicados modelos de auto ml a titulo de comparação**"
      ],
      "metadata": {
        "id": "jSXiAUixIMZw"
      }
    },
    {
      "cell_type": "code",
      "source": [
        "data = df[['ideb_2015_ideb', 'ideb_2017_ideb', 'ideb_2019_indicador_rendimento', 'ideb_2017_nota_saeb_media_padronizada', 'ideb_2015_nota_saeb_media_padronizada',\n",
        "'ideb_2017_indicador_rendimento', 'tempo_lazer_2019', 'inep_2019_tdi_ef_5_ano', 'engajamento_responsaveis_2019', 'idade_entrada_escola_2019', 'desempenho_MT_5ano_2019']]"
      ],
      "metadata": {
        "id": "OCsjLr3KF4MN"
      },
      "execution_count": null,
      "outputs": []
    },
    {
      "cell_type": "code",
      "source": [
        "data_train = data.sample(frac = .7, random_state =0)"
      ],
      "metadata": {
        "id": "qhacplHEGJVj"
      },
      "execution_count": null,
      "outputs": []
    },
    {
      "cell_type": "code",
      "source": [
        "data_test = data.drop(data_train.index)"
      ],
      "metadata": {
        "id": "NPJ7bDejGVSH"
      },
      "execution_count": null,
      "outputs": []
    },
    {
      "cell_type": "code",
      "source": [
        "data_train.reset_index(drop=True, inplace=True)"
      ],
      "metadata": {
        "id": "15KG24KLGbZI"
      },
      "execution_count": null,
      "outputs": []
    },
    {
      "cell_type": "code",
      "source": [
        "data_test.reset_index(drop=True, inplace=True)"
      ],
      "metadata": {
        "id": "pzx7wBq8Gd_Z"
      },
      "execution_count": null,
      "outputs": []
    },
    {
      "cell_type": "code",
      "source": [
        "pip install pycaret --user"
      ],
      "metadata": {
        "id": "reVSkhqPGs9W"
      },
      "execution_count": null,
      "outputs": []
    },
    {
      "cell_type": "code",
      "source": [
        "pip install markupsafe==2.0.1"
      ],
      "metadata": {
        "id": "pys5so_pHJs8"
      },
      "execution_count": null,
      "outputs": []
    },
    {
      "cell_type": "code",
      "source": [
        "import jinja2"
      ],
      "metadata": {
        "id": "F0BYI74GHNBp"
      },
      "execution_count": null,
      "outputs": []
    },
    {
      "cell_type": "code",
      "source": [
        "from pycaret.regression import *"
      ],
      "metadata": {
        "colab": {
          "base_uri": "https://localhost:8080/"
        },
        "id": "0Ve4adJcHVUB",
        "outputId": "513a5116-f473-4154-bdbc-bb011f8bfc52"
      },
      "execution_count": null,
      "outputs": [
        {
          "output_type": "stream",
          "name": "stderr",
          "text": [
            "/usr/local/lib/python3.7/dist-packages/distributed/config.py:20: YAMLLoadWarning: calling yaml.load() without Loader=... is deprecated, as the default Loader is unsafe. Please read https://msg.pyyaml.org/load for full details.\n",
            "  defaults = yaml.load(f)\n"
          ]
        }
      ]
    },
    {
      "cell_type": "code",
      "source": [
        "data.head()"
      ],
      "metadata": {
        "colab": {
          "base_uri": "https://localhost:8080/",
          "height": 302
        },
        "id": "cEkkgxMFKuub",
        "outputId": "86a1a9e0-0db2-41bd-8a81-2d1e4052ec61"
      },
      "execution_count": null,
      "outputs": [
        {
          "output_type": "execute_result",
          "data": {
            "text/plain": [
              "           ideb_2015_ideb  ideb_2017_ideb  ideb_2019_indicador_rendimento  \\\n",
              "id_escola                                                                   \n",
              "12023531              4.2             5.3                        0.933664   \n",
              "12048224              5.7             5.5                        0.997373   \n",
              "12015873              5.7             5.8                        0.983606   \n",
              "12016438              7.6             7.9                        0.980807   \n",
              "12016535              5.7             6.7                        0.981414   \n",
              "\n",
              "           ideb_2017_nota_saeb_media_padronizada  \\\n",
              "id_escola                                          \n",
              "12023531                                5.976847   \n",
              "12048224                                5.817718   \n",
              "12015873                                6.037207   \n",
              "12016438                                8.289673   \n",
              "12016535                                6.828136   \n",
              "\n",
              "           ideb_2015_nota_saeb_media_padronizada  \\\n",
              "id_escola                                          \n",
              "12023531                                4.991741   \n",
              "12048224                                6.046465   \n",
              "12015873                                5.932558   \n",
              "12016438                                7.874890   \n",
              "12016535                                6.143776   \n",
              "\n",
              "           ideb_2017_indicador_rendimento  tempo_lazer_2019  \\\n",
              "id_escola                                                     \n",
              "12023531                         0.892854          1.098592   \n",
              "12048224                         0.944313          1.450549   \n",
              "12015873                         0.963198          1.576923   \n",
              "12016438                         0.958912          1.779070   \n",
              "12016535                         0.977446          1.471264   \n",
              "\n",
              "           inep_2019_tdi_ef_5_ano  engajamento_responsaveis_2019  \\\n",
              "id_escola                                                          \n",
              "12023531                     19.7                       2.404930   \n",
              "12048224                     16.0                       2.662088   \n",
              "12015873                      7.7                       2.725962   \n",
              "12016438                      5.5                       2.747093   \n",
              "12016535                      9.8                       2.617816   \n",
              "\n",
              "           idade_entrada_escola_2019  desempenho_MT_5ano_2019  \n",
              "id_escola                                                      \n",
              "12023531                    1.154930               206.353100  \n",
              "12048224                    1.010989               221.439707  \n",
              "12015873                    0.634615               226.573946  \n",
              "12016438                    0.860465               288.757271  \n",
              "12016535                    1.091954               243.453455  "
            ],
            "text/html": [
              "\n",
              "  <div id=\"df-c3ba343a-c5bb-4b4a-9bec-18f6fb92fc81\">\n",
              "    <div class=\"colab-df-container\">\n",
              "      <div>\n",
              "<style scoped>\n",
              "    .dataframe tbody tr th:only-of-type {\n",
              "        vertical-align: middle;\n",
              "    }\n",
              "\n",
              "    .dataframe tbody tr th {\n",
              "        vertical-align: top;\n",
              "    }\n",
              "\n",
              "    .dataframe thead th {\n",
              "        text-align: right;\n",
              "    }\n",
              "</style>\n",
              "<table border=\"1\" class=\"dataframe\">\n",
              "  <thead>\n",
              "    <tr style=\"text-align: right;\">\n",
              "      <th></th>\n",
              "      <th>ideb_2015_ideb</th>\n",
              "      <th>ideb_2017_ideb</th>\n",
              "      <th>ideb_2019_indicador_rendimento</th>\n",
              "      <th>ideb_2017_nota_saeb_media_padronizada</th>\n",
              "      <th>ideb_2015_nota_saeb_media_padronizada</th>\n",
              "      <th>ideb_2017_indicador_rendimento</th>\n",
              "      <th>tempo_lazer_2019</th>\n",
              "      <th>inep_2019_tdi_ef_5_ano</th>\n",
              "      <th>engajamento_responsaveis_2019</th>\n",
              "      <th>idade_entrada_escola_2019</th>\n",
              "      <th>desempenho_MT_5ano_2019</th>\n",
              "    </tr>\n",
              "    <tr>\n",
              "      <th>id_escola</th>\n",
              "      <th></th>\n",
              "      <th></th>\n",
              "      <th></th>\n",
              "      <th></th>\n",
              "      <th></th>\n",
              "      <th></th>\n",
              "      <th></th>\n",
              "      <th></th>\n",
              "      <th></th>\n",
              "      <th></th>\n",
              "      <th></th>\n",
              "    </tr>\n",
              "  </thead>\n",
              "  <tbody>\n",
              "    <tr>\n",
              "      <th>12023531</th>\n",
              "      <td>4.2</td>\n",
              "      <td>5.3</td>\n",
              "      <td>0.933664</td>\n",
              "      <td>5.976847</td>\n",
              "      <td>4.991741</td>\n",
              "      <td>0.892854</td>\n",
              "      <td>1.098592</td>\n",
              "      <td>19.7</td>\n",
              "      <td>2.404930</td>\n",
              "      <td>1.154930</td>\n",
              "      <td>206.353100</td>\n",
              "    </tr>\n",
              "    <tr>\n",
              "      <th>12048224</th>\n",
              "      <td>5.7</td>\n",
              "      <td>5.5</td>\n",
              "      <td>0.997373</td>\n",
              "      <td>5.817718</td>\n",
              "      <td>6.046465</td>\n",
              "      <td>0.944313</td>\n",
              "      <td>1.450549</td>\n",
              "      <td>16.0</td>\n",
              "      <td>2.662088</td>\n",
              "      <td>1.010989</td>\n",
              "      <td>221.439707</td>\n",
              "    </tr>\n",
              "    <tr>\n",
              "      <th>12015873</th>\n",
              "      <td>5.7</td>\n",
              "      <td>5.8</td>\n",
              "      <td>0.983606</td>\n",
              "      <td>6.037207</td>\n",
              "      <td>5.932558</td>\n",
              "      <td>0.963198</td>\n",
              "      <td>1.576923</td>\n",
              "      <td>7.7</td>\n",
              "      <td>2.725962</td>\n",
              "      <td>0.634615</td>\n",
              "      <td>226.573946</td>\n",
              "    </tr>\n",
              "    <tr>\n",
              "      <th>12016438</th>\n",
              "      <td>7.6</td>\n",
              "      <td>7.9</td>\n",
              "      <td>0.980807</td>\n",
              "      <td>8.289673</td>\n",
              "      <td>7.874890</td>\n",
              "      <td>0.958912</td>\n",
              "      <td>1.779070</td>\n",
              "      <td>5.5</td>\n",
              "      <td>2.747093</td>\n",
              "      <td>0.860465</td>\n",
              "      <td>288.757271</td>\n",
              "    </tr>\n",
              "    <tr>\n",
              "      <th>12016535</th>\n",
              "      <td>5.7</td>\n",
              "      <td>6.7</td>\n",
              "      <td>0.981414</td>\n",
              "      <td>6.828136</td>\n",
              "      <td>6.143776</td>\n",
              "      <td>0.977446</td>\n",
              "      <td>1.471264</td>\n",
              "      <td>9.8</td>\n",
              "      <td>2.617816</td>\n",
              "      <td>1.091954</td>\n",
              "      <td>243.453455</td>\n",
              "    </tr>\n",
              "  </tbody>\n",
              "</table>\n",
              "</div>\n",
              "      <button class=\"colab-df-convert\" onclick=\"convertToInteractive('df-c3ba343a-c5bb-4b4a-9bec-18f6fb92fc81')\"\n",
              "              title=\"Convert this dataframe to an interactive table.\"\n",
              "              style=\"display:none;\">\n",
              "        \n",
              "  <svg xmlns=\"http://www.w3.org/2000/svg\" height=\"24px\"viewBox=\"0 0 24 24\"\n",
              "       width=\"24px\">\n",
              "    <path d=\"M0 0h24v24H0V0z\" fill=\"none\"/>\n",
              "    <path d=\"M18.56 5.44l.94 2.06.94-2.06 2.06-.94-2.06-.94-.94-2.06-.94 2.06-2.06.94zm-11 1L8.5 8.5l.94-2.06 2.06-.94-2.06-.94L8.5 2.5l-.94 2.06-2.06.94zm10 10l.94 2.06.94-2.06 2.06-.94-2.06-.94-.94-2.06-.94 2.06-2.06.94z\"/><path d=\"M17.41 7.96l-1.37-1.37c-.4-.4-.92-.59-1.43-.59-.52 0-1.04.2-1.43.59L10.3 9.45l-7.72 7.72c-.78.78-.78 2.05 0 2.83L4 21.41c.39.39.9.59 1.41.59.51 0 1.02-.2 1.41-.59l7.78-7.78 2.81-2.81c.8-.78.8-2.07 0-2.86zM5.41 20L4 18.59l7.72-7.72 1.47 1.35L5.41 20z\"/>\n",
              "  </svg>\n",
              "      </button>\n",
              "      \n",
              "  <style>\n",
              "    .colab-df-container {\n",
              "      display:flex;\n",
              "      flex-wrap:wrap;\n",
              "      gap: 12px;\n",
              "    }\n",
              "\n",
              "    .colab-df-convert {\n",
              "      background-color: #E8F0FE;\n",
              "      border: none;\n",
              "      border-radius: 50%;\n",
              "      cursor: pointer;\n",
              "      display: none;\n",
              "      fill: #1967D2;\n",
              "      height: 32px;\n",
              "      padding: 0 0 0 0;\n",
              "      width: 32px;\n",
              "    }\n",
              "\n",
              "    .colab-df-convert:hover {\n",
              "      background-color: #E2EBFA;\n",
              "      box-shadow: 0px 1px 2px rgba(60, 64, 67, 0.3), 0px 1px 3px 1px rgba(60, 64, 67, 0.15);\n",
              "      fill: #174EA6;\n",
              "    }\n",
              "\n",
              "    [theme=dark] .colab-df-convert {\n",
              "      background-color: #3B4455;\n",
              "      fill: #D2E3FC;\n",
              "    }\n",
              "\n",
              "    [theme=dark] .colab-df-convert:hover {\n",
              "      background-color: #434B5C;\n",
              "      box-shadow: 0px 1px 3px 1px rgba(0, 0, 0, 0.15);\n",
              "      filter: drop-shadow(0px 1px 2px rgba(0, 0, 0, 0.3));\n",
              "      fill: #FFFFFF;\n",
              "    }\n",
              "  </style>\n",
              "\n",
              "      <script>\n",
              "        const buttonEl =\n",
              "          document.querySelector('#df-c3ba343a-c5bb-4b4a-9bec-18f6fb92fc81 button.colab-df-convert');\n",
              "        buttonEl.style.display =\n",
              "          google.colab.kernel.accessAllowed ? 'block' : 'none';\n",
              "\n",
              "        async function convertToInteractive(key) {\n",
              "          const element = document.querySelector('#df-c3ba343a-c5bb-4b4a-9bec-18f6fb92fc81');\n",
              "          const dataTable =\n",
              "            await google.colab.kernel.invokeFunction('convertToInteractive',\n",
              "                                                     [key], {});\n",
              "          if (!dataTable) return;\n",
              "\n",
              "          const docLinkHtml = 'Like what you see? Visit the ' +\n",
              "            '<a target=\"_blank\" href=https://colab.research.google.com/notebooks/data_table.ipynb>data table notebook</a>'\n",
              "            + ' to learn more about interactive tables.';\n",
              "          element.innerHTML = '';\n",
              "          dataTable['output_type'] = 'display_data';\n",
              "          await google.colab.output.renderOutput(dataTable, element);\n",
              "          const docLink = document.createElement('div');\n",
              "          docLink.innerHTML = docLinkHtml;\n",
              "          element.appendChild(docLink);\n",
              "        }\n",
              "      </script>\n",
              "    </div>\n",
              "  </div>\n",
              "  "
            ]
          },
          "metadata": {},
          "execution_count": 28
        }
      ]
    },
    {
      "cell_type": "code",
      "source": [
        "regscsc = setup(data = data, \n",
        "            target ='desempenho_MT_5ano_2019',\n",
        "            session_id = 0,\n",
        "            fold=10,\n",
        "            #remove_multicollinearity = True,\n",
        "            #multicollinearity_threshold = 0.1,\n",
        "            normalize = True,\n",
        "            normalize_method = 'minmax',\n",
        "            #feature_selection\t= True,\n",
        "            #feature_selection_threshold = 0.99\n",
        "\n",
        "            )"
      ],
      "metadata": {
        "colab": {
          "base_uri": "https://localhost:8080/",
          "height": 1000,
          "referenced_widgets": [
            "2ac5ae27659745d69418af99ffbf6689",
            "67dc6731b42b4361abde13a50081d0f4",
            "a65e43fae9184006a3513bd76088f928",
            "60c1f505a8b6493a8eb463328ac7e784",
            "dd59cf61d9cb40f19c1639c2f0519a28",
            "26ecb1db09004f69809cfd5bcd8f5f52"
          ]
        },
        "id": "NyDXLb2bGiGD",
        "outputId": "aa716e46-2a0e-4adf-a101-6e021e099b2a"
      },
      "execution_count": null,
      "outputs": [
        {
          "output_type": "display_data",
          "data": {
            "text/plain": [
              "                               Description                    Value\n",
              "0                               session_id                        0\n",
              "1                                   Target  desempenho_MT_5ano_2019\n",
              "2                            Original Data              (11166, 11)\n",
              "3                           Missing Values                    False\n",
              "4                         Numeric Features                       10\n",
              "5                     Categorical Features                        0\n",
              "6                         Ordinal Features                    False\n",
              "7                High Cardinality Features                    False\n",
              "8                  High Cardinality Method                     None\n",
              "9                    Transformed Train Set               (7816, 10)\n",
              "10                    Transformed Test Set               (3350, 10)\n",
              "11                      Shuffle Train-Test                     True\n",
              "12                     Stratify Train-Test                    False\n",
              "13                          Fold Generator                    KFold\n",
              "14                             Fold Number                       10\n",
              "15                                CPU Jobs                       -1\n",
              "16                                 Use GPU                    False\n",
              "17                          Log Experiment                    False\n",
              "18                         Experiment Name         reg-default-name\n",
              "19                                     USI                     3b6b\n",
              "20                         Imputation Type                   simple\n",
              "21          Iterative Imputation Iteration                     None\n",
              "22                         Numeric Imputer                     mean\n",
              "23      Iterative Imputation Numeric Model                     None\n",
              "24                     Categorical Imputer                 constant\n",
              "25  Iterative Imputation Categorical Model                     None\n",
              "26           Unknown Categoricals Handling           least_frequent\n",
              "27                               Normalize                     True\n",
              "28                        Normalize Method                   minmax\n",
              "29                          Transformation                    False\n",
              "30                   Transformation Method                     None\n",
              "31                                     PCA                    False\n",
              "32                              PCA Method                     None\n",
              "33                          PCA Components                     None\n",
              "34                     Ignore Low Variance                    False\n",
              "35                     Combine Rare Levels                    False\n",
              "36                    Rare Level Threshold                     None\n",
              "37                         Numeric Binning                    False\n",
              "38                         Remove Outliers                    False\n",
              "39                      Outliers Threshold                     None\n",
              "40                Remove Multicollinearity                    False\n",
              "41             Multicollinearity Threshold                     None\n",
              "42             Remove Perfect Collinearity                     True\n",
              "43                              Clustering                    False\n",
              "44                    Clustering Iteration                     None\n",
              "45                     Polynomial Features                    False\n",
              "46                       Polynomial Degree                     None\n",
              "47                    Trignometry Features                    False\n",
              "48                    Polynomial Threshold                     None\n",
              "49                          Group Features                    False\n",
              "50                       Feature Selection                    False\n",
              "51                Feature Selection Method                  classic\n",
              "52            Features Selection Threshold                     None\n",
              "53                     Feature Interaction                    False\n",
              "54                           Feature Ratio                    False\n",
              "55                   Interaction Threshold                     None\n",
              "56                        Transform Target                    False\n",
              "57                 Transform Target Method                  box-cox"
            ],
            "text/html": [
              "\n",
              "  <div id=\"df-cb6477ad-a0f5-4c06-b9f0-8dd36cc06825\">\n",
              "    <div class=\"colab-df-container\">\n",
              "      <div>\n",
              "<style scoped>\n",
              "    .dataframe tbody tr th:only-of-type {\n",
              "        vertical-align: middle;\n",
              "    }\n",
              "\n",
              "    .dataframe tbody tr th {\n",
              "        vertical-align: top;\n",
              "    }\n",
              "\n",
              "    .dataframe thead th {\n",
              "        text-align: right;\n",
              "    }\n",
              "</style>\n",
              "<table border=\"1\" class=\"dataframe\">\n",
              "  <thead>\n",
              "    <tr style=\"text-align: right;\">\n",
              "      <th></th>\n",
              "      <th>Description</th>\n",
              "      <th>Value</th>\n",
              "    </tr>\n",
              "  </thead>\n",
              "  <tbody>\n",
              "    <tr>\n",
              "      <th>0</th>\n",
              "      <td>session_id</td>\n",
              "      <td>0</td>\n",
              "    </tr>\n",
              "    <tr>\n",
              "      <th>1</th>\n",
              "      <td>Target</td>\n",
              "      <td>desempenho_MT_5ano_2019</td>\n",
              "    </tr>\n",
              "    <tr>\n",
              "      <th>2</th>\n",
              "      <td>Original Data</td>\n",
              "      <td>(11166, 11)</td>\n",
              "    </tr>\n",
              "    <tr>\n",
              "      <th>3</th>\n",
              "      <td>Missing Values</td>\n",
              "      <td>False</td>\n",
              "    </tr>\n",
              "    <tr>\n",
              "      <th>4</th>\n",
              "      <td>Numeric Features</td>\n",
              "      <td>10</td>\n",
              "    </tr>\n",
              "    <tr>\n",
              "      <th>5</th>\n",
              "      <td>Categorical Features</td>\n",
              "      <td>0</td>\n",
              "    </tr>\n",
              "    <tr>\n",
              "      <th>6</th>\n",
              "      <td>Ordinal Features</td>\n",
              "      <td>False</td>\n",
              "    </tr>\n",
              "    <tr>\n",
              "      <th>7</th>\n",
              "      <td>High Cardinality Features</td>\n",
              "      <td>False</td>\n",
              "    </tr>\n",
              "    <tr>\n",
              "      <th>8</th>\n",
              "      <td>High Cardinality Method</td>\n",
              "      <td>None</td>\n",
              "    </tr>\n",
              "    <tr>\n",
              "      <th>9</th>\n",
              "      <td>Transformed Train Set</td>\n",
              "      <td>(7816, 10)</td>\n",
              "    </tr>\n",
              "    <tr>\n",
              "      <th>10</th>\n",
              "      <td>Transformed Test Set</td>\n",
              "      <td>(3350, 10)</td>\n",
              "    </tr>\n",
              "    <tr>\n",
              "      <th>11</th>\n",
              "      <td>Shuffle Train-Test</td>\n",
              "      <td>True</td>\n",
              "    </tr>\n",
              "    <tr>\n",
              "      <th>12</th>\n",
              "      <td>Stratify Train-Test</td>\n",
              "      <td>False</td>\n",
              "    </tr>\n",
              "    <tr>\n",
              "      <th>13</th>\n",
              "      <td>Fold Generator</td>\n",
              "      <td>KFold</td>\n",
              "    </tr>\n",
              "    <tr>\n",
              "      <th>14</th>\n",
              "      <td>Fold Number</td>\n",
              "      <td>10</td>\n",
              "    </tr>\n",
              "    <tr>\n",
              "      <th>15</th>\n",
              "      <td>CPU Jobs</td>\n",
              "      <td>-1</td>\n",
              "    </tr>\n",
              "    <tr>\n",
              "      <th>16</th>\n",
              "      <td>Use GPU</td>\n",
              "      <td>False</td>\n",
              "    </tr>\n",
              "    <tr>\n",
              "      <th>17</th>\n",
              "      <td>Log Experiment</td>\n",
              "      <td>False</td>\n",
              "    </tr>\n",
              "    <tr>\n",
              "      <th>18</th>\n",
              "      <td>Experiment Name</td>\n",
              "      <td>reg-default-name</td>\n",
              "    </tr>\n",
              "    <tr>\n",
              "      <th>19</th>\n",
              "      <td>USI</td>\n",
              "      <td>3b6b</td>\n",
              "    </tr>\n",
              "    <tr>\n",
              "      <th>20</th>\n",
              "      <td>Imputation Type</td>\n",
              "      <td>simple</td>\n",
              "    </tr>\n",
              "    <tr>\n",
              "      <th>21</th>\n",
              "      <td>Iterative Imputation Iteration</td>\n",
              "      <td>None</td>\n",
              "    </tr>\n",
              "    <tr>\n",
              "      <th>22</th>\n",
              "      <td>Numeric Imputer</td>\n",
              "      <td>mean</td>\n",
              "    </tr>\n",
              "    <tr>\n",
              "      <th>23</th>\n",
              "      <td>Iterative Imputation Numeric Model</td>\n",
              "      <td>None</td>\n",
              "    </tr>\n",
              "    <tr>\n",
              "      <th>24</th>\n",
              "      <td>Categorical Imputer</td>\n",
              "      <td>constant</td>\n",
              "    </tr>\n",
              "    <tr>\n",
              "      <th>25</th>\n",
              "      <td>Iterative Imputation Categorical Model</td>\n",
              "      <td>None</td>\n",
              "    </tr>\n",
              "    <tr>\n",
              "      <th>26</th>\n",
              "      <td>Unknown Categoricals Handling</td>\n",
              "      <td>least_frequent</td>\n",
              "    </tr>\n",
              "    <tr>\n",
              "      <th>27</th>\n",
              "      <td>Normalize</td>\n",
              "      <td>True</td>\n",
              "    </tr>\n",
              "    <tr>\n",
              "      <th>28</th>\n",
              "      <td>Normalize Method</td>\n",
              "      <td>minmax</td>\n",
              "    </tr>\n",
              "    <tr>\n",
              "      <th>29</th>\n",
              "      <td>Transformation</td>\n",
              "      <td>False</td>\n",
              "    </tr>\n",
              "    <tr>\n",
              "      <th>30</th>\n",
              "      <td>Transformation Method</td>\n",
              "      <td>None</td>\n",
              "    </tr>\n",
              "    <tr>\n",
              "      <th>31</th>\n",
              "      <td>PCA</td>\n",
              "      <td>False</td>\n",
              "    </tr>\n",
              "    <tr>\n",
              "      <th>32</th>\n",
              "      <td>PCA Method</td>\n",
              "      <td>None</td>\n",
              "    </tr>\n",
              "    <tr>\n",
              "      <th>33</th>\n",
              "      <td>PCA Components</td>\n",
              "      <td>None</td>\n",
              "    </tr>\n",
              "    <tr>\n",
              "      <th>34</th>\n",
              "      <td>Ignore Low Variance</td>\n",
              "      <td>False</td>\n",
              "    </tr>\n",
              "    <tr>\n",
              "      <th>35</th>\n",
              "      <td>Combine Rare Levels</td>\n",
              "      <td>False</td>\n",
              "    </tr>\n",
              "    <tr>\n",
              "      <th>36</th>\n",
              "      <td>Rare Level Threshold</td>\n",
              "      <td>None</td>\n",
              "    </tr>\n",
              "    <tr>\n",
              "      <th>37</th>\n",
              "      <td>Numeric Binning</td>\n",
              "      <td>False</td>\n",
              "    </tr>\n",
              "    <tr>\n",
              "      <th>38</th>\n",
              "      <td>Remove Outliers</td>\n",
              "      <td>False</td>\n",
              "    </tr>\n",
              "    <tr>\n",
              "      <th>39</th>\n",
              "      <td>Outliers Threshold</td>\n",
              "      <td>None</td>\n",
              "    </tr>\n",
              "    <tr>\n",
              "      <th>40</th>\n",
              "      <td>Remove Multicollinearity</td>\n",
              "      <td>False</td>\n",
              "    </tr>\n",
              "    <tr>\n",
              "      <th>41</th>\n",
              "      <td>Multicollinearity Threshold</td>\n",
              "      <td>None</td>\n",
              "    </tr>\n",
              "    <tr>\n",
              "      <th>42</th>\n",
              "      <td>Remove Perfect Collinearity</td>\n",
              "      <td>True</td>\n",
              "    </tr>\n",
              "    <tr>\n",
              "      <th>43</th>\n",
              "      <td>Clustering</td>\n",
              "      <td>False</td>\n",
              "    </tr>\n",
              "    <tr>\n",
              "      <th>44</th>\n",
              "      <td>Clustering Iteration</td>\n",
              "      <td>None</td>\n",
              "    </tr>\n",
              "    <tr>\n",
              "      <th>45</th>\n",
              "      <td>Polynomial Features</td>\n",
              "      <td>False</td>\n",
              "    </tr>\n",
              "    <tr>\n",
              "      <th>46</th>\n",
              "      <td>Polynomial Degree</td>\n",
              "      <td>None</td>\n",
              "    </tr>\n",
              "    <tr>\n",
              "      <th>47</th>\n",
              "      <td>Trignometry Features</td>\n",
              "      <td>False</td>\n",
              "    </tr>\n",
              "    <tr>\n",
              "      <th>48</th>\n",
              "      <td>Polynomial Threshold</td>\n",
              "      <td>None</td>\n",
              "    </tr>\n",
              "    <tr>\n",
              "      <th>49</th>\n",
              "      <td>Group Features</td>\n",
              "      <td>False</td>\n",
              "    </tr>\n",
              "    <tr>\n",
              "      <th>50</th>\n",
              "      <td>Feature Selection</td>\n",
              "      <td>False</td>\n",
              "    </tr>\n",
              "    <tr>\n",
              "      <th>51</th>\n",
              "      <td>Feature Selection Method</td>\n",
              "      <td>classic</td>\n",
              "    </tr>\n",
              "    <tr>\n",
              "      <th>52</th>\n",
              "      <td>Features Selection Threshold</td>\n",
              "      <td>None</td>\n",
              "    </tr>\n",
              "    <tr>\n",
              "      <th>53</th>\n",
              "      <td>Feature Interaction</td>\n",
              "      <td>False</td>\n",
              "    </tr>\n",
              "    <tr>\n",
              "      <th>54</th>\n",
              "      <td>Feature Ratio</td>\n",
              "      <td>False</td>\n",
              "    </tr>\n",
              "    <tr>\n",
              "      <th>55</th>\n",
              "      <td>Interaction Threshold</td>\n",
              "      <td>None</td>\n",
              "    </tr>\n",
              "    <tr>\n",
              "      <th>56</th>\n",
              "      <td>Transform Target</td>\n",
              "      <td>False</td>\n",
              "    </tr>\n",
              "    <tr>\n",
              "      <th>57</th>\n",
              "      <td>Transform Target Method</td>\n",
              "      <td>box-cox</td>\n",
              "    </tr>\n",
              "  </tbody>\n",
              "</table>\n",
              "</div>\n",
              "      <button class=\"colab-df-convert\" onclick=\"convertToInteractive('df-cb6477ad-a0f5-4c06-b9f0-8dd36cc06825')\"\n",
              "              title=\"Convert this dataframe to an interactive table.\"\n",
              "              style=\"display:none;\">\n",
              "        \n",
              "  <svg xmlns=\"http://www.w3.org/2000/svg\" height=\"24px\"viewBox=\"0 0 24 24\"\n",
              "       width=\"24px\">\n",
              "    <path d=\"M0 0h24v24H0V0z\" fill=\"none\"/>\n",
              "    <path d=\"M18.56 5.44l.94 2.06.94-2.06 2.06-.94-2.06-.94-.94-2.06-.94 2.06-2.06.94zm-11 1L8.5 8.5l.94-2.06 2.06-.94-2.06-.94L8.5 2.5l-.94 2.06-2.06.94zm10 10l.94 2.06.94-2.06 2.06-.94-2.06-.94-.94-2.06-.94 2.06-2.06.94z\"/><path d=\"M17.41 7.96l-1.37-1.37c-.4-.4-.92-.59-1.43-.59-.52 0-1.04.2-1.43.59L10.3 9.45l-7.72 7.72c-.78.78-.78 2.05 0 2.83L4 21.41c.39.39.9.59 1.41.59.51 0 1.02-.2 1.41-.59l7.78-7.78 2.81-2.81c.8-.78.8-2.07 0-2.86zM5.41 20L4 18.59l7.72-7.72 1.47 1.35L5.41 20z\"/>\n",
              "  </svg>\n",
              "      </button>\n",
              "      \n",
              "  <style>\n",
              "    .colab-df-container {\n",
              "      display:flex;\n",
              "      flex-wrap:wrap;\n",
              "      gap: 12px;\n",
              "    }\n",
              "\n",
              "    .colab-df-convert {\n",
              "      background-color: #E8F0FE;\n",
              "      border: none;\n",
              "      border-radius: 50%;\n",
              "      cursor: pointer;\n",
              "      display: none;\n",
              "      fill: #1967D2;\n",
              "      height: 32px;\n",
              "      padding: 0 0 0 0;\n",
              "      width: 32px;\n",
              "    }\n",
              "\n",
              "    .colab-df-convert:hover {\n",
              "      background-color: #E2EBFA;\n",
              "      box-shadow: 0px 1px 2px rgba(60, 64, 67, 0.3), 0px 1px 3px 1px rgba(60, 64, 67, 0.15);\n",
              "      fill: #174EA6;\n",
              "    }\n",
              "\n",
              "    [theme=dark] .colab-df-convert {\n",
              "      background-color: #3B4455;\n",
              "      fill: #D2E3FC;\n",
              "    }\n",
              "\n",
              "    [theme=dark] .colab-df-convert:hover {\n",
              "      background-color: #434B5C;\n",
              "      box-shadow: 0px 1px 3px 1px rgba(0, 0, 0, 0.15);\n",
              "      filter: drop-shadow(0px 1px 2px rgba(0, 0, 0, 0.3));\n",
              "      fill: #FFFFFF;\n",
              "    }\n",
              "  </style>\n",
              "\n",
              "      <script>\n",
              "        const buttonEl =\n",
              "          document.querySelector('#df-cb6477ad-a0f5-4c06-b9f0-8dd36cc06825 button.colab-df-convert');\n",
              "        buttonEl.style.display =\n",
              "          google.colab.kernel.accessAllowed ? 'block' : 'none';\n",
              "\n",
              "        async function convertToInteractive(key) {\n",
              "          const element = document.querySelector('#df-cb6477ad-a0f5-4c06-b9f0-8dd36cc06825');\n",
              "          const dataTable =\n",
              "            await google.colab.kernel.invokeFunction('convertToInteractive',\n",
              "                                                     [key], {});\n",
              "          if (!dataTable) return;\n",
              "\n",
              "          const docLinkHtml = 'Like what you see? Visit the ' +\n",
              "            '<a target=\"_blank\" href=https://colab.research.google.com/notebooks/data_table.ipynb>data table notebook</a>'\n",
              "            + ' to learn more about interactive tables.';\n",
              "          element.innerHTML = '';\n",
              "          dataTable['output_type'] = 'display_data';\n",
              "          await google.colab.output.renderOutput(dataTable, element);\n",
              "          const docLink = document.createElement('div');\n",
              "          docLink.innerHTML = docLinkHtml;\n",
              "          element.appendChild(docLink);\n",
              "        }\n",
              "      </script>\n",
              "    </div>\n",
              "  </div>\n",
              "  "
            ]
          },
          "metadata": {}
        }
      ]
    },
    {
      "cell_type": "code",
      "source": [
        "best_model = compare_models(exclude=[\"ransac\"])"
      ],
      "metadata": {
        "colab": {
          "base_uri": "https://localhost:8080/",
          "height": 645,
          "referenced_widgets": [
            "fa77ad7556fc416098ad6ff2f509298e",
            "eecae9066e0346f5809a1d3297883c1f",
            "d862266c920e4d5b818d785f4394a829"
          ]
        },
        "id": "WJPVLVQgNWzu",
        "outputId": "eb2251b5-6a3b-478b-ed2a-074050196ce3"
      },
      "execution_count": null,
      "outputs": [
        {
          "output_type": "display_data",
          "data": {
            "text/plain": [
              "                                    Model      MAE       MSE     RMSE      R2  \\\n",
              "gbr           Gradient Boosting Regressor   7.5565   95.5705   9.7696  0.8082   \n",
              "lr                      Linear Regression   7.6046   96.9680   9.8394  0.8055   \n",
              "br                         Bayesian Ridge   7.6051   96.9682   9.8394  0.8055   \n",
              "ridge                    Ridge Regression   7.6088   97.0034   9.8412  0.8054   \n",
              "huber                     Huber Regressor   7.5999   97.0948   9.8456  0.8052   \n",
              "catboost               CatBoost Regressor   7.6540   98.1201   9.8998  0.8031   \n",
              "lightgbm  Light Gradient Boosting Machine   7.7158   99.0932   9.9488  0.8012   \n",
              "et                  Extra Trees Regressor   7.7375   99.4230   9.9631  0.8006   \n",
              "rf                Random Forest Regressor   7.7663   99.7097   9.9780  0.8000   \n",
              "knn                 K Neighbors Regressor   8.3319  114.5181  10.6900  0.7703   \n",
              "par          Passive Aggressive Regressor   8.3125  114.9821  10.7002  0.7692   \n",
              "omp           Orthogonal Matching Pursuit   8.6333  123.2672  11.0988  0.7529   \n",
              "ada                    AdaBoost Regressor   8.6955  123.2140  11.0953  0.7528   \n",
              "lar                Least Angle Regression   8.5308  127.0742  11.1009  0.7456   \n",
              "lasso                    Lasso Regression  10.4502  173.3161  13.1597  0.6530   \n",
              "dt                Decision Tree Regressor  11.0776  202.3888  14.2205  0.5941   \n",
              "en                            Elastic Net  16.0772  404.3784  20.1023  0.1905   \n",
              "llar         Lasso Least Angle Regression  17.9137  500.1563  22.3570 -0.0014   \n",
              "dummy                     Dummy Regressor  17.9137  500.1563  22.3570 -0.0014   \n",
              "\n",
              "           RMSLE    MAPE  TT (Sec)  \n",
              "gbr       0.0426  0.0332     1.470  \n",
              "lr        0.0429  0.0334     0.556  \n",
              "br        0.0429  0.0334     0.018  \n",
              "ridge     0.0429  0.0335     0.038  \n",
              "huber     0.0429  0.0334     0.148  \n",
              "catboost  0.0432  0.0337     5.173  \n",
              "lightgbm  0.0434  0.0339     0.188  \n",
              "et        0.0435  0.0341     1.849  \n",
              "rf        0.0436  0.0342     4.753  \n",
              "knn       0.0467  0.0367     0.071  \n",
              "par       0.0465  0.0362     0.026  \n",
              "omp       0.0486  0.0380     0.017  \n",
              "ada       0.0486  0.0386     0.538  \n",
              "lar       0.0488  0.0377     0.020  \n",
              "lasso     0.0577  0.0462     0.038  \n",
              "dt        0.0620  0.0488     0.084  \n",
              "en        0.0883  0.0714     0.038  \n",
              "llar      0.0982  0.0797     0.016  \n",
              "dummy     0.0982  0.0797     0.014  "
            ],
            "text/html": [
              "\n",
              "  <div id=\"df-80b0cde3-a9ed-49a3-9f31-61b163f0451c\">\n",
              "    <div class=\"colab-df-container\">\n",
              "      <div>\n",
              "<style scoped>\n",
              "    .dataframe tbody tr th:only-of-type {\n",
              "        vertical-align: middle;\n",
              "    }\n",
              "\n",
              "    .dataframe tbody tr th {\n",
              "        vertical-align: top;\n",
              "    }\n",
              "\n",
              "    .dataframe thead th {\n",
              "        text-align: right;\n",
              "    }\n",
              "</style>\n",
              "<table border=\"1\" class=\"dataframe\">\n",
              "  <thead>\n",
              "    <tr style=\"text-align: right;\">\n",
              "      <th></th>\n",
              "      <th>Model</th>\n",
              "      <th>MAE</th>\n",
              "      <th>MSE</th>\n",
              "      <th>RMSE</th>\n",
              "      <th>R2</th>\n",
              "      <th>RMSLE</th>\n",
              "      <th>MAPE</th>\n",
              "      <th>TT (Sec)</th>\n",
              "    </tr>\n",
              "  </thead>\n",
              "  <tbody>\n",
              "    <tr>\n",
              "      <th>gbr</th>\n",
              "      <td>Gradient Boosting Regressor</td>\n",
              "      <td>7.5565</td>\n",
              "      <td>95.5705</td>\n",
              "      <td>9.7696</td>\n",
              "      <td>0.8082</td>\n",
              "      <td>0.0426</td>\n",
              "      <td>0.0332</td>\n",
              "      <td>1.470</td>\n",
              "    </tr>\n",
              "    <tr>\n",
              "      <th>lr</th>\n",
              "      <td>Linear Regression</td>\n",
              "      <td>7.6046</td>\n",
              "      <td>96.9680</td>\n",
              "      <td>9.8394</td>\n",
              "      <td>0.8055</td>\n",
              "      <td>0.0429</td>\n",
              "      <td>0.0334</td>\n",
              "      <td>0.556</td>\n",
              "    </tr>\n",
              "    <tr>\n",
              "      <th>br</th>\n",
              "      <td>Bayesian Ridge</td>\n",
              "      <td>7.6051</td>\n",
              "      <td>96.9682</td>\n",
              "      <td>9.8394</td>\n",
              "      <td>0.8055</td>\n",
              "      <td>0.0429</td>\n",
              "      <td>0.0334</td>\n",
              "      <td>0.018</td>\n",
              "    </tr>\n",
              "    <tr>\n",
              "      <th>ridge</th>\n",
              "      <td>Ridge Regression</td>\n",
              "      <td>7.6088</td>\n",
              "      <td>97.0034</td>\n",
              "      <td>9.8412</td>\n",
              "      <td>0.8054</td>\n",
              "      <td>0.0429</td>\n",
              "      <td>0.0335</td>\n",
              "      <td>0.038</td>\n",
              "    </tr>\n",
              "    <tr>\n",
              "      <th>huber</th>\n",
              "      <td>Huber Regressor</td>\n",
              "      <td>7.5999</td>\n",
              "      <td>97.0948</td>\n",
              "      <td>9.8456</td>\n",
              "      <td>0.8052</td>\n",
              "      <td>0.0429</td>\n",
              "      <td>0.0334</td>\n",
              "      <td>0.148</td>\n",
              "    </tr>\n",
              "    <tr>\n",
              "      <th>catboost</th>\n",
              "      <td>CatBoost Regressor</td>\n",
              "      <td>7.6540</td>\n",
              "      <td>98.1201</td>\n",
              "      <td>9.8998</td>\n",
              "      <td>0.8031</td>\n",
              "      <td>0.0432</td>\n",
              "      <td>0.0337</td>\n",
              "      <td>5.173</td>\n",
              "    </tr>\n",
              "    <tr>\n",
              "      <th>lightgbm</th>\n",
              "      <td>Light Gradient Boosting Machine</td>\n",
              "      <td>7.7158</td>\n",
              "      <td>99.0932</td>\n",
              "      <td>9.9488</td>\n",
              "      <td>0.8012</td>\n",
              "      <td>0.0434</td>\n",
              "      <td>0.0339</td>\n",
              "      <td>0.188</td>\n",
              "    </tr>\n",
              "    <tr>\n",
              "      <th>et</th>\n",
              "      <td>Extra Trees Regressor</td>\n",
              "      <td>7.7375</td>\n",
              "      <td>99.4230</td>\n",
              "      <td>9.9631</td>\n",
              "      <td>0.8006</td>\n",
              "      <td>0.0435</td>\n",
              "      <td>0.0341</td>\n",
              "      <td>1.849</td>\n",
              "    </tr>\n",
              "    <tr>\n",
              "      <th>rf</th>\n",
              "      <td>Random Forest Regressor</td>\n",
              "      <td>7.7663</td>\n",
              "      <td>99.7097</td>\n",
              "      <td>9.9780</td>\n",
              "      <td>0.8000</td>\n",
              "      <td>0.0436</td>\n",
              "      <td>0.0342</td>\n",
              "      <td>4.753</td>\n",
              "    </tr>\n",
              "    <tr>\n",
              "      <th>knn</th>\n",
              "      <td>K Neighbors Regressor</td>\n",
              "      <td>8.3319</td>\n",
              "      <td>114.5181</td>\n",
              "      <td>10.6900</td>\n",
              "      <td>0.7703</td>\n",
              "      <td>0.0467</td>\n",
              "      <td>0.0367</td>\n",
              "      <td>0.071</td>\n",
              "    </tr>\n",
              "    <tr>\n",
              "      <th>par</th>\n",
              "      <td>Passive Aggressive Regressor</td>\n",
              "      <td>8.3125</td>\n",
              "      <td>114.9821</td>\n",
              "      <td>10.7002</td>\n",
              "      <td>0.7692</td>\n",
              "      <td>0.0465</td>\n",
              "      <td>0.0362</td>\n",
              "      <td>0.026</td>\n",
              "    </tr>\n",
              "    <tr>\n",
              "      <th>omp</th>\n",
              "      <td>Orthogonal Matching Pursuit</td>\n",
              "      <td>8.6333</td>\n",
              "      <td>123.2672</td>\n",
              "      <td>11.0988</td>\n",
              "      <td>0.7529</td>\n",
              "      <td>0.0486</td>\n",
              "      <td>0.0380</td>\n",
              "      <td>0.017</td>\n",
              "    </tr>\n",
              "    <tr>\n",
              "      <th>ada</th>\n",
              "      <td>AdaBoost Regressor</td>\n",
              "      <td>8.6955</td>\n",
              "      <td>123.2140</td>\n",
              "      <td>11.0953</td>\n",
              "      <td>0.7528</td>\n",
              "      <td>0.0486</td>\n",
              "      <td>0.0386</td>\n",
              "      <td>0.538</td>\n",
              "    </tr>\n",
              "    <tr>\n",
              "      <th>lar</th>\n",
              "      <td>Least Angle Regression</td>\n",
              "      <td>8.5308</td>\n",
              "      <td>127.0742</td>\n",
              "      <td>11.1009</td>\n",
              "      <td>0.7456</td>\n",
              "      <td>0.0488</td>\n",
              "      <td>0.0377</td>\n",
              "      <td>0.020</td>\n",
              "    </tr>\n",
              "    <tr>\n",
              "      <th>lasso</th>\n",
              "      <td>Lasso Regression</td>\n",
              "      <td>10.4502</td>\n",
              "      <td>173.3161</td>\n",
              "      <td>13.1597</td>\n",
              "      <td>0.6530</td>\n",
              "      <td>0.0577</td>\n",
              "      <td>0.0462</td>\n",
              "      <td>0.038</td>\n",
              "    </tr>\n",
              "    <tr>\n",
              "      <th>dt</th>\n",
              "      <td>Decision Tree Regressor</td>\n",
              "      <td>11.0776</td>\n",
              "      <td>202.3888</td>\n",
              "      <td>14.2205</td>\n",
              "      <td>0.5941</td>\n",
              "      <td>0.0620</td>\n",
              "      <td>0.0488</td>\n",
              "      <td>0.084</td>\n",
              "    </tr>\n",
              "    <tr>\n",
              "      <th>en</th>\n",
              "      <td>Elastic Net</td>\n",
              "      <td>16.0772</td>\n",
              "      <td>404.3784</td>\n",
              "      <td>20.1023</td>\n",
              "      <td>0.1905</td>\n",
              "      <td>0.0883</td>\n",
              "      <td>0.0714</td>\n",
              "      <td>0.038</td>\n",
              "    </tr>\n",
              "    <tr>\n",
              "      <th>llar</th>\n",
              "      <td>Lasso Least Angle Regression</td>\n",
              "      <td>17.9137</td>\n",
              "      <td>500.1563</td>\n",
              "      <td>22.3570</td>\n",
              "      <td>-0.0014</td>\n",
              "      <td>0.0982</td>\n",
              "      <td>0.0797</td>\n",
              "      <td>0.016</td>\n",
              "    </tr>\n",
              "    <tr>\n",
              "      <th>dummy</th>\n",
              "      <td>Dummy Regressor</td>\n",
              "      <td>17.9137</td>\n",
              "      <td>500.1563</td>\n",
              "      <td>22.3570</td>\n",
              "      <td>-0.0014</td>\n",
              "      <td>0.0982</td>\n",
              "      <td>0.0797</td>\n",
              "      <td>0.014</td>\n",
              "    </tr>\n",
              "  </tbody>\n",
              "</table>\n",
              "</div>\n",
              "      <button class=\"colab-df-convert\" onclick=\"convertToInteractive('df-80b0cde3-a9ed-49a3-9f31-61b163f0451c')\"\n",
              "              title=\"Convert this dataframe to an interactive table.\"\n",
              "              style=\"display:none;\">\n",
              "        \n",
              "  <svg xmlns=\"http://www.w3.org/2000/svg\" height=\"24px\"viewBox=\"0 0 24 24\"\n",
              "       width=\"24px\">\n",
              "    <path d=\"M0 0h24v24H0V0z\" fill=\"none\"/>\n",
              "    <path d=\"M18.56 5.44l.94 2.06.94-2.06 2.06-.94-2.06-.94-.94-2.06-.94 2.06-2.06.94zm-11 1L8.5 8.5l.94-2.06 2.06-.94-2.06-.94L8.5 2.5l-.94 2.06-2.06.94zm10 10l.94 2.06.94-2.06 2.06-.94-2.06-.94-.94-2.06-.94 2.06-2.06.94z\"/><path d=\"M17.41 7.96l-1.37-1.37c-.4-.4-.92-.59-1.43-.59-.52 0-1.04.2-1.43.59L10.3 9.45l-7.72 7.72c-.78.78-.78 2.05 0 2.83L4 21.41c.39.39.9.59 1.41.59.51 0 1.02-.2 1.41-.59l7.78-7.78 2.81-2.81c.8-.78.8-2.07 0-2.86zM5.41 20L4 18.59l7.72-7.72 1.47 1.35L5.41 20z\"/>\n",
              "  </svg>\n",
              "      </button>\n",
              "      \n",
              "  <style>\n",
              "    .colab-df-container {\n",
              "      display:flex;\n",
              "      flex-wrap:wrap;\n",
              "      gap: 12px;\n",
              "    }\n",
              "\n",
              "    .colab-df-convert {\n",
              "      background-color: #E8F0FE;\n",
              "      border: none;\n",
              "      border-radius: 50%;\n",
              "      cursor: pointer;\n",
              "      display: none;\n",
              "      fill: #1967D2;\n",
              "      height: 32px;\n",
              "      padding: 0 0 0 0;\n",
              "      width: 32px;\n",
              "    }\n",
              "\n",
              "    .colab-df-convert:hover {\n",
              "      background-color: #E2EBFA;\n",
              "      box-shadow: 0px 1px 2px rgba(60, 64, 67, 0.3), 0px 1px 3px 1px rgba(60, 64, 67, 0.15);\n",
              "      fill: #174EA6;\n",
              "    }\n",
              "\n",
              "    [theme=dark] .colab-df-convert {\n",
              "      background-color: #3B4455;\n",
              "      fill: #D2E3FC;\n",
              "    }\n",
              "\n",
              "    [theme=dark] .colab-df-convert:hover {\n",
              "      background-color: #434B5C;\n",
              "      box-shadow: 0px 1px 3px 1px rgba(0, 0, 0, 0.15);\n",
              "      filter: drop-shadow(0px 1px 2px rgba(0, 0, 0, 0.3));\n",
              "      fill: #FFFFFF;\n",
              "    }\n",
              "  </style>\n",
              "\n",
              "      <script>\n",
              "        const buttonEl =\n",
              "          document.querySelector('#df-80b0cde3-a9ed-49a3-9f31-61b163f0451c button.colab-df-convert');\n",
              "        buttonEl.style.display =\n",
              "          google.colab.kernel.accessAllowed ? 'block' : 'none';\n",
              "\n",
              "        async function convertToInteractive(key) {\n",
              "          const element = document.querySelector('#df-80b0cde3-a9ed-49a3-9f31-61b163f0451c');\n",
              "          const dataTable =\n",
              "            await google.colab.kernel.invokeFunction('convertToInteractive',\n",
              "                                                     [key], {});\n",
              "          if (!dataTable) return;\n",
              "\n",
              "          const docLinkHtml = 'Like what you see? Visit the ' +\n",
              "            '<a target=\"_blank\" href=https://colab.research.google.com/notebooks/data_table.ipynb>data table notebook</a>'\n",
              "            + ' to learn more about interactive tables.';\n",
              "          element.innerHTML = '';\n",
              "          dataTable['output_type'] = 'display_data';\n",
              "          await google.colab.output.renderOutput(dataTable, element);\n",
              "          const docLink = document.createElement('div');\n",
              "          docLink.innerHTML = docLinkHtml;\n",
              "          element.appendChild(docLink);\n",
              "        }\n",
              "      </script>\n",
              "    </div>\n",
              "  </div>\n",
              "  "
            ]
          },
          "metadata": {}
        }
      ]
    },
    {
      "cell_type": "code",
      "source": [
        "gbr = create_model(\"gbr\")"
      ],
      "metadata": {
        "colab": {
          "base_uri": "https://localhost:8080/",
          "height": 457,
          "referenced_widgets": [
            "ee764e7909384a03bbabbc94ce132362",
            "af18169d99454955b390e54476f319fe",
            "ab58723f26c943faa7e0e801785999df"
          ]
        },
        "id": "UZiWycUMNgnP",
        "outputId": "d7c9a387-3eab-4e46-8818-3b4eb98bdaa2"
      },
      "execution_count": null,
      "outputs": [
        {
          "output_type": "display_data",
          "data": {
            "text/plain": [
              "         MAE       MSE     RMSE      R2   RMSLE    MAPE\n",
              "Fold                                                   \n",
              "0     7.9686  106.1413  10.3025  0.7949  0.0447  0.0351\n",
              "1     7.7959  100.8468  10.0423  0.7726  0.0436  0.0341\n",
              "2     7.4901   96.3000   9.8133  0.8095  0.0428  0.0328\n",
              "3     7.1449   83.6849   9.1479  0.8242  0.0396  0.0314\n",
              "4     7.3521   89.1432   9.4416  0.8323  0.0413  0.0324\n",
              "5     7.5585   92.5849   9.6221  0.8177  0.0424  0.0334\n",
              "6     7.3658   88.5707   9.4112  0.8229  0.0413  0.0327\n",
              "7     7.4875   97.0517   9.8515  0.8084  0.0428  0.0329\n",
              "8     7.6951  105.1039  10.2520  0.7999  0.0443  0.0338\n",
              "9     7.7067   96.2777   9.8121  0.7998  0.0433  0.0340\n",
              "Mean  7.5565   95.5705   9.7696  0.8082  0.0426  0.0332\n",
              "Std   0.2293    6.8861   0.3529  0.0165  0.0015  0.0010"
            ],
            "text/html": [
              "\n",
              "  <div id=\"df-be07b372-8b80-4434-bf2e-a3f37dc70855\">\n",
              "    <div class=\"colab-df-container\">\n",
              "      <div>\n",
              "<style scoped>\n",
              "    .dataframe tbody tr th:only-of-type {\n",
              "        vertical-align: middle;\n",
              "    }\n",
              "\n",
              "    .dataframe tbody tr th {\n",
              "        vertical-align: top;\n",
              "    }\n",
              "\n",
              "    .dataframe thead th {\n",
              "        text-align: right;\n",
              "    }\n",
              "</style>\n",
              "<table border=\"1\" class=\"dataframe\">\n",
              "  <thead>\n",
              "    <tr style=\"text-align: right;\">\n",
              "      <th></th>\n",
              "      <th>MAE</th>\n",
              "      <th>MSE</th>\n",
              "      <th>RMSE</th>\n",
              "      <th>R2</th>\n",
              "      <th>RMSLE</th>\n",
              "      <th>MAPE</th>\n",
              "    </tr>\n",
              "    <tr>\n",
              "      <th>Fold</th>\n",
              "      <th></th>\n",
              "      <th></th>\n",
              "      <th></th>\n",
              "      <th></th>\n",
              "      <th></th>\n",
              "      <th></th>\n",
              "    </tr>\n",
              "  </thead>\n",
              "  <tbody>\n",
              "    <tr>\n",
              "      <th>0</th>\n",
              "      <td>7.9686</td>\n",
              "      <td>106.1413</td>\n",
              "      <td>10.3025</td>\n",
              "      <td>0.7949</td>\n",
              "      <td>0.0447</td>\n",
              "      <td>0.0351</td>\n",
              "    </tr>\n",
              "    <tr>\n",
              "      <th>1</th>\n",
              "      <td>7.7959</td>\n",
              "      <td>100.8468</td>\n",
              "      <td>10.0423</td>\n",
              "      <td>0.7726</td>\n",
              "      <td>0.0436</td>\n",
              "      <td>0.0341</td>\n",
              "    </tr>\n",
              "    <tr>\n",
              "      <th>2</th>\n",
              "      <td>7.4901</td>\n",
              "      <td>96.3000</td>\n",
              "      <td>9.8133</td>\n",
              "      <td>0.8095</td>\n",
              "      <td>0.0428</td>\n",
              "      <td>0.0328</td>\n",
              "    </tr>\n",
              "    <tr>\n",
              "      <th>3</th>\n",
              "      <td>7.1449</td>\n",
              "      <td>83.6849</td>\n",
              "      <td>9.1479</td>\n",
              "      <td>0.8242</td>\n",
              "      <td>0.0396</td>\n",
              "      <td>0.0314</td>\n",
              "    </tr>\n",
              "    <tr>\n",
              "      <th>4</th>\n",
              "      <td>7.3521</td>\n",
              "      <td>89.1432</td>\n",
              "      <td>9.4416</td>\n",
              "      <td>0.8323</td>\n",
              "      <td>0.0413</td>\n",
              "      <td>0.0324</td>\n",
              "    </tr>\n",
              "    <tr>\n",
              "      <th>5</th>\n",
              "      <td>7.5585</td>\n",
              "      <td>92.5849</td>\n",
              "      <td>9.6221</td>\n",
              "      <td>0.8177</td>\n",
              "      <td>0.0424</td>\n",
              "      <td>0.0334</td>\n",
              "    </tr>\n",
              "    <tr>\n",
              "      <th>6</th>\n",
              "      <td>7.3658</td>\n",
              "      <td>88.5707</td>\n",
              "      <td>9.4112</td>\n",
              "      <td>0.8229</td>\n",
              "      <td>0.0413</td>\n",
              "      <td>0.0327</td>\n",
              "    </tr>\n",
              "    <tr>\n",
              "      <th>7</th>\n",
              "      <td>7.4875</td>\n",
              "      <td>97.0517</td>\n",
              "      <td>9.8515</td>\n",
              "      <td>0.8084</td>\n",
              "      <td>0.0428</td>\n",
              "      <td>0.0329</td>\n",
              "    </tr>\n",
              "    <tr>\n",
              "      <th>8</th>\n",
              "      <td>7.6951</td>\n",
              "      <td>105.1039</td>\n",
              "      <td>10.2520</td>\n",
              "      <td>0.7999</td>\n",
              "      <td>0.0443</td>\n",
              "      <td>0.0338</td>\n",
              "    </tr>\n",
              "    <tr>\n",
              "      <th>9</th>\n",
              "      <td>7.7067</td>\n",
              "      <td>96.2777</td>\n",
              "      <td>9.8121</td>\n",
              "      <td>0.7998</td>\n",
              "      <td>0.0433</td>\n",
              "      <td>0.0340</td>\n",
              "    </tr>\n",
              "    <tr>\n",
              "      <th>Mean</th>\n",
              "      <td>7.5565</td>\n",
              "      <td>95.5705</td>\n",
              "      <td>9.7696</td>\n",
              "      <td>0.8082</td>\n",
              "      <td>0.0426</td>\n",
              "      <td>0.0332</td>\n",
              "    </tr>\n",
              "    <tr>\n",
              "      <th>Std</th>\n",
              "      <td>0.2293</td>\n",
              "      <td>6.8861</td>\n",
              "      <td>0.3529</td>\n",
              "      <td>0.0165</td>\n",
              "      <td>0.0015</td>\n",
              "      <td>0.0010</td>\n",
              "    </tr>\n",
              "  </tbody>\n",
              "</table>\n",
              "</div>\n",
              "      <button class=\"colab-df-convert\" onclick=\"convertToInteractive('df-be07b372-8b80-4434-bf2e-a3f37dc70855')\"\n",
              "              title=\"Convert this dataframe to an interactive table.\"\n",
              "              style=\"display:none;\">\n",
              "        \n",
              "  <svg xmlns=\"http://www.w3.org/2000/svg\" height=\"24px\"viewBox=\"0 0 24 24\"\n",
              "       width=\"24px\">\n",
              "    <path d=\"M0 0h24v24H0V0z\" fill=\"none\"/>\n",
              "    <path d=\"M18.56 5.44l.94 2.06.94-2.06 2.06-.94-2.06-.94-.94-2.06-.94 2.06-2.06.94zm-11 1L8.5 8.5l.94-2.06 2.06-.94-2.06-.94L8.5 2.5l-.94 2.06-2.06.94zm10 10l.94 2.06.94-2.06 2.06-.94-2.06-.94-.94-2.06-.94 2.06-2.06.94z\"/><path d=\"M17.41 7.96l-1.37-1.37c-.4-.4-.92-.59-1.43-.59-.52 0-1.04.2-1.43.59L10.3 9.45l-7.72 7.72c-.78.78-.78 2.05 0 2.83L4 21.41c.39.39.9.59 1.41.59.51 0 1.02-.2 1.41-.59l7.78-7.78 2.81-2.81c.8-.78.8-2.07 0-2.86zM5.41 20L4 18.59l7.72-7.72 1.47 1.35L5.41 20z\"/>\n",
              "  </svg>\n",
              "      </button>\n",
              "      \n",
              "  <style>\n",
              "    .colab-df-container {\n",
              "      display:flex;\n",
              "      flex-wrap:wrap;\n",
              "      gap: 12px;\n",
              "    }\n",
              "\n",
              "    .colab-df-convert {\n",
              "      background-color: #E8F0FE;\n",
              "      border: none;\n",
              "      border-radius: 50%;\n",
              "      cursor: pointer;\n",
              "      display: none;\n",
              "      fill: #1967D2;\n",
              "      height: 32px;\n",
              "      padding: 0 0 0 0;\n",
              "      width: 32px;\n",
              "    }\n",
              "\n",
              "    .colab-df-convert:hover {\n",
              "      background-color: #E2EBFA;\n",
              "      box-shadow: 0px 1px 2px rgba(60, 64, 67, 0.3), 0px 1px 3px 1px rgba(60, 64, 67, 0.15);\n",
              "      fill: #174EA6;\n",
              "    }\n",
              "\n",
              "    [theme=dark] .colab-df-convert {\n",
              "      background-color: #3B4455;\n",
              "      fill: #D2E3FC;\n",
              "    }\n",
              "\n",
              "    [theme=dark] .colab-df-convert:hover {\n",
              "      background-color: #434B5C;\n",
              "      box-shadow: 0px 1px 3px 1px rgba(0, 0, 0, 0.15);\n",
              "      filter: drop-shadow(0px 1px 2px rgba(0, 0, 0, 0.3));\n",
              "      fill: #FFFFFF;\n",
              "    }\n",
              "  </style>\n",
              "\n",
              "      <script>\n",
              "        const buttonEl =\n",
              "          document.querySelector('#df-be07b372-8b80-4434-bf2e-a3f37dc70855 button.colab-df-convert');\n",
              "        buttonEl.style.display =\n",
              "          google.colab.kernel.accessAllowed ? 'block' : 'none';\n",
              "\n",
              "        async function convertToInteractive(key) {\n",
              "          const element = document.querySelector('#df-be07b372-8b80-4434-bf2e-a3f37dc70855');\n",
              "          const dataTable =\n",
              "            await google.colab.kernel.invokeFunction('convertToInteractive',\n",
              "                                                     [key], {});\n",
              "          if (!dataTable) return;\n",
              "\n",
              "          const docLinkHtml = 'Like what you see? Visit the ' +\n",
              "            '<a target=\"_blank\" href=https://colab.research.google.com/notebooks/data_table.ipynb>data table notebook</a>'\n",
              "            + ' to learn more about interactive tables.';\n",
              "          element.innerHTML = '';\n",
              "          dataTable['output_type'] = 'display_data';\n",
              "          await google.colab.output.renderOutput(dataTable, element);\n",
              "          const docLink = document.createElement('div');\n",
              "          docLink.innerHTML = docLinkHtml;\n",
              "          element.appendChild(docLink);\n",
              "        }\n",
              "      </script>\n",
              "    </div>\n",
              "  </div>\n",
              "  "
            ]
          },
          "metadata": {}
        }
      ]
    },
    {
      "cell_type": "code",
      "source": [
        "plot_model(gbr)"
      ],
      "metadata": {
        "colab": {
          "base_uri": "https://localhost:8080/",
          "height": 376,
          "referenced_widgets": [
            "b32aede1af10448390389fa762a2345b",
            "74fd17936022495a8ed0a7af21e7dd67",
            "14a7f10e9f0a49d7b51cac2b60a39aa4"
          ]
        },
        "id": "LVWvnLpdOJfW",
        "outputId": "b52729e4-033e-45e7-86a5-26297a4c05f6"
      },
      "execution_count": null,
      "outputs": [
        {
          "output_type": "display_data",
          "data": {
            "text/plain": [
              "<Figure size 576x396 with 2 Axes>"
            ],
            "image/png": "[encoded data removed]"
          },
          "metadata": {}
        }
      ]
    },
    {
      "cell_type": "code",
      "source": [
        "plot_model(gbr, plot=\"error\")"
      ],
      "metadata": {
        "colab": {
          "base_uri": "https://localhost:8080/",
          "height": 378
        },
        "id": "1922qnrYOYFs",
        "outputId": "e9ad9602-dd59-420b-f546-b3f966ec521c"
      },
      "execution_count": null,
      "outputs": [
        {
          "output_type": "display_data",
          "data": {
            "text/plain": [
              "<Figure size 576x396 with 1 Axes>"
            ],
            "image/png": "[encoded data removed]"
          },
          "metadata": {}
        }
      ]
    },
    {
      "cell_type": "code",
      "source": [
        "plot_model(gbr, plot=\"feature\")"
      ],
      "metadata": {
        "colab": {
          "base_uri": "https://localhost:8080/",
          "height": 478
        },
        "id": "XjRqBUbgOkQP",
        "outputId": "d5de4f25-55e7-49ab-bf55-53cb2f9fc874"
      },
      "execution_count": null,
      "outputs": [
        {
          "output_type": "display_data",
          "data": {
            "text/plain": [
              "<Figure size 800x500 with 1 Axes>"
            ],
            "image/png": "[encoded data removed]"
          },
          "metadata": {}
        }
      ]
    },
    {
      "cell_type": "code",
      "source": [
        "predi_modeltreino = predict_model(gbr)\n",
        "predi_modeltreino"
      ],
      "metadata": {
        "colab": {
          "base_uri": "https://localhost:8080/",
          "height": 507
        },
        "id": "Rvr3CWi0OvdY",
        "outputId": "dc9998c4-d5a0-4dac-8aa3-8019477bef82"
      },
      "execution_count": null,
      "outputs": [
        {
          "output_type": "display_data",
          "data": {
            "text/plain": [
              "                         Model     MAE       MSE     RMSE      R2   RMSLE  \\\n",
              "0  Gradient Boosting Regressor  7.7134  102.1208  10.1055  0.8021  0.0437   \n",
              "\n",
              "     MAPE  \n",
              "0  0.0338  "
            ],
            "text/html": [
              "\n",
              "  <div id=\"df-d94cda90-2b6e-4d28-9be1-8cb7fb5fe169\">\n",
              "    <div class=\"colab-df-container\">\n",
              "      <div>\n",
              "<style scoped>\n",
              "    .dataframe tbody tr th:only-of-type {\n",
              "        vertical-align: middle;\n",
              "    }\n",
              "\n",
              "    .dataframe tbody tr th {\n",
              "        vertical-align: top;\n",
              "    }\n",
              "\n",
              "    .dataframe thead th {\n",
              "        text-align: right;\n",
              "    }\n",
              "</style>\n",
              "<table border=\"1\" class=\"dataframe\">\n",
              "  <thead>\n",
              "    <tr style=\"text-align: right;\">\n",
              "      <th></th>\n",
              "      <th>Model</th>\n",
              "      <th>MAE</th>\n",
              "      <th>MSE</th>\n",
              "      <th>RMSE</th>\n",
              "      <th>R2</th>\n",
              "      <th>RMSLE</th>\n",
              "      <th>MAPE</th>\n",
              "    </tr>\n",
              "  </thead>\n",
              "  <tbody>\n",
              "    <tr>\n",
              "      <th>0</th>\n",
              "      <td>Gradient Boosting Regressor</td>\n",
              "      <td>7.7134</td>\n",
              "      <td>102.1208</td>\n",
              "      <td>10.1055</td>\n",
              "      <td>0.8021</td>\n",
              "      <td>0.0437</td>\n",
              "      <td>0.0338</td>\n",
              "    </tr>\n",
              "  </tbody>\n",
              "</table>\n",
              "</div>\n",
              "      <button class=\"colab-df-convert\" onclick=\"convertToInteractive('df-d94cda90-2b6e-4d28-9be1-8cb7fb5fe169')\"\n",
              "              title=\"Convert this dataframe to an interactive table.\"\n",
              "              style=\"display:none;\">\n",
              "        \n",
              "  <svg xmlns=\"http://www.w3.org/2000/svg\" height=\"24px\"viewBox=\"0 0 24 24\"\n",
              "       width=\"24px\">\n",
              "    <path d=\"M0 0h24v24H0V0z\" fill=\"none\"/>\n",
              "    <path d=\"M18.56 5.44l.94 2.06.94-2.06 2.06-.94-2.06-.94-.94-2.06-.94 2.06-2.06.94zm-11 1L8.5 8.5l.94-2.06 2.06-.94-2.06-.94L8.5 2.5l-.94 2.06-2.06.94zm10 10l.94 2.06.94-2.06 2.06-.94-2.06-.94-.94-2.06-.94 2.06-2.06.94z\"/><path d=\"M17.41 7.96l-1.37-1.37c-.4-.4-.92-.59-1.43-.59-.52 0-1.04.2-1.43.59L10.3 9.45l-7.72 7.72c-.78.78-.78 2.05 0 2.83L4 21.41c.39.39.9.59 1.41.59.51 0 1.02-.2 1.41-.59l7.78-7.78 2.81-2.81c.8-.78.8-2.07 0-2.86zM5.41 20L4 18.59l7.72-7.72 1.47 1.35L5.41 20z\"/>\n",
              "  </svg>\n",
              "      </button>\n",
              "      \n",
              "  <style>\n",
              "    .colab-df-container {\n",
              "      display:flex;\n",
              "      flex-wrap:wrap;\n",
              "      gap: 12px;\n",
              "    }\n",
              "\n",
              "    .colab-df-convert {\n",
              "      background-color: #E8F0FE;\n",
              "      border: none;\n",
              "      border-radius: 50%;\n",
              "      cursor: pointer;\n",
              "      display: none;\n",
              "      fill: #1967D2;\n",
              "      height: 32px;\n",
              "      padding: 0 0 0 0;\n",
              "      width: 32px;\n",
              "    }\n",
              "\n",
              "    .colab-df-convert:hover {\n",
              "      background-color: #E2EBFA;\n",
              "      box-shadow: 0px 1px 2px rgba(60, 64, 67, 0.3), 0px 1px 3px 1px rgba(60, 64, 67, 0.15);\n",
              "      fill: #174EA6;\n",
              "    }\n",
              "\n",
              "    [theme=dark] .colab-df-convert {\n",
              "      background-color: #3B4455;\n",
              "      fill: #D2E3FC;\n",
              "    }\n",
              "\n",
              "    [theme=dark] .colab-df-convert:hover {\n",
              "      background-color: #434B5C;\n",
              "      box-shadow: 0px 1px 3px 1px rgba(0, 0, 0, 0.15);\n",
              "      filter: drop-shadow(0px 1px 2px rgba(0, 0, 0, 0.3));\n",
              "      fill: #FFFFFF;\n",
              "    }\n",
              "  </style>\n",
              "\n",
              "      <script>\n",
              "        const buttonEl =\n",
              "          document.querySelector('#df-d94cda90-2b6e-4d28-9be1-8cb7fb5fe169 button.colab-df-convert');\n",
              "        buttonEl.style.display =\n",
              "          google.colab.kernel.accessAllowed ? 'block' : 'none';\n",
              "\n",
              "        async function convertToInteractive(key) {\n",
              "          const element = document.querySelector('#df-d94cda90-2b6e-4d28-9be1-8cb7fb5fe169');\n",
              "          const dataTable =\n",
              "            await google.colab.kernel.invokeFunction('convertToInteractive',\n",
              "                                                     [key], {});\n",
              "          if (!dataTable) return;\n",
              "\n",
              "          const docLinkHtml = 'Like what you see? Visit the ' +\n",
              "            '<a target=\"_blank\" href=https://colab.research.google.com/notebooks/data_table.ipynb>data table notebook</a>'\n",
              "            + ' to learn more about interactive tables.';\n",
              "          element.innerHTML = '';\n",
              "          dataTable['output_type'] = 'display_data';\n",
              "          await google.colab.output.renderOutput(dataTable, element);\n",
              "          const docLink = document.createElement('div');\n",
              "          docLink.innerHTML = docLinkHtml;\n",
              "          element.appendChild(docLink);\n",
              "        }\n",
              "      </script>\n",
              "    </div>\n",
              "  </div>\n",
              "  "
            ]
          },
          "metadata": {}
        },
        {
          "output_type": "execute_result",
          "data": {
            "text/plain": [
              "      ideb_2015_ideb  ideb_2017_ideb  ideb_2019_indicador_rendimento  \\\n",
              "0           0.297297        0.442857                        0.845513   \n",
              "1           0.689189        0.742857                        0.965294   \n",
              "2           0.405405        0.371429                        0.913443   \n",
              "3           0.486486        0.500000                        0.872450   \n",
              "4           0.554054        0.657143                        0.990258   \n",
              "...              ...             ...                             ...   \n",
              "3345        0.432432        0.500000                        0.939084   \n",
              "3346        0.243243        0.228571                        0.886533   \n",
              "3347        0.472973        0.557143                        0.992055   \n",
              "3348        0.216216        0.342857                        0.822080   \n",
              "3349        0.500000        0.542857                        0.963817   \n",
              "\n",
              "      ideb_2017_nota_saeb_media_padronizada  \\\n",
              "0                                  0.436524   \n",
              "1                                  0.737756   \n",
              "2                                  0.377502   \n",
              "3                                  0.495566   \n",
              "4                                  0.615461   \n",
              "...                                     ...   \n",
              "3345                               0.456277   \n",
              "3346                               0.168152   \n",
              "3347                               0.525087   \n",
              "3348                               0.346352   \n",
              "3349                               0.498180   \n",
              "\n",
              "      ideb_2015_nota_saeb_media_padronizada  ideb_2017_indicador_rendimento  \\\n",
              "0                                  0.283894                        0.827411   \n",
              "1                                  0.659348                        0.952443   \n",
              "2                                  0.395044                        0.736460   \n",
              "3                                  0.461432                        0.839140   \n",
              "4                                  0.510166                        0.969761   \n",
              "...                                     ...                             ...   \n",
              "3345                               0.369689                        0.913872   \n",
              "3346                               0.164937                        0.777223   \n",
              "3347                               0.386452                        0.933681   \n",
              "3348                               0.256274                        0.740619   \n",
              "3349                               0.425230                        0.962460   \n",
              "\n",
              "      tempo_lazer_2019  inep_2019_tdi_ef_5_ano  engajamento_responsaveis_2019  \\\n",
              "0             0.782853                0.256598                       0.848355   \n",
              "1             0.906426                0.049853                       0.877686   \n",
              "2             0.789807                0.360704                       0.926521   \n",
              "3             0.779762                0.347507                       0.826146   \n",
              "4             0.886600                0.146628                       0.924832   \n",
              "...                ...                     ...                            ...   \n",
              "3345          0.739583                0.153959                       0.891124   \n",
              "3346          0.617708                0.316716                       0.812211   \n",
              "3347          0.777590                0.055718                       0.789905   \n",
              "3348          0.662879                0.637830                       0.603789   \n",
              "3349          0.833333                0.104106                       0.866249   \n",
              "\n",
              "      idade_entrada_escola_2019  desempenho_MT_5ano_2019       Label  \n",
              "0                      0.162979               214.217484  225.009702  \n",
              "1                      0.198124               284.399719  271.363770  \n",
              "2                      0.299354               209.026367  226.879215  \n",
              "3                      0.318574               236.305191  234.445538  \n",
              "4                      0.532523               256.930634  258.944596  \n",
              "...                         ...                      ...         ...  \n",
              "3345                   0.282466               223.847702  231.664926  \n",
              "3346                   0.304521               197.920776  197.244037  \n",
              "3347                   0.414430               247.049225  235.201839  \n",
              "3348                   0.379939               204.680054  209.281580  \n",
              "3349                   0.416416               233.744019  237.554663  \n",
              "\n",
              "[3350 rows x 12 columns]"
            ],
            "text/html": [
              "\n",
              "  <div id=\"df-56a88f48-16c1-4401-b8e8-1f33914a0910\">\n",
              "    <div class=\"colab-df-container\">\n",
              "      <div>\n",
              "<style scoped>\n",
              "    .dataframe tbody tr th:only-of-type {\n",
              "        vertical-align: middle;\n",
              "    }\n",
              "\n",
              "    .dataframe tbody tr th {\n",
              "        vertical-align: top;\n",
              "    }\n",
              "\n",
              "    .dataframe thead th {\n",
              "        text-align: right;\n",
              "    }\n",
              "</style>\n",
              "<table border=\"1\" class=\"dataframe\">\n",
              "  <thead>\n",
              "    <tr style=\"text-align: right;\">\n",
              "      <th></th>\n",
              "      <th>ideb_2015_ideb</th>\n",
              "      <th>ideb_2017_ideb</th>\n",
              "      <th>ideb_2019_indicador_rendimento</th>\n",
              "      <th>ideb_2017_nota_saeb_media_padronizada</th>\n",
              "      <th>ideb_2015_nota_saeb_media_padronizada</th>\n",
              "      <th>ideb_2017_indicador_rendimento</th>\n",
              "      <th>tempo_lazer_2019</th>\n",
              "      <th>inep_2019_tdi_ef_5_ano</th>\n",
              "      <th>engajamento_responsaveis_2019</th>\n",
              "      <th>idade_entrada_escola_2019</th>\n",
              "      <th>desempenho_MT_5ano_2019</th>\n",
              "      <th>Label</th>\n",
              "    </tr>\n",
              "  </thead>\n",
              "  <tbody>\n",
              "    <tr>\n",
              "      <th>0</th>\n",
              "      <td>0.297297</td>\n",
              "      <td>0.442857</td>\n",
              "      <td>0.845513</td>\n",
              "      <td>0.436524</td>\n",
              "      <td>0.283894</td>\n",
              "      <td>0.827411</td>\n",
              "      <td>0.782853</td>\n",
              "      <td>0.256598</td>\n",
              "      <td>0.848355</td>\n",
              "      <td>0.162979</td>\n",
              "      <td>214.217484</td>\n",
              "      <td>225.009702</td>\n",
              "    </tr>\n",
              "    <tr>\n",
              "      <th>1</th>\n",
              "      <td>0.689189</td>\n",
              "      <td>0.742857</td>\n",
              "      <td>0.965294</td>\n",
              "      <td>0.737756</td>\n",
              "      <td>0.659348</td>\n",
              "      <td>0.952443</td>\n",
              "      <td>0.906426</td>\n",
              "      <td>0.049853</td>\n",
              "      <td>0.877686</td>\n",
              "      <td>0.198124</td>\n",
              "      <td>284.399719</td>\n",
              "      <td>271.363770</td>\n",
              "    </tr>\n",
              "    <tr>\n",
              "      <th>2</th>\n",
              "      <td>0.405405</td>\n",
              "      <td>0.371429</td>\n",
              "      <td>0.913443</td>\n",
              "      <td>0.377502</td>\n",
              "      <td>0.395044</td>\n",
              "      <td>0.736460</td>\n",
              "      <td>0.789807</td>\n",
              "      <td>0.360704</td>\n",
              "      <td>0.926521</td>\n",
              "      <td>0.299354</td>\n",
              "      <td>209.026367</td>\n",
              "      <td>226.879215</td>\n",
              "    </tr>\n",
              "    <tr>\n",
              "      <th>3</th>\n",
              "      <td>0.486486</td>\n",
              "      <td>0.500000</td>\n",
              "      <td>0.872450</td>\n",
              "      <td>0.495566</td>\n",
              "      <td>0.461432</td>\n",
              "      <td>0.839140</td>\n",
              "      <td>0.779762</td>\n",
              "      <td>0.347507</td>\n",
              "      <td>0.826146</td>\n",
              "      <td>0.318574</td>\n",
              "      <td>236.305191</td>\n",
              "      <td>234.445538</td>\n",
              "    </tr>\n",
              "    <tr>\n",
              "      <th>4</th>\n",
              "      <td>0.554054</td>\n",
              "      <td>0.657143</td>\n",
              "      <td>0.990258</td>\n",
              "      <td>0.615461</td>\n",
              "      <td>0.510166</td>\n",
              "      <td>0.969761</td>\n",
              "      <td>0.886600</td>\n",
              "      <td>0.146628</td>\n",
              "      <td>0.924832</td>\n",
              "      <td>0.532523</td>\n",
              "      <td>256.930634</td>\n",
              "      <td>258.944596</td>\n",
              "    </tr>\n",
              "    <tr>\n",
              "      <th>...</th>\n",
              "      <td>...</td>\n",
              "      <td>...</td>\n",
              "      <td>...</td>\n",
              "      <td>...</td>\n",
              "      <td>...</td>\n",
              "      <td>...</td>\n",
              "      <td>...</td>\n",
              "      <td>...</td>\n",
              "      <td>...</td>\n",
              "      <td>...</td>\n",
              "      <td>...</td>\n",
              "      <td>...</td>\n",
              "    </tr>\n",
              "    <tr>\n",
              "      <th>3345</th>\n",
              "      <td>0.432432</td>\n",
              "      <td>0.500000</td>\n",
              "      <td>0.939084</td>\n",
              "      <td>0.456277</td>\n",
              "      <td>0.369689</td>\n",
              "      <td>0.913872</td>\n",
              "      <td>0.739583</td>\n",
              "      <td>0.153959</td>\n",
              "      <td>0.891124</td>\n",
              "      <td>0.282466</td>\n",
              "      <td>223.847702</td>\n",
              "      <td>231.664926</td>\n",
              "    </tr>\n",
              "    <tr>\n",
              "      <th>3346</th>\n",
              "      <td>0.243243</td>\n",
              "      <td>0.228571</td>\n",
              "      <td>0.886533</td>\n",
              "      <td>0.168152</td>\n",
              "      <td>0.164937</td>\n",
              "      <td>0.777223</td>\n",
              "      <td>0.617708</td>\n",
              "      <td>0.316716</td>\n",
              "      <td>0.812211</td>\n",
              "      <td>0.304521</td>\n",
              "      <td>197.920776</td>\n",
              "      <td>197.244037</td>\n",
              "    </tr>\n",
              "    <tr>\n",
              "      <th>3347</th>\n",
              "      <td>0.472973</td>\n",
              "      <td>0.557143</td>\n",
              "      <td>0.992055</td>\n",
              "      <td>0.525087</td>\n",
              "      <td>0.386452</td>\n",
              "      <td>0.933681</td>\n",
              "      <td>0.777590</td>\n",
              "      <td>0.055718</td>\n",
              "      <td>0.789905</td>\n",
              "      <td>0.414430</td>\n",
              "      <td>247.049225</td>\n",
              "      <td>235.201839</td>\n",
              "    </tr>\n",
              "    <tr>\n",
              "      <th>3348</th>\n",
              "      <td>0.216216</td>\n",
              "      <td>0.342857</td>\n",
              "      <td>0.822080</td>\n",
              "      <td>0.346352</td>\n",
              "      <td>0.256274</td>\n",
              "      <td>0.740619</td>\n",
              "      <td>0.662879</td>\n",
              "      <td>0.637830</td>\n",
              "      <td>0.603789</td>\n",
              "      <td>0.379939</td>\n",
              "      <td>204.680054</td>\n",
              "      <td>209.281580</td>\n",
              "    </tr>\n",
              "    <tr>\n",
              "      <th>3349</th>\n",
              "      <td>0.500000</td>\n",
              "      <td>0.542857</td>\n",
              "      <td>0.963817</td>\n",
              "      <td>0.498180</td>\n",
              "      <td>0.425230</td>\n",
              "      <td>0.962460</td>\n",
              "      <td>0.833333</td>\n",
              "      <td>0.104106</td>\n",
              "      <td>0.866249</td>\n",
              "      <td>0.416416</td>\n",
              "      <td>233.744019</td>\n",
              "      <td>237.554663</td>\n",
              "    </tr>\n",
              "  </tbody>\n",
              "</table>\n",
              "<p>3350 rows × 12 columns</p>\n",
              "</div>\n",
              "      <button class=\"colab-df-convert\" onclick=\"convertToInteractive('df-56a88f48-16c1-4401-b8e8-1f33914a0910')\"\n",
              "              title=\"Convert this dataframe to an interactive table.\"\n",
              "              style=\"display:none;\">\n",
              "        \n",
              "  <svg xmlns=\"http://www.w3.org/2000/svg\" height=\"24px\"viewBox=\"0 0 24 24\"\n",
              "       width=\"24px\">\n",
              "    <path d=\"M0 0h24v24H0V0z\" fill=\"none\"/>\n",
              "    <path d=\"M18.56 5.44l.94 2.06.94-2.06 2.06-.94-2.06-.94-.94-2.06-.94 2.06-2.06.94zm-11 1L8.5 8.5l.94-2.06 2.06-.94-2.06-.94L8.5 2.5l-.94 2.06-2.06.94zm10 10l.94 2.06.94-2.06 2.06-.94-2.06-.94-.94-2.06-.94 2.06-2.06.94z\"/><path d=\"M17.41 7.96l-1.37-1.37c-.4-.4-.92-.59-1.43-.59-.52 0-1.04.2-1.43.59L10.3 9.45l-7.72 7.72c-.78.78-.78 2.05 0 2.83L4 21.41c.39.39.9.59 1.41.59.51 0 1.02-.2 1.41-.59l7.78-7.78 2.81-2.81c.8-.78.8-2.07 0-2.86zM5.41 20L4 18.59l7.72-7.72 1.47 1.35L5.41 20z\"/>\n",
              "  </svg>\n",
              "      </button>\n",
              "      \n",
              "  <style>\n",
              "    .colab-df-container {\n",
              "      display:flex;\n",
              "      flex-wrap:wrap;\n",
              "      gap: 12px;\n",
              "    }\n",
              "\n",
              "    .colab-df-convert {\n",
              "      background-color: #E8F0FE;\n",
              "      border: none;\n",
              "      border-radius: 50%;\n",
              "      cursor: pointer;\n",
              "      display: none;\n",
              "      fill: #1967D2;\n",
              "      height: 32px;\n",
              "      padding: 0 0 0 0;\n",
              "      width: 32px;\n",
              "    }\n",
              "\n",
              "    .colab-df-convert:hover {\n",
              "      background-color: #E2EBFA;\n",
              "      box-shadow: 0px 1px 2px rgba(60, 64, 67, 0.3), 0px 1px 3px 1px rgba(60, 64, 67, 0.15);\n",
              "      fill: #174EA6;\n",
              "    }\n",
              "\n",
              "    [theme=dark] .colab-df-convert {\n",
              "      background-color: #3B4455;\n",
              "      fill: #D2E3FC;\n",
              "    }\n",
              "\n",
              "    [theme=dark] .colab-df-convert:hover {\n",
              "      background-color: #434B5C;\n",
              "      box-shadow: 0px 1px 3px 1px rgba(0, 0, 0, 0.15);\n",
              "      filter: drop-shadow(0px 1px 2px rgba(0, 0, 0, 0.3));\n",
              "      fill: #FFFFFF;\n",
              "    }\n",
              "  </style>\n",
              "\n",
              "      <script>\n",
              "        const buttonEl =\n",
              "          document.querySelector('#df-56a88f48-16c1-4401-b8e8-1f33914a0910 button.colab-df-convert');\n",
              "        buttonEl.style.display =\n",
              "          google.colab.kernel.accessAllowed ? 'block' : 'none';\n",
              "\n",
              "        async function convertToInteractive(key) {\n",
              "          const element = document.querySelector('#df-56a88f48-16c1-4401-b8e8-1f33914a0910');\n",
              "          const dataTable =\n",
              "            await google.colab.kernel.invokeFunction('convertToInteractive',\n",
              "                                                     [key], {});\n",
              "          if (!dataTable) return;\n",
              "\n",
              "          const docLinkHtml = 'Like what you see? Visit the ' +\n",
              "            '<a target=\"_blank\" href=https://colab.research.google.com/notebooks/data_table.ipynb>data table notebook</a>'\n",
              "            + ' to learn more about interactive tables.';\n",
              "          element.innerHTML = '';\n",
              "          dataTable['output_type'] = 'display_data';\n",
              "          await google.colab.output.renderOutput(dataTable, element);\n",
              "          const docLink = document.createElement('div');\n",
              "          docLink.innerHTML = docLinkHtml;\n",
              "          element.appendChild(docLink);\n",
              "        }\n",
              "      </script>\n",
              "    </div>\n",
              "  </div>\n",
              "  "
            ]
          },
          "metadata": {},
          "execution_count": 35
        }
      ]
    },
    {
      "cell_type": "code",
      "source": [
        "predi_model_teste = predict_model(gbr, data=data_test)\n",
        "predi_model_teste"
      ],
      "metadata": {
        "colab": {
          "base_uri": "https://localhost:8080/",
          "height": 507
        },
        "id": "sDwdDEMVO1g0",
        "outputId": "0a9507f3-ecaa-4dea-ded1-d3d11f32dd1b"
      },
      "execution_count": null,
      "outputs": [
        {
          "output_type": "display_data",
          "data": {
            "text/plain": [
              "                         Model     MAE      MSE    RMSE      R2  RMSLE    MAPE\n",
              "0  Gradient Boosting Regressor  7.0979  83.8613  9.1576  0.8333   0.04  0.0313"
            ],
            "text/html": [
              "\n",
              "  <div id=\"df-567a20a7-a79a-42b3-af14-af30dd6cdd5a\">\n",
              "    <div class=\"colab-df-container\">\n",
              "      <div>\n",
              "<style scoped>\n",
              "    .dataframe tbody tr th:only-of-type {\n",
              "        vertical-align: middle;\n",
              "    }\n",
              "\n",
              "    .dataframe tbody tr th {\n",
              "        vertical-align: top;\n",
              "    }\n",
              "\n",
              "    .dataframe thead th {\n",
              "        text-align: right;\n",
              "    }\n",
              "</style>\n",
              "<table border=\"1\" class=\"dataframe\">\n",
              "  <thead>\n",
              "    <tr style=\"text-align: right;\">\n",
              "      <th></th>\n",
              "      <th>Model</th>\n",
              "      <th>MAE</th>\n",
              "      <th>MSE</th>\n",
              "      <th>RMSE</th>\n",
              "      <th>R2</th>\n",
              "      <th>RMSLE</th>\n",
              "      <th>MAPE</th>\n",
              "    </tr>\n",
              "  </thead>\n",
              "  <tbody>\n",
              "    <tr>\n",
              "      <th>0</th>\n",
              "      <td>Gradient Boosting Regressor</td>\n",
              "      <td>7.0979</td>\n",
              "      <td>83.8613</td>\n",
              "      <td>9.1576</td>\n",
              "      <td>0.8333</td>\n",
              "      <td>0.04</td>\n",
              "      <td>0.0313</td>\n",
              "    </tr>\n",
              "  </tbody>\n",
              "</table>\n",
              "</div>\n",
              "      <button class=\"colab-df-convert\" onclick=\"convertToInteractive('df-567a20a7-a79a-42b3-af14-af30dd6cdd5a')\"\n",
              "              title=\"Convert this dataframe to an interactive table.\"\n",
              "              style=\"display:none;\">\n",
              "        \n",
              "  <svg xmlns=\"http://www.w3.org/2000/svg\" height=\"24px\"viewBox=\"0 0 24 24\"\n",
              "       width=\"24px\">\n",
              "    <path d=\"M0 0h24v24H0V0z\" fill=\"none\"/>\n",
              "    <path d=\"M18.56 5.44l.94 2.06.94-2.06 2.06-.94-2.06-.94-.94-2.06-.94 2.06-2.06.94zm-11 1L8.5 8.5l.94-2.06 2.06-.94-2.06-.94L8.5 2.5l-.94 2.06-2.06.94zm10 10l.94 2.06.94-2.06 2.06-.94-2.06-.94-.94-2.06-.94 2.06-2.06.94z\"/><path d=\"M17.41 7.96l-1.37-1.37c-.4-.4-.92-.59-1.43-.59-.52 0-1.04.2-1.43.59L10.3 9.45l-7.72 7.72c-.78.78-.78 2.05 0 2.83L4 21.41c.39.39.9.59 1.41.59.51 0 1.02-.2 1.41-.59l7.78-7.78 2.81-2.81c.8-.78.8-2.07 0-2.86zM5.41 20L4 18.59l7.72-7.72 1.47 1.35L5.41 20z\"/>\n",
              "  </svg>\n",
              "      </button>\n",
              "      \n",
              "  <style>\n",
              "    .colab-df-container {\n",
              "      display:flex;\n",
              "      flex-wrap:wrap;\n",
              "      gap: 12px;\n",
              "    }\n",
              "\n",
              "    .colab-df-convert {\n",
              "      background-color: #E8F0FE;\n",
              "      border: none;\n",
              "      border-radius: 50%;\n",
              "      cursor: pointer;\n",
              "      display: none;\n",
              "      fill: #1967D2;\n",
              "      height: 32px;\n",
              "      padding: 0 0 0 0;\n",
              "      width: 32px;\n",
              "    }\n",
              "\n",
              "    .colab-df-convert:hover {\n",
              "      background-color: #E2EBFA;\n",
              "      box-shadow: 0px 1px 2px rgba(60, 64, 67, 0.3), 0px 1px 3px 1px rgba(60, 64, 67, 0.15);\n",
              "      fill: #174EA6;\n",
              "    }\n",
              "\n",
              "    [theme=dark] .colab-df-convert {\n",
              "      background-color: #3B4455;\n",
              "      fill: #D2E3FC;\n",
              "    }\n",
              "\n",
              "    [theme=dark] .colab-df-convert:hover {\n",
              "      background-color: #434B5C;\n",
              "      box-shadow: 0px 1px 3px 1px rgba(0, 0, 0, 0.15);\n",
              "      filter: drop-shadow(0px 1px 2px rgba(0, 0, 0, 0.3));\n",
              "      fill: #FFFFFF;\n",
              "    }\n",
              "  </style>\n",
              "\n",
              "      <script>\n",
              "        const buttonEl =\n",
              "          document.querySelector('#df-567a20a7-a79a-42b3-af14-af30dd6cdd5a button.colab-df-convert');\n",
              "        buttonEl.style.display =\n",
              "          google.colab.kernel.accessAllowed ? 'block' : 'none';\n",
              "\n",
              "        async function convertToInteractive(key) {\n",
              "          const element = document.querySelector('#df-567a20a7-a79a-42b3-af14-af30dd6cdd5a');\n",
              "          const dataTable =\n",
              "            await google.colab.kernel.invokeFunction('convertToInteractive',\n",
              "                                                     [key], {});\n",
              "          if (!dataTable) return;\n",
              "\n",
              "          const docLinkHtml = 'Like what you see? Visit the ' +\n",
              "            '<a target=\"_blank\" href=https://colab.research.google.com/notebooks/data_table.ipynb>data table notebook</a>'\n",
              "            + ' to learn more about interactive tables.';\n",
              "          element.innerHTML = '';\n",
              "          dataTable['output_type'] = 'display_data';\n",
              "          await google.colab.output.renderOutput(dataTable, element);\n",
              "          const docLink = document.createElement('div');\n",
              "          docLink.innerHTML = docLinkHtml;\n",
              "          element.appendChild(docLink);\n",
              "        }\n",
              "      </script>\n",
              "    </div>\n",
              "  </div>\n",
              "  "
            ]
          },
          "metadata": {}
        },
        {
          "output_type": "execute_result",
          "data": {
            "text/plain": [
              "      ideb_2015_ideb  ideb_2017_ideb  ideb_2019_indicador_rendimento  \\\n",
              "0                4.2             5.3                        0.933664   \n",
              "1                5.7             5.8                        0.983606   \n",
              "2                7.6             7.9                        0.980807   \n",
              "3                5.9             6.6                        1.000000   \n",
              "4                6.1             6.5                        0.985558   \n",
              "...              ...             ...                             ...   \n",
              "3345             4.4             4.9                        0.902910   \n",
              "3346             4.1             3.6                        0.924585   \n",
              "3347             4.5             3.6                        0.870891   \n",
              "3348             7.0             7.5                        0.996347   \n",
              "3349             6.2             7.0                        0.998592   \n",
              "\n",
              "      ideb_2017_nota_saeb_media_padronizada  \\\n",
              "0                                  5.976847   \n",
              "1                                  6.037207   \n",
              "2                                  8.289673   \n",
              "3                                  6.712805   \n",
              "4                                  6.565507   \n",
              "...                                     ...   \n",
              "3345                               5.313627   \n",
              "3346                               4.401137   \n",
              "3347                               4.609154   \n",
              "3348                               7.543629   \n",
              "3349                               6.995937   \n",
              "\n",
              "      ideb_2015_nota_saeb_media_padronizada  ideb_2017_indicador_rendimento  \\\n",
              "0                                  4.991741                        0.892854   \n",
              "1                                  5.932558                        0.963198   \n",
              "2                                  7.874890                        0.958912   \n",
              "3                                  6.008362                        0.976826   \n",
              "4                                  6.323041                        0.988525   \n",
              "...                                     ...                             ...   \n",
              "3345                               4.970264                        0.928162   \n",
              "3346                               4.302431                        0.826143   \n",
              "3347                               5.043770                        0.790983   \n",
              "3348                               7.085975                        0.991094   \n",
              "3349                               6.250866                        1.000000   \n",
              "\n",
              "      tempo_lazer_2019  inep_2019_tdi_ef_5_ano  engajamento_responsaveis_2019  \\\n",
              "0             1.098592                    19.7                       2.404930   \n",
              "1             1.576923                     7.7                       2.725962   \n",
              "2             1.779070                     5.5                       2.747093   \n",
              "3             1.380952                    12.1                       2.583333   \n",
              "4             1.842857                     9.2                       2.878571   \n",
              "...                ...                     ...                            ...   \n",
              "3345          1.346535                    16.7                       2.440594   \n",
              "3346          1.338028                    22.7                       2.570423   \n",
              "3347          0.961538                    41.7                       2.725962   \n",
              "3348          1.762712                     0.0                       2.805085   \n",
              "3349          1.554745                     3.6                       2.664234   \n",
              "\n",
              "      idade_entrada_escola_2019  desempenho_MT_5ano_2019       Label  \n",
              "0                      1.154930               206.353100  210.921219  \n",
              "1                      0.634615               226.573946  229.768074  \n",
              "2                      0.860465               288.757271  283.646442  \n",
              "3                      0.619048               229.776904  237.328709  \n",
              "4                      0.671429               245.104993  250.273144  \n",
              "...                         ...                      ...         ...  \n",
              "3345                   1.019802               202.719689  206.980674  \n",
              "3346                   1.056338               197.160554  197.535601  \n",
              "3347                   1.096154               190.288233  189.960558  \n",
              "3348                   1.338983               269.269044  262.128265  \n",
              "3349                   1.459854               242.354441  241.226240  \n",
              "\n",
              "[3350 rows x 12 columns]"
            ],
            "text/html": [
              "\n",
              "  <div id=\"df-41e6c525-19ce-4868-a691-d04a5d17ca14\">\n",
              "    <div class=\"colab-df-container\">\n",
              "      <div>\n",
              "<style scoped>\n",
              "    .dataframe tbody tr th:only-of-type {\n",
              "        vertical-align: middle;\n",
              "    }\n",
              "\n",
              "    .dataframe tbody tr th {\n",
              "        vertical-align: top;\n",
              "    }\n",
              "\n",
              "    .dataframe thead th {\n",
              "        text-align: right;\n",
              "    }\n",
              "</style>\n",
              "<table border=\"1\" class=\"dataframe\">\n",
              "  <thead>\n",
              "    <tr style=\"text-align: right;\">\n",
              "      <th></th>\n",
              "      <th>ideb_2015_ideb</th>\n",
              "      <th>ideb_2017_ideb</th>\n",
              "      <th>ideb_2019_indicador_rendimento</th>\n",
              "      <th>ideb_2017_nota_saeb_media_padronizada</th>\n",
              "      <th>ideb_2015_nota_saeb_media_padronizada</th>\n",
              "      <th>ideb_2017_indicador_rendimento</th>\n",
              "      <th>tempo_lazer_2019</th>\n",
              "      <th>inep_2019_tdi_ef_5_ano</th>\n",
              "      <th>engajamento_responsaveis_2019</th>\n",
              "      <th>idade_entrada_escola_2019</th>\n",
              "      <th>desempenho_MT_5ano_2019</th>\n",
              "      <th>Label</th>\n",
              "    </tr>\n",
              "  </thead>\n",
              "  <tbody>\n",
              "    <tr>\n",
              "      <th>0</th>\n",
              "      <td>4.2</td>\n",
              "      <td>5.3</td>\n",
              "      <td>0.933664</td>\n",
              "      <td>5.976847</td>\n",
              "      <td>4.991741</td>\n",
              "      <td>0.892854</td>\n",
              "      <td>1.098592</td>\n",
              "      <td>19.7</td>\n",
              "      <td>2.404930</td>\n",
              "      <td>1.154930</td>\n",
              "      <td>206.353100</td>\n",
              "      <td>210.921219</td>\n",
              "    </tr>\n",
              "    <tr>\n",
              "      <th>1</th>\n",
              "      <td>5.7</td>\n",
              "      <td>5.8</td>\n",
              "      <td>0.983606</td>\n",
              "      <td>6.037207</td>\n",
              "      <td>5.932558</td>\n",
              "      <td>0.963198</td>\n",
              "      <td>1.576923</td>\n",
              "      <td>7.7</td>\n",
              "      <td>2.725962</td>\n",
              "      <td>0.634615</td>\n",
              "      <td>226.573946</td>\n",
              "      <td>229.768074</td>\n",
              "    </tr>\n",
              "    <tr>\n",
              "      <th>2</th>\n",
              "      <td>7.6</td>\n",
              "      <td>7.9</td>\n",
              "      <td>0.980807</td>\n",
              "      <td>8.289673</td>\n",
              "      <td>7.874890</td>\n",
              "      <td>0.958912</td>\n",
              "      <td>1.779070</td>\n",
              "      <td>5.5</td>\n",
              "      <td>2.747093</td>\n",
              "      <td>0.860465</td>\n",
              "      <td>288.757271</td>\n",
              "      <td>283.646442</td>\n",
              "    </tr>\n",
              "    <tr>\n",
              "      <th>3</th>\n",
              "      <td>5.9</td>\n",
              "      <td>6.6</td>\n",
              "      <td>1.000000</td>\n",
              "      <td>6.712805</td>\n",
              "      <td>6.008362</td>\n",
              "      <td>0.976826</td>\n",
              "      <td>1.380952</td>\n",
              "      <td>12.1</td>\n",
              "      <td>2.583333</td>\n",
              "      <td>0.619048</td>\n",
              "      <td>229.776904</td>\n",
              "      <td>237.328709</td>\n",
              "    </tr>\n",
              "    <tr>\n",
              "      <th>4</th>\n",
              "      <td>6.1</td>\n",
              "      <td>6.5</td>\n",
              "      <td>0.985558</td>\n",
              "      <td>6.565507</td>\n",
              "      <td>6.323041</td>\n",
              "      <td>0.988525</td>\n",
              "      <td>1.842857</td>\n",
              "      <td>9.2</td>\n",
              "      <td>2.878571</td>\n",
              "      <td>0.671429</td>\n",
              "      <td>245.104993</td>\n",
              "      <td>250.273144</td>\n",
              "    </tr>\n",
              "    <tr>\n",
              "      <th>...</th>\n",
              "      <td>...</td>\n",
              "      <td>...</td>\n",
              "      <td>...</td>\n",
              "      <td>...</td>\n",
              "      <td>...</td>\n",
              "      <td>...</td>\n",
              "      <td>...</td>\n",
              "      <td>...</td>\n",
              "      <td>...</td>\n",
              "      <td>...</td>\n",
              "      <td>...</td>\n",
              "      <td>...</td>\n",
              "    </tr>\n",
              "    <tr>\n",
              "      <th>3345</th>\n",
              "      <td>4.4</td>\n",
              "      <td>4.9</td>\n",
              "      <td>0.902910</td>\n",
              "      <td>5.313627</td>\n",
              "      <td>4.970264</td>\n",
              "      <td>0.928162</td>\n",
              "      <td>1.346535</td>\n",
              "      <td>16.7</td>\n",
              "      <td>2.440594</td>\n",
              "      <td>1.019802</td>\n",
              "      <td>202.719689</td>\n",
              "      <td>206.980674</td>\n",
              "    </tr>\n",
              "    <tr>\n",
              "      <th>3346</th>\n",
              "      <td>4.1</td>\n",
              "      <td>3.6</td>\n",
              "      <td>0.924585</td>\n",
              "      <td>4.401137</td>\n",
              "      <td>4.302431</td>\n",
              "      <td>0.826143</td>\n",
              "      <td>1.338028</td>\n",
              "      <td>22.7</td>\n",
              "      <td>2.570423</td>\n",
              "      <td>1.056338</td>\n",
              "      <td>197.160554</td>\n",
              "      <td>197.535601</td>\n",
              "    </tr>\n",
              "    <tr>\n",
              "      <th>3347</th>\n",
              "      <td>4.5</td>\n",
              "      <td>3.6</td>\n",
              "      <td>0.870891</td>\n",
              "      <td>4.609154</td>\n",
              "      <td>5.043770</td>\n",
              "      <td>0.790983</td>\n",
              "      <td>0.961538</td>\n",
              "      <td>41.7</td>\n",
              "      <td>2.725962</td>\n",
              "      <td>1.096154</td>\n",
              "      <td>190.288233</td>\n",
              "      <td>189.960558</td>\n",
              "    </tr>\n",
              "    <tr>\n",
              "      <th>3348</th>\n",
              "      <td>7.0</td>\n",
              "      <td>7.5</td>\n",
              "      <td>0.996347</td>\n",
              "      <td>7.543629</td>\n",
              "      <td>7.085975</td>\n",
              "      <td>0.991094</td>\n",
              "      <td>1.762712</td>\n",
              "      <td>0.0</td>\n",
              "      <td>2.805085</td>\n",
              "      <td>1.338983</td>\n",
              "      <td>269.269044</td>\n",
              "      <td>262.128265</td>\n",
              "    </tr>\n",
              "    <tr>\n",
              "      <th>3349</th>\n",
              "      <td>6.2</td>\n",
              "      <td>7.0</td>\n",
              "      <td>0.998592</td>\n",
              "      <td>6.995937</td>\n",
              "      <td>6.250866</td>\n",
              "      <td>1.000000</td>\n",
              "      <td>1.554745</td>\n",
              "      <td>3.6</td>\n",
              "      <td>2.664234</td>\n",
              "      <td>1.459854</td>\n",
              "      <td>242.354441</td>\n",
              "      <td>241.226240</td>\n",
              "    </tr>\n",
              "  </tbody>\n",
              "</table>\n",
              "<p>3350 rows × 12 columns</p>\n",
              "</div>\n",
              "      <button class=\"colab-df-convert\" onclick=\"convertToInteractive('df-41e6c525-19ce-4868-a691-d04a5d17ca14')\"\n",
              "              title=\"Convert this dataframe to an interactive table.\"\n",
              "              style=\"display:none;\">\n",
              "        \n",
              "  <svg xmlns=\"http://www.w3.org/2000/svg\" height=\"24px\"viewBox=\"0 0 24 24\"\n",
              "       width=\"24px\">\n",
              "    <path d=\"M0 0h24v24H0V0z\" fill=\"none\"/>\n",
              "    <path d=\"M18.56 5.44l.94 2.06.94-2.06 2.06-.94-2.06-.94-.94-2.06-.94 2.06-2.06.94zm-11 1L8.5 8.5l.94-2.06 2.06-.94-2.06-.94L8.5 2.5l-.94 2.06-2.06.94zm10 10l.94 2.06.94-2.06 2.06-.94-2.06-.94-.94-2.06-.94 2.06-2.06.94z\"/><path d=\"M17.41 7.96l-1.37-1.37c-.4-.4-.92-.59-1.43-.59-.52 0-1.04.2-1.43.59L10.3 9.45l-7.72 7.72c-.78.78-.78 2.05 0 2.83L4 21.41c.39.39.9.59 1.41.59.51 0 1.02-.2 1.41-.59l7.78-7.78 2.81-2.81c.8-.78.8-2.07 0-2.86zM5.41 20L4 18.59l7.72-7.72 1.47 1.35L5.41 20z\"/>\n",
              "  </svg>\n",
              "      </button>\n",
              "      \n",
              "  <style>\n",
              "    .colab-df-container {\n",
              "      display:flex;\n",
              "      flex-wrap:wrap;\n",
              "      gap: 12px;\n",
              "    }\n",
              "\n",
              "    .colab-df-convert {\n",
              "      background-color: #E8F0FE;\n",
              "      border: none;\n",
              "      border-radius: 50%;\n",
              "      cursor: pointer;\n",
              "      display: none;\n",
              "      fill: #1967D2;\n",
              "      height: 32px;\n",
              "      padding: 0 0 0 0;\n",
              "      width: 32px;\n",
              "    }\n",
              "\n",
              "    .colab-df-convert:hover {\n",
              "      background-color: #E2EBFA;\n",
              "      box-shadow: 0px 1px 2px rgba(60, 64, 67, 0.3), 0px 1px 3px 1px rgba(60, 64, 67, 0.15);\n",
              "      fill: #174EA6;\n",
              "    }\n",
              "\n",
              "    [theme=dark] .colab-df-convert {\n",
              "      background-color: #3B4455;\n",
              "      fill: #D2E3FC;\n",
              "    }\n",
              "\n",
              "    [theme=dark] .colab-df-convert:hover {\n",
              "      background-color: #434B5C;\n",
              "      box-shadow: 0px 1px 3px 1px rgba(0, 0, 0, 0.15);\n",
              "      filter: drop-shadow(0px 1px 2px rgba(0, 0, 0, 0.3));\n",
              "      fill: #FFFFFF;\n",
              "    }\n",
              "  </style>\n",
              "\n",
              "      <script>\n",
              "        const buttonEl =\n",
              "          document.querySelector('#df-41e6c525-19ce-4868-a691-d04a5d17ca14 button.colab-df-convert');\n",
              "        buttonEl.style.display =\n",
              "          google.colab.kernel.accessAllowed ? 'block' : 'none';\n",
              "\n",
              "        async function convertToInteractive(key) {\n",
              "          const element = document.querySelector('#df-41e6c525-19ce-4868-a691-d04a5d17ca14');\n",
              "          const dataTable =\n",
              "            await google.colab.kernel.invokeFunction('convertToInteractive',\n",
              "                                                     [key], {});\n",
              "          if (!dataTable) return;\n",
              "\n",
              "          const docLinkHtml = 'Like what you see? Visit the ' +\n",
              "            '<a target=\"_blank\" href=https://colab.research.google.com/notebooks/data_table.ipynb>data table notebook</a>'\n",
              "            + ' to learn more about interactive tables.';\n",
              "          element.innerHTML = '';\n",
              "          dataTable['output_type'] = 'display_data';\n",
              "          await google.colab.output.renderOutput(dataTable, element);\n",
              "          const docLink = document.createElement('div');\n",
              "          docLink.innerHTML = docLinkHtml;\n",
              "          element.appendChild(docLink);\n",
              "        }\n",
              "      </script>\n",
              "    </div>\n",
              "  </div>\n",
              "  "
            ]
          },
          "metadata": {},
          "execution_count": 36
        }
      ]
    },
    {
      "cell_type": "markdown",
      "source": [
        "**Usando modelos emsemble com os atributos e o target normalizados**"
      ],
      "metadata": {
        "id": "QSU2k85tPGv2"
      }
    },
    {
      "cell_type": "code",
      "source": [
        "df.shape"
      ],
      "metadata": {
        "colab": {
          "base_uri": "https://localhost:8080/"
        },
        "id": "BIEnnfr3PRKW",
        "outputId": "1db94c81-b524-4fa8-9df2-6896d5922e21"
      },
      "execution_count": null,
      "outputs": [
        {
          "output_type": "execute_result",
          "data": {
            "text/plain": [
              "(11166, 234)"
            ]
          },
          "metadata": {},
          "execution_count": 4
        }
      ]
    },
    {
      "cell_type": "code",
      "source": [
        "dfnovo=df.copy()"
      ],
      "metadata": {
        "id": "GrGKtsxNPWLY"
      },
      "execution_count": null,
      "outputs": []
    },
    {
      "cell_type": "code",
      "source": [
        "from sklearn.preprocessing import MinMaxScaler\n",
        "escalonamentodfnovo = MinMaxScaler(feature_range= (0,1))\n",
        "dfnovo = pd.DataFrame(escalonamentodfnovo.fit_transform(dfnovo), columns=dfnovo.columns)"
      ],
      "metadata": {
        "id": "OgfCG57oPdTM"
      },
      "execution_count": null,
      "outputs": []
    },
    {
      "cell_type": "code",
      "source": [
        "Xnovo = dfnovo[['ideb_2015_ideb', 'ideb_2017_ideb', 'ideb_2019_indicador_rendimento', 'ideb_2017_nota_saeb_media_padronizada', 'ideb_2015_nota_saeb_media_padronizada',\n",
        "'ideb_2017_indicador_rendimento', 'tempo_lazer_2019', 'inep_2019_tdi_ef_5_ano', 'engajamento_responsaveis_2019', 'idade_entrada_escola_2019']]"
      ],
      "metadata": {
        "id": "gXRVmyGTPndt"
      },
      "execution_count": null,
      "outputs": []
    },
    {
      "cell_type": "code",
      "source": [
        "ynovo = dfnovo['desempenho_MT_5ano_2019']"
      ],
      "metadata": {
        "id": "7v1PDX3hP_Al"
      },
      "execution_count": null,
      "outputs": []
    },
    {
      "cell_type": "code",
      "source": [
        "X_trainn, X_testn, y_trainn, y_testn = train_test_split(Xnovo, ynovo, test_size=0.3, random_state=0)\n",
        "X_trainn.shape, X_testn.shape"
      ],
      "metadata": {
        "colab": {
          "base_uri": "https://localhost:8080/"
        },
        "id": "6AT-QlYEQLiC",
        "outputId": "c32d5dcb-e20f-4da5-e9c5-00071e66df6d"
      },
      "execution_count": null,
      "outputs": [
        {
          "output_type": "execute_result",
          "data": {
            "text/plain": [
              "((7816, 10), (3350, 10))"
            ]
          },
          "metadata": {},
          "execution_count": 9
        }
      ]
    },
    {
      "cell_type": "code",
      "source": [
        "ytestereg = ereg.predict(X_testn)"
      ],
      "metadata": {
        "id": "12_1tOZFSu10"
      },
      "execution_count": null,
      "outputs": []
    },
    {
      "cell_type": "code",
      "source": [
        "r2_score(y_testn, ytestereg)"
      ],
      "metadata": {
        "colab": {
          "base_uri": "https://localhost:8080/"
        },
        "id": "KUtZzZNcS7u1",
        "outputId": "9b02086b-29fb-4424-b4d1-4a6516ba1a8b"
      },
      "execution_count": null,
      "outputs": [
        {
          "output_type": "execute_result",
          "data": {
            "text/plain": [
              "0.802759453516282"
            ]
          },
          "metadata": {},
          "execution_count": 20
        }
      ]
    },
    {
      "cell_type": "code",
      "source": [
        "from xgboost import XGBRegressor\n",
        "from sklearn.model_selection import GridSearchCV\n",
        "from sklearn.metrics import mean_absolute_error, mean_squared_error, r2_score\n",
        "xgb1 = XGBRegressor()\n",
        "parameters = {\n",
        "              'objective':['reg:squarederror'],\n",
        "              'learning_rate': [.0001, 0.001, .01],\n",
        "              'max_depth': [3, 5, 7],\n",
        "              'min_child_weight': [3,5,7],\n",
        "              'subsample': [0.1,0.5,1.0],\n",
        "              'colsample_bytree': [0.1, 0.5, 1.0],\n",
        "              'n_estimators': [500]}\n",
        "\n",
        "xgb_grid = GridSearchCV(xgb1,\n",
        "                        parameters,\n",
        "                        cv = 3,\n",
        "                        n_jobs = -1,\n",
        "                        verbose=0)\n",
        "\n",
        "xgb_grid.fit(X_train, y_train)\n",
        "\n",
        "xgb_cv = (xgb_grid.best_estimator_)\n",
        "\n",
        "eval_set = [(X_train, y_train),\n",
        "            (X_test, y_test)]\n",
        "\n",
        "fit_model = xgb_cv.fit(\n",
        "    X_train,\n",
        "    y_train,\n",
        "    eval_set=eval_set,\n",
        "    eval_metric='mse',\n",
        "    early_stopping_rounds=50,\n",
        "    verbose=False)\n",
        "\n",
        "print(\"MAE:\", mean_absolute_error(y_test, fit_model.predict(X_test)))\n",
        "print(\"MSE:\", mean_squared_error(y_test, fit_model.predict(X_test)))\n",
        "print(\"R2:\", r2_score(y_test, fit_model.predict(X_test)))"
      ],
      "metadata": {
        "id": "deRXZY_lfaIv"
      },
      "execution_count": null,
      "outputs": []
    }
  ]
}